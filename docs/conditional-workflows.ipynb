{
 "cells": [
  {
   "cell_type": "markdown",
   "metadata": {},
   "source": [
    "\n",
    "# How-to Guide: Using Conditional Workflows\n",
    "\n",
    "This guide explains how to create workflows with conditional execution using `when` and `pickValue`. \n",
    "\n",
    "These features allow tasks to run conditionally based on inputs and dynamically select outputs."
   ]
  },
  {
   "cell_type": "markdown",
   "metadata": {},
   "source": [
    "## Objective\n",
    "\n",
    "1. Process raster files using `rio_stack` if the EPSG code is `\"native\"`.\n",
    "2. Use `rio_warp_stack` if the EPSG code is not `\"native\"`.\n",
    "3. Dynamically choose the appropriate output using `pickValue: the_only_non_null`."
   ]
  },
  {
   "cell_type": "markdown",
   "metadata": {},
   "source": [
    "## Key Features\n",
    "\n",
    "1. Conditional Execution with `when`\n",
    "\n",
    "The `when` field controls whether a step is executed based on an input condition."
   ]
  },
  {
   "cell_type": "code",
   "execution_count": 1,
   "metadata": {
    "vscode": {
     "languageId": "shellscript"
    }
   },
   "outputs": [
    {
     "name": "stdout",
     "output_type": "stream",
     "text": [
      "\u001b[36mwhen\u001b[0m:\u001b[32m $( inputs.epsg_code == \"native\")\u001b[0m\n",
      "\u001b[36mwhen\u001b[0m:\u001b[32m $( inputs.epsg_code != \"native\")\u001b[0m\n"
     ]
    }
   ],
   "source": [
    "cwl_file=\"../cwl/08-conditional-workflows/conditional-workflows.cwl\"\n",
    "\n",
    "yq '.. | select(has(\"when\")) | {\"when\": .when}' $cwl_file\n"
   ]
  },
  {
   "cell_type": "markdown",
   "metadata": {},
   "source": [
    "* Executes the step only if the condition evaluates to true."
   ]
  },
  {
   "cell_type": "markdown",
   "metadata": {},
   "source": [
    "2. Dynamic Output Selection with `pickValue`\n",
    "\n",
    "The `pickValue` field determines how to handle multiple output sources."
   ]
  },
  {
   "cell_type": "code",
   "execution_count": 2,
   "metadata": {
    "vscode": {
     "languageId": "shellscript"
    }
   },
   "outputs": [
    {
     "name": "stdout",
     "output_type": "stream",
     "text": [
      "\u001b[36mpickValue\u001b[0m:\u001b[32m the_only_non_null\u001b[0m\n",
      "\u001b[36mpickValue\u001b[0m:\u001b[32m the_only_non_null\u001b[0m\n"
     ]
    }
   ],
   "source": [
    "yq '.. | select(has(\"pickValue\")) | {\"pickValue\": .pickValue}' $cwl_file"
   ]
  },
  {
   "cell_type": "markdown",
   "metadata": {},
   "source": [
    "* Selects the only non-null value from the list of outputs.\n",
    "* Ensures only one output is passed downstream."
   ]
  },
  {
   "cell_type": "markdown",
   "metadata": {},
   "source": [
    "## Steps\n",
    "\n",
    "1. Define the Workflow\n",
    "\n",
    "**Workflow Inputs and Outputs**\n",
    "\n",
    "The workflow accepts:\n",
    "\n",
    "* `stac-item`: A STAC item URL.\n",
    "* `epsg_code`: EPSG code for projection (`default: \"native\"`).\n",
    "* `bands`: An array of band names (e.g., `[\"red\", \"green\", \"blue\"]`).\n",
    "\n",
    "**Workflow Definition**"
   ]
  },
  {
   "cell_type": "code",
   "execution_count": 3,
   "metadata": {
    "vscode": {
     "languageId": "shellscript"
    }
   },
   "outputs": [
    {
     "name": "stdout",
     "output_type": "stream",
     "text": [
      "\u001b[36mcwlVersion\u001b[0m:\u001b[32m v1.2\u001b[0m\n",
      "\u001b[32m\u001b[0m\u001b[36m$graph\u001b[0m:\n",
      "  -\u001b[36m class\u001b[0m:\u001b[32m Workflow\u001b[0m\n",
      "\u001b[32m    \u001b[0m\u001b[36mid\u001b[0m:\u001b[32m main\u001b[0m\n",
      "\u001b[32m    \u001b[0m\u001b[36mrequirements\u001b[0m:\u001b[36m\u001b[0m\n",
      "\u001b[36m      InlineJavascriptRequirement\u001b[0m: {}\u001b[36m\u001b[0m\n",
      "\u001b[36m      NetworkAccess\u001b[0m:\u001b[36m\u001b[0m\n",
      "\u001b[36m        networkAccess\u001b[0m:\u001b[95m true\u001b[0m\n",
      "\u001b[95m      \u001b[0m\u001b[36mScatterFeatureRequirement\u001b[0m: {}\u001b[36m\u001b[0m\n",
      "\u001b[36m      MultipleInputFeatureRequirement\u001b[0m: {}\u001b[36m\u001b[0m\n",
      "\u001b[36m    inputs\u001b[0m:\u001b[36m\u001b[0m\n",
      "\u001b[36m      stac-item\u001b[0m:\u001b[36m\u001b[0m\n",
      "\u001b[36m        type\u001b[0m:\u001b[32m string\u001b[0m\n",
      "\u001b[32m      \u001b[0m\u001b[36mepsg_code\u001b[0m:\u001b[36m\u001b[0m\n",
      "\u001b[36m        type\u001b[0m:\u001b[32m string\u001b[0m\n",
      "\u001b[32m        \u001b[0m\u001b[36mdefault\u001b[0m:\u001b[32m \"native\"\u001b[0m\u001b[36m\u001b[0m\n",
      "\u001b[36m      bands\u001b[0m:\u001b[36m\u001b[0m\n",
      "\u001b[36m        type\u001b[0m:\u001b[32m string[]\u001b[0m\n",
      "\u001b[32m    \u001b[0m\u001b[36moutputs\u001b[0m:\u001b[36m\u001b[0m\n",
      "\u001b[36m      rgb-tif\u001b[0m:\u001b[36m\u001b[0m\n",
      "\u001b[36m        outputSource\u001b[0m:\u001b[32m step_color/rgb\u001b[0m\n",
      "\u001b[32m        \u001b[0m\u001b[36mtype\u001b[0m:\u001b[32m File\u001b[0m\n",
      "\u001b[32m      \u001b[0m\u001b[36mstack\u001b[0m:\u001b[36m\u001b[0m\n",
      "\u001b[36m        outputSource\u001b[0m:\n",
      "          -\u001b[32m step_stack/stacked\u001b[0m\n",
      "\u001b[32m          \u001b[0m-\u001b[32m step_warp_stack/stacked\u001b[0m\n",
      "\u001b[32m        \u001b[0m\u001b[36mpickValue\u001b[0m:\u001b[32m the_only_non_null\u001b[0m\n",
      "\u001b[32m        \u001b[0m\u001b[36mtype\u001b[0m:\u001b[32m File\u001b[0m\n",
      "\u001b[32m    \u001b[0m\u001b[36msteps\u001b[0m:\u001b[36m\u001b[0m\n",
      "\u001b[36m      step_curl\u001b[0m:\u001b[36m\u001b[0m\n",
      "\u001b[36m        in\u001b[0m:\u001b[36m\u001b[0m\n",
      "\u001b[36m          stac_item\u001b[0m:\u001b[32m stac-item\u001b[0m\n",
      "\u001b[32m          \u001b[0m\u001b[36mcommon_band_name\u001b[0m:\u001b[32m bands\u001b[0m\n",
      "\u001b[32m        \u001b[0m\u001b[36mout\u001b[0m:\n",
      "          -\u001b[32m hrefs\u001b[0m\n",
      "\u001b[32m        \u001b[0m\u001b[36mrun\u001b[0m:\u001b[32m \"#stac\"\u001b[0m\u001b[36m\u001b[0m\n",
      "\u001b[36m        scatter\u001b[0m:\u001b[32m common_band_name\u001b[0m\n",
      "\u001b[32m        \u001b[0m\u001b[36mscatterMethod\u001b[0m:\u001b[32m dotproduct\u001b[0m\n",
      "\u001b[32m      \u001b[0m\u001b[36mstep_stack\u001b[0m:\u001b[36m\u001b[0m\n",
      "\u001b[36m        in\u001b[0m:\u001b[36m\u001b[0m\n",
      "\u001b[36m          tiffs\u001b[0m:\u001b[36m\u001b[0m\n",
      "\u001b[36m            source\u001b[0m:\u001b[32m step_curl/hrefs\u001b[0m\n",
      "\u001b[32m          \u001b[0m\u001b[36mepsg_code\u001b[0m:\u001b[32m epsg_code\u001b[0m\n",
      "\u001b[32m        \u001b[0m\u001b[36mout\u001b[0m:\n",
      "          -\u001b[32m stacked\u001b[0m\n",
      "\u001b[32m        \u001b[0m\u001b[36mrun\u001b[0m:\u001b[32m \"#rio_stack\"\u001b[0m\u001b[36m\u001b[0m\n",
      "\u001b[36m        when\u001b[0m:\u001b[32m $( inputs.epsg_code == \"native\")\u001b[0m\n",
      "\u001b[32m      \u001b[0m\u001b[36mstep_warp_stack\u001b[0m:\u001b[36m\u001b[0m\n",
      "\u001b[36m        in\u001b[0m:\u001b[36m\u001b[0m\n",
      "\u001b[36m          tiffs\u001b[0m:\u001b[36m\u001b[0m\n",
      "\u001b[36m            source\u001b[0m:\u001b[32m step_curl/hrefs\u001b[0m\n",
      "\u001b[32m          \u001b[0m\u001b[36mepsg_code\u001b[0m:\u001b[32m epsg_code\u001b[0m\n",
      "\u001b[32m        \u001b[0m\u001b[36mout\u001b[0m:\n",
      "          -\u001b[32m stacked\u001b[0m\n",
      "\u001b[32m        \u001b[0m\u001b[36mrun\u001b[0m:\u001b[32m \"#rio_warp_stack\"\u001b[0m\u001b[36m\u001b[0m\n",
      "\u001b[36m        when\u001b[0m:\u001b[32m $( inputs.epsg_code != \"native\")\u001b[0m\n",
      "\u001b[32m      \u001b[0m\u001b[36mstep_color\u001b[0m:\u001b[36m\u001b[0m\n",
      "\u001b[36m        in\u001b[0m:\u001b[36m\u001b[0m\n",
      "\u001b[36m          stacked\u001b[0m:\u001b[36m\u001b[0m\n",
      "\u001b[36m            source\u001b[0m:\n",
      "              -\u001b[32m step_stack/stacked\u001b[0m\n",
      "\u001b[32m              \u001b[0m-\u001b[32m step_warp_stack/stacked\u001b[0m\n",
      "\u001b[32m            \u001b[0m\u001b[36mpickValue\u001b[0m:\u001b[32m the_only_non_null\u001b[0m\n",
      "\u001b[32m        \u001b[0m\u001b[36mout\u001b[0m:\n",
      "          -\u001b[32m rgb\u001b[0m\n",
      "\u001b[32m        \u001b[0m\u001b[36mrun\u001b[0m:\u001b[32m \"#rio_color\"\u001b[0m\n",
      "  -\u001b[36m class\u001b[0m:\u001b[32m CommandLineTool\u001b[0m\n",
      "\u001b[32m    \u001b[0m\u001b[36mid\u001b[0m:\u001b[32m stac\u001b[0m\n",
      "\u001b[32m    \u001b[0m\u001b[36mrequirements\u001b[0m:\u001b[36m\u001b[0m\n",
      "\u001b[36m      DockerRequirement\u001b[0m:\u001b[36m\u001b[0m\n",
      "\u001b[36m        dockerPull\u001b[0m:\u001b[32m docker.io/curlimages/curl:latest\u001b[0m\n",
      "\u001b[32m    \u001b[0m\u001b[36mbaseCommand\u001b[0m:\u001b[32m curl\u001b[0m\n",
      "\u001b[32m    \u001b[0m\u001b[36mstdout\u001b[0m:\u001b[32m message\u001b[0m\n",
      "\u001b[32m    \u001b[0m\u001b[36marguments\u001b[0m:\n",
      "      -\u001b[32m $( inputs.stac_item )\u001b[0m\n",
      "\u001b[32m    \u001b[0m\u001b[36minputs\u001b[0m:\u001b[36m\u001b[0m\n",
      "\u001b[36m      stac_item\u001b[0m:\u001b[36m\u001b[0m\n",
      "\u001b[36m        type\u001b[0m:\u001b[32m string\u001b[0m\n",
      "\u001b[32m      \u001b[0m\u001b[36mcommon_band_name\u001b[0m:\u001b[36m\u001b[0m\n",
      "\u001b[36m        type\u001b[0m:\u001b[32m string\u001b[0m\n",
      "\u001b[32m    \u001b[0m\u001b[36moutputs\u001b[0m:\u001b[36m\u001b[0m\n",
      "\u001b[36m      hrefs\u001b[0m:\u001b[36m\u001b[0m\n",
      "\u001b[36m        type\u001b[0m:\u001b[32m string\u001b[0m\n",
      "\u001b[32m        \u001b[0m\u001b[36moutputBinding\u001b[0m:\u001b[36m\u001b[0m\n",
      "\u001b[36m          glob\u001b[0m:\u001b[32m message\u001b[0m\n",
      "\u001b[32m          \u001b[0m\u001b[36mloadContents\u001b[0m:\u001b[95m true\u001b[0m\n",
      "\u001b[95m          \u001b[0m\u001b[36moutputEval\u001b[0m: |\n",
      "\u001b[32m            ${\u001b[0m\n",
      "\u001b[32m              const assets = JSON.parse(self[0].contents).assets;\u001b[0m\n",
      "\u001b[32m              const bandKey = Object.keys(assets).find(key =>\u001b[0m\n",
      "\u001b[32m                assets[key]['eo:bands'] &&\u001b[0m\n",
      "\u001b[32m                assets[key]['eo:bands'].length === 1 &&\u001b[0m\n",
      "\u001b[32m                assets[key]['eo:bands'].some(band => band.common_name === inputs.common_band_name)\u001b[0m\n",
      "\u001b[32m              );\u001b[0m\n",
      "\u001b[32m              if (!bandKey) {\u001b[0m\n",
      "\u001b[32m                throw new Error(`No valid asset found for band: ${inputs.common_band_name}`);\u001b[0m\n",
      "\u001b[32m              }\u001b[0m\n",
      "\u001b[32m              return assets[bandKey].href;\u001b[0m\n",
      "\u001b[32m            }\u001b[0m\n",
      "\u001b[32m  \u001b[0m-\u001b[36m class\u001b[0m:\u001b[32m CommandLineTool\u001b[0m\n",
      "\u001b[32m    \u001b[0m\u001b[36mid\u001b[0m:\u001b[32m rio_stack\u001b[0m\n",
      "\u001b[32m    \u001b[0m\u001b[36mrequirements\u001b[0m:\u001b[36m\u001b[0m\n",
      "\u001b[36m      DockerRequirement\u001b[0m:\u001b[36m\u001b[0m\n",
      "\u001b[36m        dockerPull\u001b[0m:\u001b[32m ghcr.io/eoap/how-to/how-to-container:1.1.0\u001b[0m\n",
      "\u001b[32m      \u001b[0m\u001b[36mEnvVarRequirement\u001b[0m:\u001b[36m\u001b[0m\n",
      "\u001b[36m        envDef\u001b[0m:\u001b[36m\u001b[0m\n",
      "\u001b[36m          GDAL_TIFF_INTERNAL_MASK\u001b[0m:\u001b[32m YES\u001b[0m\n",
      "\u001b[32m          \u001b[0m\u001b[36mGDAL_HTTP_MERGE_CONSECUTIVE_RANGES\u001b[0m:\u001b[32m YES\u001b[0m\n",
      "\u001b[32m          \u001b[0m\u001b[36mCPL_VSIL_CURL_ALLOWED_EXTENSIONS\u001b[0m:\u001b[32m \".tif\"\u001b[0m\u001b[36m\u001b[0m\n",
      "\u001b[36m      InitialWorkDirRequirement\u001b[0m:\u001b[36m\u001b[0m\n",
      "\u001b[36m        listing\u001b[0m:\n",
      "          -\u001b[36m entryname\u001b[0m:\u001b[32m run.sh\u001b[0m\n",
      "\u001b[32m            \u001b[0m\u001b[36mentry\u001b[0m: |-\n",
      "\u001b[32m              #!/bin/bash\u001b[0m\n",
      "\u001b[32m              rio stack $@\u001b[0m\n",
      "\u001b[32m    \u001b[0m\u001b[36mbaseCommand\u001b[0m: [\u001b[32m\"/bin/bash\"\u001b[0m,\u001b[32m \"run.sh\"\u001b[0m]\u001b[36m\u001b[0m\n",
      "\u001b[36m    arguments\u001b[0m:\n",
      "      -\u001b[36m valueFrom\u001b[0m:\u001b[32m \"${  \\n  var arr = [];\\n  for(var i=0; i<inputs.tiffs.length; i++) {\\n      arr.push(inputs.tiffs[i]); \\n  }\\n  return arr; \\n  }\\n\"\u001b[0m\n",
      "      -\u001b[32m stacked.tif\u001b[0m\n",
      "\u001b[32m    \u001b[0m\u001b[36minputs\u001b[0m:\u001b[36m\u001b[0m\n",
      "\u001b[36m      tiffs\u001b[0m:\u001b[36m\u001b[0m\n",
      "\u001b[36m        type\u001b[0m:\u001b[32m string[]\u001b[0m\n",
      "\u001b[32m    \u001b[0m\u001b[36moutputs\u001b[0m:\u001b[36m\u001b[0m\n",
      "\u001b[36m      stacked\u001b[0m:\u001b[36m\u001b[0m\n",
      "\u001b[36m        type\u001b[0m:\u001b[32m File\u001b[0m\n",
      "\u001b[32m        \u001b[0m\u001b[36moutputBinding\u001b[0m:\u001b[36m\u001b[0m\n",
      "\u001b[36m          glob\u001b[0m:\u001b[32m stacked.tif\u001b[0m\n",
      "\u001b[32m  \u001b[0m-\u001b[36m class\u001b[0m:\u001b[32m CommandLineTool\u001b[0m\n",
      "\u001b[32m    \u001b[0m\u001b[36mid\u001b[0m:\u001b[32m rio_warp_stack\u001b[0m\n",
      "\u001b[32m    \u001b[0m\u001b[36mrequirements\u001b[0m:\u001b[36m\u001b[0m\n",
      "\u001b[36m      DockerRequirement\u001b[0m:\u001b[36m\u001b[0m\n",
      "\u001b[36m        dockerPull\u001b[0m:\u001b[32m ghcr.io/eoap/how-to/how-to-container:1.1.0\u001b[0m\n",
      "\u001b[32m      \u001b[0m\u001b[36mEnvVarRequirement\u001b[0m:\u001b[36m\u001b[0m\n",
      "\u001b[36m        envDef\u001b[0m:\u001b[36m\u001b[0m\n",
      "\u001b[36m          GDAL_TIFF_INTERNAL_MASK\u001b[0m:\u001b[32m YES\u001b[0m\n",
      "\u001b[32m          \u001b[0m\u001b[36mGDAL_HTTP_MERGE_CONSECUTIVE_RANGES\u001b[0m:\u001b[32m YES\u001b[0m\n",
      "\u001b[32m          \u001b[0m\u001b[36mCPL_VSIL_CURL_ALLOWED_EXTENSIONS\u001b[0m:\u001b[32m \".tif\"\u001b[0m\u001b[36m\u001b[0m\n",
      "\u001b[36m      InitialWorkDirRequirement\u001b[0m:\u001b[36m\u001b[0m\n",
      "\u001b[36m        listing\u001b[0m:\n",
      "          -\u001b[36m entryname\u001b[0m:\u001b[32m run.sh\u001b[0m\n",
      "\u001b[32m            \u001b[0m\u001b[36mentry\u001b[0m: |-\n",
      "\u001b[32m              #!/bin/bash\u001b[0m\n",
      "\u001b[32m              rio stack $@\u001b[0m\n",
      "\u001b[32m\u001b[0m\n",
      "\u001b[32m              rio warp --dst-crs $(inputs.epsg_code) stacked.tif warped.tif\u001b[0m\n",
      "\u001b[32m    \u001b[0m\u001b[36mbaseCommand\u001b[0m: [\u001b[32m\"/bin/bash\"\u001b[0m,\u001b[32m \"run.sh\"\u001b[0m]\u001b[36m\u001b[0m\n",
      "\u001b[36m    arguments\u001b[0m:\n",
      "      -\u001b[36m valueFrom\u001b[0m:\u001b[32m \"${  \\n  var arr = [];\\n  for(var i=0; i<inputs.tiffs.length; i++) {\\n      arr.push(inputs.tiffs[i]); \\n  }\\n  return arr; \\n  }\\n\"\u001b[0m\n",
      "      -\u001b[32m stacked.tif\u001b[0m\n",
      "\u001b[32m    \u001b[0m\u001b[36minputs\u001b[0m:\u001b[36m\u001b[0m\n",
      "\u001b[36m      tiffs\u001b[0m:\u001b[36m\u001b[0m\n",
      "\u001b[36m        type\u001b[0m:\u001b[32m string[]\u001b[0m\n",
      "\u001b[32m      \u001b[0m\u001b[36mepsg_code\u001b[0m:\u001b[36m\u001b[0m\n",
      "\u001b[36m        type\u001b[0m:\u001b[32m string\u001b[0m\n",
      "\u001b[32m    \u001b[0m\u001b[36moutputs\u001b[0m:\u001b[36m\u001b[0m\n",
      "\u001b[36m      stacked\u001b[0m:\u001b[36m\u001b[0m\n",
      "\u001b[36m        type\u001b[0m:\u001b[32m File\u001b[0m\n",
      "\u001b[32m        \u001b[0m\u001b[36moutputBinding\u001b[0m:\u001b[36m\u001b[0m\n",
      "\u001b[36m          glob\u001b[0m:\u001b[32m warped.tif\u001b[0m\n",
      "\u001b[32m  \u001b[0m-\u001b[36m class\u001b[0m:\u001b[32m CommandLineTool\u001b[0m\n",
      "\u001b[32m    \u001b[0m\u001b[36mid\u001b[0m:\u001b[32m rio_color\u001b[0m\n",
      "\u001b[32m    \u001b[0m\u001b[36mrequirements\u001b[0m:\u001b[36m\u001b[0m\n",
      "\u001b[36m      DockerRequirement\u001b[0m:\u001b[36m\u001b[0m\n",
      "\u001b[36m        dockerPull\u001b[0m:\u001b[32m ghcr.io/eoap/how-to/how-to-container:1.1.0\u001b[0m\n",
      "\u001b[32m      \u001b[0m\u001b[36mInitialWorkDirRequirement\u001b[0m:\u001b[36m\u001b[0m\n",
      "\u001b[36m        listing\u001b[0m:\n",
      "          -\u001b[36m entryname\u001b[0m:\u001b[32m run.sh\u001b[0m\n",
      "\u001b[32m            \u001b[0m\u001b[36mentry\u001b[0m: |-\n",
      "\u001b[32m              #!/bin/bash\u001b[0m\n",
      "\u001b[32m              rio color -j -1 --out-dtype uint8 $1 rgb.tif \"gamma 3 0.95, sigmoidal rgb 35 0.13\"\u001b[0m\n",
      "\u001b[32m    \u001b[0m\u001b[36mbaseCommand\u001b[0m: [\u001b[32m\"/bin/bash\"\u001b[0m,\u001b[32m \"run.sh\"\u001b[0m]\u001b[36m\u001b[0m\n",
      "\u001b[36m    arguments\u001b[0m:\n",
      "      -\u001b[32m $( inputs.stacked.path )\u001b[0m\n",
      "\u001b[32m    \u001b[0m\u001b[36minputs\u001b[0m:\u001b[36m\u001b[0m\n",
      "\u001b[36m      stacked\u001b[0m:\u001b[36m\u001b[0m\n",
      "\u001b[36m        type\u001b[0m:\u001b[32m File\u001b[0m\n",
      "\u001b[32m    \u001b[0m\u001b[36moutputs\u001b[0m:\u001b[36m\u001b[0m\n",
      "\u001b[36m      rgb\u001b[0m:\u001b[36m\u001b[0m\n",
      "\u001b[36m        type\u001b[0m:\u001b[32m File\u001b[0m\n",
      "\u001b[32m        \u001b[0m\u001b[36moutputBinding\u001b[0m:\u001b[36m\u001b[0m\n",
      "\u001b[36m          glob\u001b[0m:\u001b[32m rgb.tif\u001b[0m\n"
     ]
    }
   ],
   "source": [
    "yq '.' $cwl_file"
   ]
  },
  {
   "cell_type": "markdown",
   "metadata": {},
   "source": [
    "Its graphical representation:\n"
   ]
  },
  {
   "cell_type": "code",
   "execution_count": 4,
   "metadata": {
    "vscode": {
     "languageId": "shellscript"
    }
   },
   "outputs": [
    {
     "data": {
      "image/png": "[encoded data removed]"
     },
     "metadata": {},
     "output_type": "display_data"
    }
   ],
   "source": [
    "cwltool --print-dot $cwl_file 2> /dev/null | dot -Tpng | display"
   ]
  },
  {
   "cell_type": "markdown",
   "metadata": {},
   "source": [
    "2. Conditional Steps\n",
    "\n",
    "Step 1: Use `rio_stack` for Native EPSG"
   ]
  },
  {
   "cell_type": "code",
   "execution_count": 7,
   "metadata": {
    "vscode": {
     "languageId": "shellscript"
    }
   },
   "outputs": [
    {
     "name": "stdout",
     "output_type": "stream",
     "text": [
      "\u001b[36mstep_stack\u001b[0m:\u001b[36m\u001b[0m\n",
      "\u001b[36m  in\u001b[0m:\u001b[36m\u001b[0m\n",
      "\u001b[36m    tiffs\u001b[0m:\u001b[36m\u001b[0m\n",
      "\u001b[36m      source\u001b[0m:\u001b[32m step_curl/hrefs\u001b[0m\n",
      "\u001b[32m    \u001b[0m\u001b[36mepsg_code\u001b[0m:\u001b[32m epsg_code\u001b[0m\n",
      "\u001b[32m  \u001b[0m\u001b[36mout\u001b[0m:\n",
      "    -\u001b[32m stacked\u001b[0m\n",
      "\u001b[32m  \u001b[0m\u001b[36mrun\u001b[0m:\u001b[32m \"#rio_stack\"\u001b[0m\u001b[36m\u001b[0m\n",
      "\u001b[36m  when\u001b[0m:\u001b[32m $( inputs.epsg_code == \"native\")\u001b[0m\n"
     ]
    }
   ],
   "source": [
    "yq '.. | select(has(\"step_stack\")) | {\"step_stack\": .step_stack}' $cwl_file"
   ]
  },
  {
   "cell_type": "markdown",
   "metadata": {},
   "source": [
    "* Executes only if epsg_code == \"native\".\n",
    "\n",
    "Step 2: Use `rio_warp_stack` for Reprojection"
   ]
  },
  {
   "cell_type": "code",
   "execution_count": 8,
   "metadata": {
    "vscode": {
     "languageId": "shellscript"
    }
   },
   "outputs": [
    {
     "name": "stdout",
     "output_type": "stream",
     "text": [
      "\u001b[36mstep_warp_stack\u001b[0m:\u001b[36m\u001b[0m\n",
      "\u001b[36m  in\u001b[0m:\u001b[36m\u001b[0m\n",
      "\u001b[36m    tiffs\u001b[0m:\u001b[36m\u001b[0m\n",
      "\u001b[36m      source\u001b[0m:\u001b[32m step_curl/hrefs\u001b[0m\n",
      "\u001b[32m    \u001b[0m\u001b[36mepsg_code\u001b[0m:\u001b[32m epsg_code\u001b[0m\n",
      "\u001b[32m  \u001b[0m\u001b[36mout\u001b[0m:\n",
      "    -\u001b[32m stacked\u001b[0m\n",
      "\u001b[32m  \u001b[0m\u001b[36mrun\u001b[0m:\u001b[32m \"#rio_warp_stack\"\u001b[0m\u001b[36m\u001b[0m\n",
      "\u001b[36m  when\u001b[0m:\u001b[32m $( inputs.epsg_code != \"native\")\u001b[0m\n"
     ]
    }
   ],
   "source": [
    "yq '.. | select(has(\"step_warp_stack\")) | {\"step_warp_stack\": .step_warp_stack}' $cwl_file"
   ]
  },
  {
   "cell_type": "markdown",
   "metadata": {},
   "source": [
    "* Executes only if epsg_code != \"native\"."
   ]
  },
  {
   "cell_type": "markdown",
   "metadata": {},
   "source": [
    "3. Dynamic Output Selection\n",
    "\n",
    "Stack Selection\n"
   ]
  },
  {
   "cell_type": "code",
   "execution_count": 9,
   "metadata": {
    "vscode": {
     "languageId": "shellscript"
    }
   },
   "outputs": [
    {
     "name": "stdout",
     "output_type": "stream",
     "text": [
      "\u001b[36mstack\u001b[0m:\u001b[36m\u001b[0m\n",
      "\u001b[36m  outputSource\u001b[0m:\n",
      "    -\u001b[32m step_stack/stacked\u001b[0m\n",
      "\u001b[32m    \u001b[0m-\u001b[32m step_warp_stack/stacked\u001b[0m\n",
      "\u001b[32m  \u001b[0m\u001b[36mpickValue\u001b[0m:\u001b[32m the_only_non_null\u001b[0m\n",
      "\u001b[32m  \u001b[0m\u001b[36mtype\u001b[0m:\u001b[32m File\u001b[0m\n"
     ]
    }
   ],
   "source": [
    "yq '.. | select(has(\"stack\")) | {\"stack\": .stack}' $cwl_file"
   ]
  },
  {
   "cell_type": "markdown",
   "metadata": {},
   "source": [
    "* Dynamically selects the output from `step_stack` or `step_warp_stack`.\n",
    "* Ensures the downstream step (`step_color`) receives the correct output."
   ]
  },
  {
   "cell_type": "markdown",
   "metadata": {},
   "source": [
    "4. Run the Workflow\n",
    "\n",
    "Run the workflow with the following commands based on the desired EPSG code:\n",
    "\n",
    "Native EPSG Code:\n",
    "\n",
    "```bash\n",
    "cwltool conditional-workflows.cwl \\\n",
    "    --stac-item https://earth-search.aws.element84.com/v0/collections/sentinel-s2-l2a-cogs/items/S2B_53HPA_20210723_0_L2A  \\\n",
    "    --bands red \\\n",
    "    --bands green \\\n",
    "    --bands blue \\\n",
    "    --epsg_code native\n",
    "```"
   ]
  },
  {
   "cell_type": "code",
   "execution_count": 10,
   "metadata": {
    "vscode": {
     "languageId": "shellscript"
    }
   },
   "outputs": [
    {
     "name": "stdout",
     "output_type": "stream",
     "text": [
      "\u001b[1;30mINFO\u001b[0m /home/fbrito/.local/bin/cwltool 3.1.20240508115724\n",
      "\u001b[1;30mINFO\u001b[0m Resolved '../cwl/08-conditional-workflows/conditional-workflows.cwl' to 'file:///data/work/github/eoepca-plus/how-to/cwl/08-conditional-workflows/conditional-workflows.cwl'\n",
      "\u001b[1;30mINFO\u001b[0m [workflow ] start\n",
      "\u001b[1;30mINFO\u001b[0m [workflow ] starting step step_curl\n",
      "\u001b[1;30mINFO\u001b[0m [step step_curl] start\n",
      "\u001b[1;30mINFO\u001b[0m [job step_curl] /tmp/3y46hcxg$ docker \\\n",
      "    run \\\n",
      "    -i \\\n",
      "    --mount=type=bind,source=/tmp/3y46hcxg,target=/meIwCJ \\\n",
      "    --mount=type=bind,source=/tmp/9cp3c_zk,target=/tmp \\\n",
      "    --workdir=/meIwCJ \\\n",
      "    --read-only=true \\\n",
      "    --log-driver=none \\\n",
      "    --user=1000:1000 \\\n",
      "    --rm \\\n",
      "    --cidfile=/tmp/rl90ik3b/20241230141618-659164.cid \\\n",
      "    --env=TMPDIR=/tmp \\\n",
      "    --env=HOME=/meIwCJ \\\n",
      "    docker.io/curlimages/curl:latest \\\n",
      "    curl \\\n",
      "    https://earth-search.aws.element84.com/v0/collections/sentinel-s2-l2a-cogs/items/S2B_53HPA_20210723_0_L2A > /tmp/3y46hcxg/message\n",
      "  % Total    % Received % Xferd  Average Speed   Time    Time     Time  Current\n",
      "                                 Dload  Upload   Total   Spent    Left  Speed\n",
      "100 10156  100 10156    0     0  16478      0 --:--:-- --:--:-- --:--:-- 16460\n",
      "\u001b[1;30mINFO\u001b[0m [job step_curl] Max memory used: 0MiB\n",
      "\u001b[1;30mINFO\u001b[0m [job step_curl] completed success\n",
      "\u001b[1;30mINFO\u001b[0m [step step_curl] start\n",
      "\u001b[1;30mINFO\u001b[0m [job step_curl_2] /tmp/ydiydokd$ docker \\\n",
      "    run \\\n",
      "    -i \\\n",
      "    --mount=type=bind,source=/tmp/ydiydokd,target=/meIwCJ \\\n",
      "    --mount=type=bind,source=/tmp/s7idty0p,target=/tmp \\\n",
      "    --workdir=/meIwCJ \\\n",
      "    --read-only=true \\\n",
      "    --log-driver=none \\\n",
      "    --user=1000:1000 \\\n",
      "    --rm \\\n",
      "    --cidfile=/tmp/li7wq1we/20241230141619-750459.cid \\\n",
      "    --env=TMPDIR=/tmp \\\n",
      "    --env=HOME=/meIwCJ \\\n",
      "    docker.io/curlimages/curl:latest \\\n",
      "    curl \\\n",
      "    https://earth-search.aws.element84.com/v0/collections/sentinel-s2-l2a-cogs/items/S2B_53HPA_20210723_0_L2A > /tmp/ydiydokd/message\n",
      "  % Total    % Received % Xferd  Average Speed   Time    Time     Time  Current\n",
      "                                 Dload  Upload   Total   Spent    Left  Speed\n",
      "100 10156  100 10156    0     0  37351      0 --:--:-- --:--:-- --:--:-- 37338\n",
      "\u001b[1;30mINFO\u001b[0m [job step_curl_2] completed success\n",
      "\u001b[1;30mINFO\u001b[0m [step step_curl] start\n",
      "\u001b[1;30mINFO\u001b[0m [job step_curl_3] /tmp/q1wntu6j$ docker \\\n",
      "    run \\\n",
      "    -i \\\n",
      "    --mount=type=bind,source=/tmp/q1wntu6j,target=/meIwCJ \\\n",
      "    --mount=type=bind,source=/tmp/829uk3gt,target=/tmp \\\n",
      "    --workdir=/meIwCJ \\\n",
      "    --read-only=true \\\n",
      "    --log-driver=none \\\n",
      "    --user=1000:1000 \\\n",
      "    --rm \\\n",
      "    --cidfile=/tmp/jkfvai6a/20241230141620-766195.cid \\\n",
      "    --env=TMPDIR=/tmp \\\n",
      "    --env=HOME=/meIwCJ \\\n",
      "    docker.io/curlimages/curl:latest \\\n",
      "    curl \\\n",
      "    https://earth-search.aws.element84.com/v0/collections/sentinel-s2-l2a-cogs/items/S2B_53HPA_20210723_0_L2A > /tmp/q1wntu6j/message\n",
      "  % Total    % Received % Xferd  Average Speed   Time    Time     Time  Current\n",
      "                                 Dload  Upload   Total   Spent    Left  Speed\n",
      "100 10156  100 10156    0     0  26845      0 --:--:-- --:--:-- --:--:-- 26796\n",
      "\u001b[1;30mINFO\u001b[0m [job step_curl_3] completed success\n",
      "\u001b[1;30mINFO\u001b[0m [step step_curl] completed success\n",
      "\u001b[1;30mINFO\u001b[0m [workflow ] starting step step_stack\n",
      "\u001b[1;30mINFO\u001b[0m [step step_stack] start\n",
      "\u001b[1;30mINFO\u001b[0m [job step_stack] /tmp/q8b0b95_$ docker \\\n",
      "    run \\\n",
      "    -i \\\n",
      "    --mount=type=bind,source=/tmp/q8b0b95_,target=/meIwCJ \\\n",
      "    --mount=type=bind,source=/tmp/rqxox7pr,target=/tmp \\\n",
      "    --workdir=/meIwCJ \\\n",
      "    --read-only=true \\\n",
      "    --user=1000:1000 \\\n",
      "    --rm \\\n",
      "    --cidfile=/tmp/vtgqsmlb/20241230141621-828534.cid \\\n",
      "    --env=TMPDIR=/tmp \\\n",
      "    --env=HOME=/meIwCJ \\\n",
      "    --env=CPL_VSIL_CURL_ALLOWED_EXTENSIONS=.tif \\\n",
      "    --env=GDAL_HTTP_MERGE_CONSECUTIVE_RANGES=YES \\\n",
      "    --env=GDAL_TIFF_INTERNAL_MASK=YES \\\n",
      "    ghcr.io/eoap/how-to/how-to-container:1.1.0 \\\n",
      "    /bin/bash \\\n",
      "    run.sh \\\n",
      "    https://sentinel-cogs.s3.us-west-2.amazonaws.com/sentinel-s2-l2a-cogs/53/H/PA/2021/7/S2B_53HPA_20210723_0_L2A/B04.tif \\\n",
      "    https://sentinel-cogs.s3.us-west-2.amazonaws.com/sentinel-s2-l2a-cogs/53/H/PA/2021/7/S2B_53HPA_20210723_0_L2A/B03.tif \\\n",
      "    https://sentinel-cogs.s3.us-west-2.amazonaws.com/sentinel-s2-l2a-cogs/53/H/PA/2021/7/S2B_53HPA_20210723_0_L2A/B02.tif \\\n",
      "    stacked.tif\n",
      "\u001b[1;30mINFO\u001b[0m [job step_stack] Max memory used: 1290MiB\n",
      "\u001b[1;30mINFO\u001b[0m [job step_stack] completed success\n",
      "\u001b[1;30mINFO\u001b[0m [step step_stack] completed success\n",
      "\u001b[1;30mINFO\u001b[0m [workflow ] starting step step_warp_stack\n",
      "\u001b[1;30mINFO\u001b[0m [step step_warp_stack] will be skipped\n",
      "\u001b[1;30mINFO\u001b[0m [step step_warp_stack] completed skipped\n",
      "\u001b[1;30mINFO\u001b[0m [workflow ] starting step step_color\n",
      "\u001b[1;30mINFO\u001b[0m [step step_color] start\n",
      "\u001b[1;30mINFO\u001b[0m [job step_color] /tmp/j83unx5h$ docker \\\n",
      "    run \\\n",
      "    -i \\\n",
      "    --mount=type=bind,source=/tmp/j83unx5h,target=/meIwCJ \\\n",
      "    --mount=type=bind,source=/tmp/5zg_l8di,target=/tmp \\\n",
      "    --mount=type=bind,source=/tmp/q8b0b95_/stacked.tif,target=/var/lib/cwl/stg5e2e203a-6f16-4c3a-a8e4-4dd6f024e386/stacked.tif,readonly \\\n",
      "    --workdir=/meIwCJ \\\n",
      "    --read-only=true \\\n",
      "    --user=1000:1000 \\\n",
      "    --rm \\\n",
      "    --cidfile=/tmp/rxxb8jjq/20241230141743-894586.cid \\\n",
      "    --env=TMPDIR=/tmp \\\n",
      "    --env=HOME=/meIwCJ \\\n",
      "    ghcr.io/eoap/how-to/how-to-container:1.1.0 \\\n",
      "    /bin/bash \\\n",
      "    run.sh \\\n",
      "    /var/lib/cwl/stg5e2e203a-6f16-4c3a-a8e4-4dd6f024e386/stacked.tif\n",
      "\u001b[1;30mINFO\u001b[0m [job step_color] Max memory used: 895MiB\n",
      "\u001b[1;30mINFO\u001b[0m [job step_color] completed success\n",
      "\u001b[1;30mINFO\u001b[0m [step step_color] completed success\n",
      "\u001b[1;30mINFO\u001b[0m [workflow ] completed success\n",
      "\u001b[1;30mINFO\u001b[0m Final process status is success\n"
     ]
    }
   ],
   "source": [
    "cwltool ../cwl/08-conditional-workflows/conditional-workflows.cwl --stac-item https://earth-search.aws.element84.com/v0/collections/sentinel-s2-l2a-cogs/items/S2B_53HPA_20210723_0_L2A  --bands red --bands green --bands blue > output.json"
   ]
  },
  {
   "cell_type": "markdown",
   "metadata": {
    "vscode": {
     "languageId": "shellscript"
    }
   },
   "source": [
    "Reprojected EPSG Code\n",
    "\n",
    "```bash\n",
    "cwltool conditional-workflows.cwl \\\n",
    "    --stac-item https://earth-search.aws.element84.com/v0/collections/sentinel-s2-l2a-cogs/items/S2B_53HPA_20210723_0_L2A  \\\n",
    "    --bands red \\\n",
    "    --bands green \\\n",
    "    --bands blue \\\n",
    "    --epsg_code \"EPSG:4326\"\n",
    "```"
   ]
  },
  {
   "cell_type": "markdown",
   "metadata": {},
   "source": [
    "5. Expected Output\n",
    "\n",
    "Intermediate Outputs:\n",
    "* `stacked` file from either `step_stack` or `step_warp_stack`.\n",
    "\n",
    "Final Output:\n",
    "* `rgb-tif`: RGB composite file produced by `step_color`."
   ]
  },
  {
   "cell_type": "code",
   "execution_count": 11,
   "metadata": {
    "vscode": {
     "languageId": "shellscript"
    }
   },
   "outputs": [
    {
     "name": "stdout",
     "output_type": "stream",
     "text": [
      "{\u001b[36m\u001b[0m\n",
      "\u001b[36m  \"rgb-tif\"\u001b[0m: {\u001b[36m\u001b[0m\n",
      "\u001b[36m    \"location\"\u001b[0m:\u001b[32m \"file:///data/work/github/eoepca-plus/how-to/docs/rgb.tif\"\u001b[0m,\u001b[36m\u001b[0m\n",
      "\u001b[36m    \"basename\"\u001b[0m:\u001b[32m \"rgb.tif\"\u001b[0m,\u001b[36m\u001b[0m\n",
      "\u001b[36m    \"class\"\u001b[0m:\u001b[32m \"File\"\u001b[0m,\u001b[36m\u001b[0m\n",
      "\u001b[36m    \"checksum\"\u001b[0m:\u001b[32m \"sha1$e18f83a555f6ecf55ab1719b31a59f00c185f433\"\u001b[0m,\u001b[36m\u001b[0m\n",
      "\u001b[36m    \"size\"\u001b[0m:\u001b[95m 361747464\u001b[0m,\u001b[36m\u001b[0m\n",
      "\u001b[36m    \"path\"\u001b[0m:\u001b[32m \"/data/work/github/eoepca-plus/how-to/docs/rgb.tif\"\u001b[0m\n",
      "  },\u001b[36m\u001b[0m\n",
      "\u001b[36m  \"stack\"\u001b[0m: {\u001b[36m\u001b[0m\n",
      "\u001b[36m    \"location\"\u001b[0m:\u001b[32m \"file:///data/work/github/eoepca-plus/how-to/docs/stacked.tif\"\u001b[0m,\u001b[36m\u001b[0m\n",
      "\u001b[36m    \"basename\"\u001b[0m:\u001b[32m \"stacked.tif\"\u001b[0m,\u001b[36m\u001b[0m\n",
      "\u001b[36m    \"class\"\u001b[0m:\u001b[32m \"File\"\u001b[0m,\u001b[36m\u001b[0m\n",
      "\u001b[36m    \"checksum\"\u001b[0m:\u001b[32m \"sha1$a9fcfcac28c669f3714eaa4cc59858a28f1e715b\"\u001b[0m,\u001b[36m\u001b[0m\n",
      "\u001b[36m    \"size\"\u001b[0m:\u001b[95m 723450636\u001b[0m,\u001b[36m\u001b[0m\n",
      "\u001b[36m    \"path\"\u001b[0m:\u001b[32m \"/data/work/github/eoepca-plus/how-to/docs/stacked.tif\"\u001b[0m\n",
      "  }\n",
      "}\n"
     ]
    }
   ],
   "source": [
    "cat output.json | yq e . -o=json"
   ]
  },
  {
   "cell_type": "markdown",
   "metadata": {
    "vscode": {
     "languageId": "shellscript"
    }
   },
   "source": [
    "## Key Takeaways\n",
    "\n",
    "Conditional Steps:\n",
    "\n",
    "* Use `when` to execute steps based on input conditions.\n",
    "* Allows workflows to adapt to varying requirements dynamically.\n",
    "\n",
    "Dynamic Output Handling:\n",
    "\n",
    "* Use `pickValue` to select the appropriate output among multiple sources.\n",
    "\n",
    "Flexible Workflows:\n",
    "\n",
    "* This approach creates workflows that handle both native and reprojected data seamlessly.\n",
    "\n",
    "This guide demonstrates how to build adaptable workflows in CWL, leveraging conditional execution and dynamic output selection.\n"
   ]
  },
  {
   "cell_type": "markdown",
   "metadata": {},
   "source": []
  }
 ],
 "metadata": {
  "kernelspec": {
   "display_name": "Bash",
   "language": "bash",
   "name": "bash"
  },
  "language_info": {
   "codemirror_mode": "shell",
   "file_extension": ".sh",
   "mimetype": "text/x-sh",
   "name": "bash"
  }
 },
 "nbformat": 4,
 "nbformat_minor": 2
}
