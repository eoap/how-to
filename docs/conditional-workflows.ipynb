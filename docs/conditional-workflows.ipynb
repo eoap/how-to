{
 "cells": [
  {
   "cell_type": "code",
   "execution_count": 1,
   "metadata": {
    "vscode": {
     "languageId": "shellscript"
    }
   },
   "outputs": [
    {
     "name": "stdout",
     "output_type": "stream",
     "text": [
      "\u001b[1;30mINFO\u001b[0m /home/fbrito/.local/bin/cwltool 3.1.20240508115724\n",
      "\u001b[1;30mINFO\u001b[0m Resolved '../cwl/08-conditional-workflows/conditional-workflows.cwl' to 'file:///data/work/github/eoepca-plus/how-to/cwl/08-conditional-workflows/conditional-workflows.cwl'\n",
      "\u001b[1;30mINFO\u001b[0m [workflow ] start\n",
      "\u001b[1;30mINFO\u001b[0m [workflow ] starting step step_curl\n",
      "\u001b[1;30mINFO\u001b[0m [step step_curl] start\n",
      "\u001b[1;30mINFO\u001b[0m [job step_curl] /tmp/zjks2rjt$ docker \\\n",
      "    run \\\n",
      "    -i \\\n",
      "    --mount=type=bind,source=/tmp/zjks2rjt,target=/plVzGl \\\n",
      "    --mount=type=bind,source=/tmp/xwywb4g7,target=/tmp \\\n",
      "    --workdir=/plVzGl \\\n",
      "    --read-only=true \\\n",
      "    --log-driver=none \\\n",
      "    --user=1000:1000 \\\n",
      "    --rm \\\n",
      "    --cidfile=/tmp/vkd4okfm/20241211095405-319802.cid \\\n",
      "    --env=TMPDIR=/tmp \\\n",
      "    --env=HOME=/plVzGl \\\n",
      "    docker.io/curlimages/curl:latest \\\n",
      "    curl \\\n",
      "    https://earth-search.aws.element84.com/v0/collections/sentinel-s2-l2a-cogs/items/S2B_53HPA_20210723_0_L2A > /tmp/zjks2rjt/message\n",
      "  % Total    % Received % Xferd  Average Speed   Time    Time     Time  Current\n",
      "                                 Dload  Upload   Total   Spent    Left  Speed\n",
      "100 10156  100 10156    0     0  16679      0 --:--:-- --:--:-- --:--:-- 16703\n",
      "\u001b[1;30mINFO\u001b[0m [job step_curl] Max memory used: 0MiB\n",
      "\u001b[1;30mINFO\u001b[0m [job step_curl] completed success\n",
      "\u001b[1;30mINFO\u001b[0m [step step_curl] start\n",
      "\u001b[1;30mINFO\u001b[0m [job step_curl_2] /tmp/uj3h0n4i$ docker \\\n",
      "    run \\\n",
      "    -i \\\n",
      "    --mount=type=bind,source=/tmp/uj3h0n4i,target=/plVzGl \\\n",
      "    --mount=type=bind,source=/tmp/3v0wh3xm,target=/tmp \\\n",
      "    --workdir=/plVzGl \\\n",
      "    --read-only=true \\\n",
      "    --log-driver=none \\\n",
      "    --user=1000:1000 \\\n",
      "    --rm \\\n",
      "    --cidfile=/tmp/6k63ytvp/20241211095406-339963.cid \\\n",
      "    --env=TMPDIR=/tmp \\\n",
      "    --env=HOME=/plVzGl \\\n",
      "    docker.io/curlimages/curl:latest \\\n",
      "    curl \\\n",
      "    https://earth-search.aws.element84.com/v0/collections/sentinel-s2-l2a-cogs/items/S2B_53HPA_20210723_0_L2A > /tmp/uj3h0n4i/message\n",
      "  % Total    % Received % Xferd  Average Speed   Time    Time     Time  Current\n",
      "                                 Dload  Upload   Total   Spent    Left  Speed\n",
      "100 10156  100 10156    0     0  16676      0 --:--:-- --:--:-- --:--:-- 16703\n",
      "\u001b[1;30mINFO\u001b[0m [job step_curl_2] Max memory used: 0MiB\n",
      "\u001b[1;30mINFO\u001b[0m [job step_curl_2] completed success\n",
      "\u001b[1;30mINFO\u001b[0m [step step_curl] start\n",
      "\u001b[1;30mINFO\u001b[0m [job step_curl_3] /tmp/ckz5lqvx$ docker \\\n",
      "    run \\\n",
      "    -i \\\n",
      "    --mount=type=bind,source=/tmp/ckz5lqvx,target=/plVzGl \\\n",
      "    --mount=type=bind,source=/tmp/sopyco75,target=/tmp \\\n",
      "    --workdir=/plVzGl \\\n",
      "    --read-only=true \\\n",
      "    --log-driver=none \\\n",
      "    --user=1000:1000 \\\n",
      "    --rm \\\n",
      "    --cidfile=/tmp/6ital87g/20241211095407-497950.cid \\\n",
      "    --env=TMPDIR=/tmp \\\n",
      "    --env=HOME=/plVzGl \\\n",
      "    docker.io/curlimages/curl:latest \\\n",
      "    curl \\\n",
      "    https://earth-search.aws.element84.com/v0/collections/sentinel-s2-l2a-cogs/items/S2B_53HPA_20210723_0_L2A > /tmp/ckz5lqvx/message\n",
      "  % Total    % Received % Xferd  Average Speed   Time    Time     Time  Current\n",
      "                                 Dload  Upload   Total   Spent    Left  Speed\n",
      "100 10156  100 10156    0     0  17653      0 --:--:-- --:--:-- --:--:-- 17631\n",
      "\u001b[1;30mINFO\u001b[0m [job step_curl_3] Max memory used: 0MiB\n",
      "\u001b[1;30mINFO\u001b[0m [job step_curl_3] completed success\n",
      "\u001b[1;30mINFO\u001b[0m [step step_curl] completed success\n",
      "\u001b[1;30mINFO\u001b[0m [workflow ] starting step step_stack\n",
      "\u001b[1;30mINFO\u001b[0m [step step_stack] start\n",
      "\u001b[1;30mINFO\u001b[0m [job step_stack] /tmp/omja3c00$ docker \\\n",
      "    run \\\n",
      "    -i \\\n",
      "    --mount=type=bind,source=/tmp/omja3c00,target=/plVzGl \\\n",
      "    --mount=type=bind,source=/tmp/0u2obepz,target=/tmp \\\n",
      "    --workdir=/plVzGl \\\n",
      "    --read-only=true \\\n",
      "    --user=1000:1000 \\\n",
      "    --rm \\\n",
      "    --cidfile=/tmp/rw40ilrr/20241211095408-612388.cid \\\n",
      "    --env=TMPDIR=/tmp \\\n",
      "    --env=HOME=/plVzGl \\\n",
      "    --env=CPL_VSIL_CURL_ALLOWED_EXTENSIONS=.tif \\\n",
      "    --env=GDAL_HTTP_MERGE_CONSECUTIVE_RANGES=YES \\\n",
      "    --env=GDAL_TIFF_INTERNAL_MASK=YES \\\n",
      "    ghcr.io/eoap/how-to/how-to-container:1.1.0 \\\n",
      "    /bin/bash \\\n",
      "    run.sh \\\n",
      "    https://sentinel-cogs.s3.us-west-2.amazonaws.com/sentinel-s2-l2a-cogs/53/H/PA/2021/7/S2B_53HPA_20210723_0_L2A/B04.tif \\\n",
      "    https://sentinel-cogs.s3.us-west-2.amazonaws.com/sentinel-s2-l2a-cogs/53/H/PA/2021/7/S2B_53HPA_20210723_0_L2A/B03.tif \\\n",
      "    https://sentinel-cogs.s3.us-west-2.amazonaws.com/sentinel-s2-l2a-cogs/53/H/PA/2021/7/S2B_53HPA_20210723_0_L2A/B02.tif \\\n",
      "    stacked.tif\n",
      "\u001b[1;30mINFO\u001b[0m [job step_stack] Max memory used: 1278MiB\n",
      "\u001b[1;30mINFO\u001b[0m [job step_stack] completed success\n",
      "\u001b[1;30mINFO\u001b[0m [step step_stack] completed success\n",
      "\u001b[1;30mINFO\u001b[0m [workflow ] starting step step_warp_stack\n",
      "\u001b[1;30mINFO\u001b[0m [step step_warp_stack] will be skipped\n",
      "\u001b[1;30mINFO\u001b[0m [step step_warp_stack] completed skipped\n",
      "\u001b[1;30mINFO\u001b[0m [workflow ] starting step step_color\n",
      "\u001b[1;30mINFO\u001b[0m [step step_color] start\n",
      "\u001b[1;30mINFO\u001b[0m [job step_color] /tmp/3gnze7oe$ docker \\\n",
      "    run \\\n",
      "    -i \\\n",
      "    --mount=type=bind,source=/tmp/3gnze7oe,target=/plVzGl \\\n",
      "    --mount=type=bind,source=/tmp/40n9es8t,target=/tmp \\\n",
      "    --mount=type=bind,source=/tmp/omja3c00/stacked.tif,target=/var/lib/cwl/stga2d0430a-fb86-498d-af57-4ed0aabd46a2/stacked.tif,readonly \\\n",
      "    --workdir=/plVzGl \\\n",
      "    --read-only=true \\\n",
      "    --user=1000:1000 \\\n",
      "    --rm \\\n",
      "    --cidfile=/tmp/gog532nn/20241211095454-602135.cid \\\n",
      "    --env=TMPDIR=/tmp \\\n",
      "    --env=HOME=/plVzGl \\\n",
      "    ghcr.io/eoap/how-to/how-to-container:1.1.0 \\\n",
      "    /bin/bash \\\n",
      "    run.sh \\\n",
      "    /var/lib/cwl/stga2d0430a-fb86-498d-af57-4ed0aabd46a2/stacked.tif\n",
      "\u001b[1;30mINFO\u001b[0m [job step_color] Max memory used: 1009MiB\n",
      "\u001b[1;30mINFO\u001b[0m [job step_color] completed success\n",
      "\u001b[1;30mINFO\u001b[0m [step step_color] completed success\n",
      "\u001b[1;30mINFO\u001b[0m [workflow ] completed success\n",
      "\u001b[1;30mINFO\u001b[0m Final process status is success\n"
     ]
    }
   ],
   "source": [
    "cwltool ../cwl/08-conditional-workflows/conditional-workflows.cwl --stac-item https://earth-search.aws.element84.com/v0/collections/sentinel-s2-l2a-cogs/items/S2B_53HPA_20210723_0_L2A  --bands red --bands green --bands blue > output.json"
   ]
  },
  {
   "cell_type": "code",
   "execution_count": 3,
   "metadata": {
    "vscode": {
     "languageId": "shellscript"
    }
   },
   "outputs": [
    {
     "name": "stdout",
     "output_type": "stream",
     "text": [
      "{\u001b[36m\u001b[0m\n",
      "\u001b[36m  \"rgb-tif\"\u001b[0m: {\u001b[36m\u001b[0m\n",
      "\u001b[36m    \"location\"\u001b[0m:\u001b[32m \"file:///data/work/github/eoepca-plus/how-to/docs/rgb.tif\"\u001b[0m,\u001b[36m\u001b[0m\n",
      "\u001b[36m    \"basename\"\u001b[0m:\u001b[32m \"rgb.tif\"\u001b[0m,\u001b[36m\u001b[0m\n",
      "\u001b[36m    \"class\"\u001b[0m:\u001b[32m \"File\"\u001b[0m,\u001b[36m\u001b[0m\n",
      "\u001b[36m    \"checksum\"\u001b[0m:\u001b[32m \"sha1$acd8aa4dfd48cae76ae2d2f136c5ebd40c0b2f6f\"\u001b[0m,\u001b[36m\u001b[0m\n",
      "\u001b[36m    \"size\"\u001b[0m:\u001b[95m 361747464\u001b[0m,\u001b[36m\u001b[0m\n",
      "\u001b[36m    \"path\"\u001b[0m:\u001b[32m \"/data/work/github/eoepca-plus/how-to/docs/rgb.tif\"\u001b[0m\n",
      "  },\u001b[36m\u001b[0m\n",
      "\u001b[36m  \"stack\"\u001b[0m: {\u001b[36m\u001b[0m\n",
      "\u001b[36m    \"location\"\u001b[0m:\u001b[32m \"file:///data/work/github/eoepca-plus/how-to/docs/stacked.tif\"\u001b[0m,\u001b[36m\u001b[0m\n",
      "\u001b[36m    \"basename\"\u001b[0m:\u001b[32m \"stacked.tif\"\u001b[0m,\u001b[36m\u001b[0m\n",
      "\u001b[36m    \"class\"\u001b[0m:\u001b[32m \"File\"\u001b[0m,\u001b[36m\u001b[0m\n",
      "\u001b[36m    \"checksum\"\u001b[0m:\u001b[32m \"sha1$a9fcfcac28c669f3714eaa4cc59858a28f1e715b\"\u001b[0m,\u001b[36m\u001b[0m\n",
      "\u001b[36m    \"size\"\u001b[0m:\u001b[95m 723450636\u001b[0m,\u001b[36m\u001b[0m\n",
      "\u001b[36m    \"path\"\u001b[0m:\u001b[32m \"/data/work/github/eoepca-plus/how-to/docs/stacked.tif\"\u001b[0m\n",
      "  }\n",
      "}\n"
     ]
    }
   ],
   "source": [
    "cat output.json | yq e . -o=json"
   ]
  },
  {
   "cell_type": "code",
   "execution_count": null,
   "metadata": {
    "vscode": {
     "languageId": "shellscript"
    }
   },
   "outputs": [],
   "source": []
  }
 ],
 "metadata": {
  "kernelspec": {
   "display_name": "Bash",
   "language": "bash",
   "name": "bash"
  },
  "language_info": {
   "codemirror_mode": "shell",
   "file_extension": ".sh",
   "mimetype": "text/x-sh",
   "name": "bash"
  }
 },
 "nbformat": 4,
 "nbformat_minor": 2
}
