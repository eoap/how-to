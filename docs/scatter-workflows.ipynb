{
 "cells": [
  {
   "cell_type": "markdown",
   "metadata": {},
   "source": [
    "# How-to Guide: Scattering Workflows\n",
    "\n",
    "This guide demonstrates how to use scattering in CWL workflows, allowing parallel execution of tasks on multiple inputs.\n",
    "\n",
    "The focus is on the `ScatterFeatureRequirement` and `scatterMethod`."
   ]
  },
  {
   "cell_type": "markdown",
   "metadata": {},
   "source": [
    "## Objective\n",
    "\n",
    "* Execute a subworkflow (rgb-composite) in parallel for multiple stac-items.\n",
    "* Scatter the input stac-items to create multiple RGB composite outputs."
   ]
  },
  {
   "cell_type": "markdown",
   "metadata": {},
   "source": [
    "## Key Concepts\n",
    "\n",
    "1. `ScatterFeatureRequirement`\n",
    "\n",
    "The `ScatterFeatureRequirement` enables scattering, allowing a step to process multiple inputs in parallel.\n",
    "\n"
   ]
  },
  {
   "cell_type": "code",
   "execution_count": 1,
   "metadata": {
    "vscode": {
     "languageId": "shellscript"
    }
   },
   "outputs": [
    {
     "name": "stdout",
     "output_type": "stream",
     "text": [
      "\u001b[36mrequirements\u001b[0m:\u001b[36m\u001b[0m\n",
      "\u001b[36m  ScatterFeatureRequirement\u001b[0m: {}\n"
     ]
    }
   ],
   "source": [
    "cwl_file=\"../cwl-workflows/scatter-workflows.cwl\"\n",
    "\n",
    "cat $cwl_file | yq e .'$graph[0]' | yq '.. | select(has(\"ScatterFeatureRequirement\")) | {\"requirements\": {\"ScatterFeatureRequirement\": .ScatterFeatureRequirement}}' "
   ]
  },
  {
   "cell_type": "markdown",
   "metadata": {},
   "source": [
    "\n",
    "This makes it possible to process an array of inputs independently, where each item is executed as a separate job.\n"
   ]
  },
  {
   "cell_type": "markdown",
   "metadata": {},
   "source": [
    "\n",
    "\n",
    "2. `Scatter` and `ScatterMethod`\n",
    "\n",
    "* `scatter`: Specifies the input field(s) to be scattered.\n",
    "* `scatterMethod`: Defines how the inputs are combined when multiple fields are scattered: \n",
    "  * `dotproduct`: Matches corresponding elements of input arrays (e.g., the first element of each array is processed together).\n",
    "  * `nested_crossproduct`: Creates a Cartesian product of inputs, producing combinations of all elements.\n",
    "  * `flat_crossproduct`: Similar to `nested_crossproduct` but flattens the structure of results."
   ]
  },
  {
   "cell_type": "code",
   "execution_count": 2,
   "metadata": {
    "vscode": {
     "languageId": "shellscript"
    }
   },
   "outputs": [
    {
     "name": "stdout",
     "output_type": "stream",
     "text": [
      "\u001b[36mstep_rgb_composite\u001b[0m:\u001b[36m\u001b[0m\n",
      "\u001b[36m  in\u001b[0m:\u001b[36m\u001b[0m\n",
      "\u001b[36m    stac-item\u001b[0m:\u001b[32m stac-items\u001b[0m\n",
      "\u001b[32m    \u001b[0m\u001b[36mbands\u001b[0m:\u001b[32m bands\u001b[0m\n",
      "\u001b[32m  \u001b[0m\u001b[36mout\u001b[0m:\n",
      "    -\u001b[32m rgb-tif\u001b[0m\n",
      "\u001b[32m  \u001b[0m\u001b[36mrun\u001b[0m:\u001b[32m \"#rgb-composite\"\u001b[0m\u001b[36m\u001b[0m\n",
      "\u001b[36m  scatter\u001b[0m:\u001b[32m stac-item\u001b[0m\n",
      "\u001b[32m  \u001b[0m\u001b[36mscatterMethod\u001b[0m:\u001b[32m dotproduct\u001b[0m\n"
     ]
    }
   ],
   "source": [
    "cat $cwl_file | yq e .'$graph[0].steps' -"
   ]
  },
  {
   "cell_type": "markdown",
   "metadata": {},
   "source": [
    "* `scatter: stac-item`: The `stac-item` array is scattered, creating one subworkflow execution per item.\n",
    "* `scatterMethod: dotproduct`: Matches each `stac-item` with the same bands input for each subworkflow execution."
   ]
  },
  {
   "cell_type": "markdown",
   "metadata": {},
   "source": [
    "## Steps\n",
    "\n",
    "1. Define the Workflow\n",
    "\n",
    "The main workflow (`scatter-workflows.cwl`) processes multiple stac-items in parallel:\n",
    "\n",
    "Workflow Definition:\n",
    "\n"
   ]
  },
  {
   "cell_type": "code",
   "execution_count": 3,
   "metadata": {
    "vscode": {
     "languageId": "shellscript"
    }
   },
   "outputs": [
    {
     "name": "stdout",
     "output_type": "stream",
     "text": [
      "\u001b[36mclass\u001b[0m:\u001b[32m Workflow\u001b[0m\n",
      "\u001b[32m\u001b[0m\u001b[36mid\u001b[0m:\u001b[32m main\u001b[0m\n",
      "\u001b[32m\u001b[0m\u001b[36mrequirements\u001b[0m:\u001b[36m\u001b[0m\n",
      "\u001b[36m  SubworkflowFeatureRequirement\u001b[0m: {}\u001b[36m\u001b[0m\n",
      "\u001b[36m  InlineJavascriptRequirement\u001b[0m: {}\u001b[36m\u001b[0m\n",
      "\u001b[36m  NetworkAccess\u001b[0m:\u001b[36m\u001b[0m\n",
      "\u001b[36m    networkAccess\u001b[0m:\u001b[95m true\u001b[0m\n",
      "\u001b[95m  \u001b[0m\u001b[36mScatterFeatureRequirement\u001b[0m: {}\u001b[36m\u001b[0m\n",
      "\u001b[36minputs\u001b[0m:\u001b[36m\u001b[0m\n",
      "\u001b[36m  stac-items\u001b[0m:\u001b[36m\u001b[0m\n",
      "\u001b[36m    type\u001b[0m:\u001b[32m string[]\u001b[0m\n",
      "\u001b[32m  \u001b[0m\u001b[36mbands\u001b[0m:\u001b[36m\u001b[0m\n",
      "\u001b[36m    type\u001b[0m:\u001b[32m string[]\u001b[0m\n",
      "\u001b[32m    \u001b[0m\u001b[36mdefault\u001b[0m: [\u001b[32m\"red\"\u001b[0m,\u001b[32m \"green\"\u001b[0m,\u001b[32m \"blue\"\u001b[0m]\u001b[36m\u001b[0m\n",
      "\u001b[36moutputs\u001b[0m:\u001b[36m\u001b[0m\n",
      "\u001b[36m  rgb-tif\u001b[0m:\u001b[36m\u001b[0m\n",
      "\u001b[36m    outputSource\u001b[0m:\u001b[32m step_rgb_composite/rgb-tif\u001b[0m\n",
      "\u001b[32m    \u001b[0m\u001b[36mtype\u001b[0m:\u001b[32m File[]\u001b[0m\n",
      "\u001b[32m\u001b[0m\u001b[36msteps\u001b[0m:\u001b[36m\u001b[0m\n",
      "\u001b[36m  step_rgb_composite\u001b[0m:\u001b[36m\u001b[0m\n",
      "\u001b[36m    in\u001b[0m:\u001b[36m\u001b[0m\n",
      "\u001b[36m      stac-item\u001b[0m:\u001b[32m stac-items\u001b[0m\n",
      "\u001b[32m      \u001b[0m\u001b[36mbands\u001b[0m:\u001b[32m bands\u001b[0m\n",
      "\u001b[32m    \u001b[0m\u001b[36mout\u001b[0m:\n",
      "      -\u001b[32m rgb-tif\u001b[0m\n",
      "\u001b[32m    \u001b[0m\u001b[36mrun\u001b[0m:\u001b[32m \"#rgb-composite\"\u001b[0m\u001b[36m\u001b[0m\n",
      "\u001b[36m    scatter\u001b[0m:\u001b[32m stac-item\u001b[0m\n",
      "\u001b[32m    \u001b[0m\u001b[36mscatterMethod\u001b[0m:\u001b[32m dotproduct\u001b[0m\n"
     ]
    }
   ],
   "source": [
    "cat $cwl_file | yq e .'$graph[0]' -"
   ]
  },
  {
   "cell_type": "markdown",
   "metadata": {},
   "source": [
    "Its graphical representation:"
   ]
  },
  {
   "cell_type": "code",
   "execution_count": 4,
   "metadata": {
    "vscode": {
     "languageId": "shellscript"
    }
   },
   "outputs": [
    {
     "data": {
      "image/png": "[encoded data removed]"
     },
     "metadata": {},
     "output_type": "display_data"
    }
   ],
   "source": [
    "cwltool --print-dot $cwl_file 2> /dev/null | dot -Tpng | display"
   ]
  },
  {
   "cell_type": "markdown",
   "metadata": {},
   "source": [
    "Inputs:\n",
    "\n",
    "* `stac-items`: An array of URLs to STAC items.\n",
    "* `bands`: Array of band names (`default: [\"red\", \"green\", \"blue\"]`).\n",
    "\n",
    "Output:\n",
    "* `rgb-tif`: An array of RGB TIFF files (one per `stac-item`).\n",
    "\n",
    "Steps:\n",
    "\n",
    "* `step_rgb_composite`: Calls the rgb-composite subworkflow with scattered stac-items."
   ]
  },
  {
   "cell_type": "markdown",
   "metadata": {},
   "source": [
    "2. Define the Subworkflow\n",
    "\n",
    "The subworkflow (`rgb-composite`) processes a single stac-item to create an RGB composite:\n",
    "\n",
    "Subworkflow Definition"
   ]
  },
  {
   "cell_type": "code",
   "execution_count": 5,
   "metadata": {
    "vscode": {
     "languageId": "shellscript"
    }
   },
   "outputs": [
    {
     "name": "stdout",
     "output_type": "stream",
     "text": [
      "\u001b[36mclass\u001b[0m:\u001b[32m Workflow\u001b[0m\n",
      "\u001b[32m\u001b[0m\u001b[36mid\u001b[0m:\u001b[32m rgb-composite\u001b[0m\n",
      "\u001b[32m\u001b[0m\u001b[36mrequirements\u001b[0m:\u001b[36m\u001b[0m\n",
      "\u001b[36m  InlineJavascriptRequirement\u001b[0m: {}\u001b[36m\u001b[0m\n",
      "\u001b[36m  NetworkAccess\u001b[0m:\u001b[36m\u001b[0m\n",
      "\u001b[36m    networkAccess\u001b[0m:\u001b[95m true\u001b[0m\n",
      "\u001b[95m  \u001b[0m\u001b[36mScatterFeatureRequirement\u001b[0m: {}\u001b[36m\u001b[0m\n",
      "\u001b[36minputs\u001b[0m:\u001b[36m\u001b[0m\n",
      "\u001b[36m  stac-item\u001b[0m:\u001b[36m\u001b[0m\n",
      "\u001b[36m    type\u001b[0m:\u001b[32m string\u001b[0m\n",
      "\u001b[32m  \u001b[0m\u001b[36mbands\u001b[0m:\u001b[36m\u001b[0m\n",
      "\u001b[36m    type\u001b[0m:\u001b[32m string[]\u001b[0m\n",
      "\u001b[32m\u001b[0m\u001b[36moutputs\u001b[0m:\u001b[36m\u001b[0m\n",
      "\u001b[36m  rgb-tif\u001b[0m:\u001b[36m\u001b[0m\n",
      "\u001b[36m    outputSource\u001b[0m:\u001b[32m step_color/rgb\u001b[0m\n",
      "\u001b[32m    \u001b[0m\u001b[36mtype\u001b[0m:\u001b[32m File\u001b[0m\n",
      "\u001b[32m\u001b[0m\u001b[36msteps\u001b[0m:\u001b[36m\u001b[0m\n",
      "\u001b[36m  step_curl\u001b[0m:\u001b[36m\u001b[0m\n",
      "\u001b[36m    in\u001b[0m:\u001b[36m\u001b[0m\n",
      "\u001b[36m      stac_item\u001b[0m:\u001b[32m stac-item\u001b[0m\n",
      "\u001b[32m      \u001b[0m\u001b[36mcommon_band_name\u001b[0m:\u001b[32m bands\u001b[0m\n",
      "\u001b[32m    \u001b[0m\u001b[36mout\u001b[0m:\n",
      "      -\u001b[32m hrefs\u001b[0m\n",
      "\u001b[32m    \u001b[0m\u001b[36mrun\u001b[0m:\u001b[32m \"#stac\"\u001b[0m\u001b[36m\u001b[0m\n",
      "\u001b[36m    scatter\u001b[0m:\u001b[32m common_band_name\u001b[0m\n",
      "\u001b[32m    \u001b[0m\u001b[36mscatterMethod\u001b[0m:\u001b[32m dotproduct\u001b[0m\n",
      "\u001b[32m  \u001b[0m\u001b[36mstep_stack\u001b[0m:\u001b[36m\u001b[0m\n",
      "\u001b[36m    in\u001b[0m:\u001b[36m\u001b[0m\n",
      "\u001b[36m      tiffs\u001b[0m:\u001b[36m\u001b[0m\n",
      "\u001b[36m        source\u001b[0m:\u001b[32m step_curl/hrefs\u001b[0m\n",
      "\u001b[32m    \u001b[0m\u001b[36mout\u001b[0m:\n",
      "      -\u001b[32m stacked\u001b[0m\n",
      "\u001b[32m    \u001b[0m\u001b[36mrun\u001b[0m:\u001b[32m \"#rio_stack\"\u001b[0m\u001b[36m\u001b[0m\n",
      "\u001b[36m  step_color\u001b[0m:\u001b[36m\u001b[0m\n",
      "\u001b[36m    in\u001b[0m:\u001b[36m\u001b[0m\n",
      "\u001b[36m      stacked\u001b[0m:\u001b[36m\u001b[0m\n",
      "\u001b[36m        source\u001b[0m:\u001b[32m step_stack/stacked\u001b[0m\n",
      "\u001b[32m    \u001b[0m\u001b[36mout\u001b[0m:\n",
      "      -\u001b[32m rgb\u001b[0m\n",
      "\u001b[32m    \u001b[0m\u001b[36mrun\u001b[0m:\u001b[32m \"#rio_color\"\u001b[0m\n"
     ]
    }
   ],
   "source": [
    "cat $cwl_file | yq e .'$graph[1]' -"
   ]
  },
  {
   "cell_type": "markdown",
   "metadata": {},
   "source": [
    "Its graphical representation:"
   ]
  },
  {
   "cell_type": "code",
   "execution_count": 6,
   "metadata": {
    "vscode": {
     "languageId": "shellscript"
    }
   },
   "outputs": [
    {
     "data": {
      "image/png": "[encoded data removed]"
     },
     "metadata": {},
     "output_type": "display_data"
    }
   ],
   "source": [
    "cwltool --print-dot $cwl_file#rgb-composite 2> /dev/null | dot -Tpng | display"
   ]
  },
  {
   "cell_type": "markdown",
   "metadata": {},
   "source": [
    "Scatter in Subworkflow:\n",
    "\n",
    "* `step_curl` scatters bands (e.g., `red`, `green`, `blue`).\n",
    "* Each band is processed independently to retrieve its corresponding asset."
   ]
  },
  {
   "cell_type": "markdown",
   "metadata": {},
   "source": [
    "3. Run the Workflow\n",
    "\n",
    "Execute the main workflow with multiple stac-items:\n",
    "\n",
    "```bash\n",
    "cwltool scatter-workflows.cwl \\\n",
    "    --stac-item https://earth-search.aws.element84.com/v0/collections/sentinel-s2-l2a-cogs/items/S2B_53HPA_20210723_0_L2A \\\n",
    "    --stac-item https://earth-search.aws.element84.com/v0/collections/sentinel-s2-l2a-cogs/items/S2A_53HPA_20210728_0_L2A\n",
    "```"
   ]
  },
  {
   "cell_type": "code",
   "execution_count": 7,
   "metadata": {
    "vscode": {
     "languageId": "shellscript"
    }
   },
   "outputs": [
    {
     "name": "stdout",
     "output_type": "stream",
     "text": [
      "\u001b[1;30mINFO\u001b[0m /home/fbrito/.local/bin/cwltool 3.1.20240508115724\n",
      "\u001b[1;30mINFO\u001b[0m Resolved '../cwl-workflows/scatter-workflows.cwl' to 'file:///data/work/github/eoepca-plus/how-to/cwl-workflows/scatter-workflows.cwl'\n",
      "\u001b[1;30mINFO\u001b[0m [workflow ] start\n",
      "\u001b[1;30mINFO\u001b[0m [workflow ] starting step step_rgb_composite\n",
      "\u001b[1;30mINFO\u001b[0m [step step_rgb_composite] start\n",
      "\u001b[1;30mINFO\u001b[0m [workflow step_rgb_composite] start\n",
      "\u001b[1;30mINFO\u001b[0m [workflow step_rgb_composite] starting step step_curl\n",
      "\u001b[1;30mINFO\u001b[0m [step step_curl] start\n",
      "\u001b[1;30mINFO\u001b[0m [job step_curl] /tmp/s69s2to7$ docker \\\n",
      "    run \\\n",
      "    -i \\\n",
      "    --mount=type=bind,source=/tmp/s69s2to7,target=/vaVMpy \\\n",
      "    --mount=type=bind,source=/tmp/8_xqs6_y,target=/tmp \\\n",
      "    --workdir=/vaVMpy \\\n",
      "    --read-only=true \\\n",
      "    --log-driver=none \\\n",
      "    --user=1000:1000 \\\n",
      "    --rm \\\n",
      "    --cidfile=/tmp/h8e5hbgw/20250102121437-177872.cid \\\n",
      "    --env=TMPDIR=/tmp \\\n",
      "    --env=HOME=/vaVMpy \\\n",
      "    docker.io/curlimages/curl:latest \\\n",
      "    curl \\\n",
      "    https://earth-search.aws.element84.com/v0/collections/sentinel-s2-l2a-cogs/items/S2B_53HPA_20210723_0_L2A > /tmp/s69s2to7/message\n",
      "  % Total    % Received % Xferd  Average Speed   Time    Time     Time  Current\n",
      "                                 Dload  Upload   Total   Spent    Left  Speed\n",
      "100 10156  100 10156    0     0  18594      0 --:--:-- --:--:-- --:--:-- 18566\n",
      "\u001b[1;30mINFO\u001b[0m [job step_curl] Max memory used: 0MiB\n",
      "\u001b[1;30mINFO\u001b[0m [job step_curl] completed success\n",
      "\u001b[1;30mINFO\u001b[0m [step step_curl] start\n",
      "\u001b[1;30mINFO\u001b[0m [job step_curl_2] /tmp/wxltxqe6$ docker \\\n",
      "    run \\\n",
      "    -i \\\n",
      "    --mount=type=bind,source=/tmp/wxltxqe6,target=/vaVMpy \\\n",
      "    --mount=type=bind,source=/tmp/39jyq4we,target=/tmp \\\n",
      "    --workdir=/vaVMpy \\\n",
      "    --read-only=true \\\n",
      "    --log-driver=none \\\n",
      "    --user=1000:1000 \\\n",
      "    --rm \\\n",
      "    --cidfile=/tmp/71p7c1y8/20250102121438-221003.cid \\\n",
      "    --env=TMPDIR=/tmp \\\n",
      "    --env=HOME=/vaVMpy \\\n",
      "    docker.io/curlimages/curl:latest \\\n",
      "    curl \\\n",
      "    https://earth-search.aws.element84.com/v0/collections/sentinel-s2-l2a-cogs/items/S2B_53HPA_20210723_0_L2A > /tmp/wxltxqe6/message\n",
      "  % Total    % Received % Xferd  Average Speed   Time    Time     Time  Current\n",
      "                                 Dload  Upload   Total   Spent    Left  Speed\n",
      "100 10156  100 10156    0     0  18212      0 --:--:-- --:--:-- --:--:-- 18200\n",
      "\u001b[1;30mINFO\u001b[0m [job step_curl_2] Max memory used: 0MiB\n",
      "\u001b[1;30mINFO\u001b[0m [job step_curl_2] completed success\n",
      "\u001b[1;30mINFO\u001b[0m [step step_curl] start\n",
      "\u001b[1;30mINFO\u001b[0m [job step_curl_3] /tmp/_krrc66l$ docker \\\n",
      "    run \\\n",
      "    -i \\\n",
      "    --mount=type=bind,source=/tmp/_krrc66l,target=/vaVMpy \\\n",
      "    --mount=type=bind,source=/tmp/fg6uoc5b,target=/tmp \\\n",
      "    --workdir=/vaVMpy \\\n",
      "    --read-only=true \\\n",
      "    --log-driver=none \\\n",
      "    --user=1000:1000 \\\n",
      "    --rm \\\n",
      "    --cidfile=/tmp/g_29nnrr/20250102121439-258058.cid \\\n",
      "    --env=TMPDIR=/tmp \\\n",
      "    --env=HOME=/vaVMpy \\\n",
      "    docker.io/curlimages/curl:latest \\\n",
      "    curl \\\n",
      "    https://earth-search.aws.element84.com/v0/collections/sentinel-s2-l2a-cogs/items/S2B_53HPA_20210723_0_L2A > /tmp/_krrc66l/message\n",
      "  % Total    % Received % Xferd  Average Speed   Time    Time     Time  Current\n",
      "                                 Dload  Upload   Total   Spent    Left  Speed\n",
      "100 10156  100 10156    0     0  17330      0 --:--:-- --:--:-- --:--:-- 17331\n",
      "\u001b[1;30mINFO\u001b[0m [job step_curl_3] Max memory used: 0MiB\n",
      "\u001b[1;30mINFO\u001b[0m [job step_curl_3] completed success\n",
      "\u001b[1;30mINFO\u001b[0m [step step_curl] completed success\n",
      "\u001b[1;30mINFO\u001b[0m [workflow step_rgb_composite] starting step step_stack\n",
      "\u001b[1;30mINFO\u001b[0m [step step_stack] start\n",
      "\u001b[1;30mINFO\u001b[0m [job step_stack] /tmp/or3f0zg7$ docker \\\n",
      "    run \\\n",
      "    -i \\\n",
      "    --mount=type=bind,source=/tmp/or3f0zg7,target=/vaVMpy \\\n",
      "    --mount=type=bind,source=/tmp/boppc5oj,target=/tmp \\\n",
      "    --workdir=/vaVMpy \\\n",
      "    --read-only=true \\\n",
      "    --user=1000:1000 \\\n",
      "    --rm \\\n",
      "    --cidfile=/tmp/hit1447_/20250102121440-341281.cid \\\n",
      "    --env=TMPDIR=/tmp \\\n",
      "    --env=HOME=/vaVMpy \\\n",
      "    --env=CPL_VSIL_CURL_ALLOWED_EXTENSIONS=.tif \\\n",
      "    --env=GDAL_HTTP_MERGE_CONSECUTIVE_RANGES=YES \\\n",
      "    --env=GDAL_TIFF_INTERNAL_MASK=YES \\\n",
      "    ghcr.io/eoap/how-to/how-to-container:1.1.0 \\\n",
      "    rio \\\n",
      "    stack \\\n",
      "    https://sentinel-cogs.s3.us-west-2.amazonaws.com/sentinel-s2-l2a-cogs/53/H/PA/2021/7/S2B_53HPA_20210723_0_L2A/B04.tif \\\n",
      "    https://sentinel-cogs.s3.us-west-2.amazonaws.com/sentinel-s2-l2a-cogs/53/H/PA/2021/7/S2B_53HPA_20210723_0_L2A/B03.tif \\\n",
      "    https://sentinel-cogs.s3.us-west-2.amazonaws.com/sentinel-s2-l2a-cogs/53/H/PA/2021/7/S2B_53HPA_20210723_0_L2A/B02.tif \\\n",
      "    stacked.tif\n",
      "\u001b[1;30mINFO\u001b[0m [job step_stack] Max memory used: 1278MiB\n",
      "\u001b[1;30mINFO\u001b[0m [job step_stack] completed success\n",
      "\u001b[1;30mINFO\u001b[0m [step step_stack] completed success\n",
      "\u001b[1;30mINFO\u001b[0m [workflow step_rgb_composite] starting step step_color\n",
      "\u001b[1;30mINFO\u001b[0m [step step_color] start\n",
      "\u001b[1;30mINFO\u001b[0m [job step_color] /tmp/h65uc79x$ docker \\\n",
      "    run \\\n",
      "    -i \\\n",
      "    --mount=type=bind,source=/tmp/h65uc79x,target=/vaVMpy \\\n",
      "    --mount=type=bind,source=/tmp/q_j2ey3m,target=/tmp \\\n",
      "    --mount=type=bind,source=/tmp/or3f0zg7/stacked.tif,target=/var/lib/cwl/stgc865f6c5-895b-4872-b2aa-1e25e6b96492/stacked.tif,readonly \\\n",
      "    --workdir=/vaVMpy \\\n",
      "    --read-only=true \\\n",
      "    --user=1000:1000 \\\n",
      "    --rm \\\n",
      "    --cidfile=/tmp/6exszcs4/20250102121555-345960.cid \\\n",
      "    --env=TMPDIR=/tmp \\\n",
      "    --env=HOME=/vaVMpy \\\n",
      "    ghcr.io/eoap/how-to/how-to-container:1.1.0 \\\n",
      "    rio \\\n",
      "    color \\\n",
      "    -j \\\n",
      "    -1 \\\n",
      "    --out-dtype \\\n",
      "    uint8 \\\n",
      "    /var/lib/cwl/stgc865f6c5-895b-4872-b2aa-1e25e6b96492/stacked.tif \\\n",
      "    rgb.tif \\\n",
      "    'gamma 3 0.95, sigmoidal rgb 35 0.13'\n",
      "\u001b[1;30mINFO\u001b[0m [job step_color] Max memory used: 923MiB\n",
      "\u001b[1;30mINFO\u001b[0m [job step_color] completed success\n",
      "\u001b[1;30mINFO\u001b[0m [step step_color] completed success\n",
      "\u001b[1;30mINFO\u001b[0m [workflow step_rgb_composite] completed success\n",
      "\u001b[1;30mINFO\u001b[0m [step step_rgb_composite] start\n",
      "\u001b[1;30mINFO\u001b[0m [workflow step_rgb_composite_2] start\n",
      "\u001b[1;30mINFO\u001b[0m [workflow step_rgb_composite_2] starting step step_curl_2\n",
      "\u001b[1;30mINFO\u001b[0m [step step_curl_2] start\n",
      "\u001b[1;30mINFO\u001b[0m [job step_curl_4] /tmp/0u05_n_b$ docker \\\n",
      "    run \\\n",
      "    -i \\\n",
      "    --mount=type=bind,source=/tmp/0u05_n_b,target=/vaVMpy \\\n",
      "    --mount=type=bind,source=/tmp/kb1ufrcz,target=/tmp \\\n",
      "    --workdir=/vaVMpy \\\n",
      "    --read-only=true \\\n",
      "    --log-driver=none \\\n",
      "    --user=1000:1000 \\\n",
      "    --rm \\\n",
      "    --cidfile=/tmp/s9lxvzg1/20250102121602-992295.cid \\\n",
      "    --env=TMPDIR=/tmp \\\n",
      "    --env=HOME=/vaVMpy \\\n",
      "    docker.io/curlimages/curl:latest \\\n",
      "    curl \\\n",
      "    https://earth-search.aws.element84.com/v0/collections/sentinel-s2-l2a-cogs/items/S2A_53HPA_20210728_0_L2A > /tmp/0u05_n_b/message\n",
      "  % Total    % Received % Xferd  Average Speed   Time    Time     Time  Current\n",
      "                                 Dload  Upload   Total   Spent    Left  Speed\n",
      "100 10157  100 10157    0     0  15190      0 --:--:-- --:--:-- --:--:-- 15182\n",
      "\u001b[1;30mINFO\u001b[0m [job step_curl_4] Max memory used: 0MiB\n",
      "\u001b[1;30mINFO\u001b[0m [job step_curl_4] completed success\n",
      "\u001b[1;30mINFO\u001b[0m [step step_curl_2] start\n",
      "\u001b[1;30mINFO\u001b[0m [job step_curl_5] /tmp/31v2hkb3$ docker \\\n",
      "    run \\\n",
      "    -i \\\n",
      "    --mount=type=bind,source=/tmp/31v2hkb3,target=/vaVMpy \\\n",
      "    --mount=type=bind,source=/tmp/oosrtajl,target=/tmp \\\n",
      "    --workdir=/vaVMpy \\\n",
      "    --read-only=true \\\n",
      "    --log-driver=none \\\n",
      "    --user=1000:1000 \\\n",
      "    --rm \\\n",
      "    --cidfile=/tmp/u28vg8od/20250102121604-070475.cid \\\n",
      "    --env=TMPDIR=/tmp \\\n",
      "    --env=HOME=/vaVMpy \\\n",
      "    docker.io/curlimages/curl:latest \\\n",
      "    curl \\\n",
      "    https://earth-search.aws.element84.com/v0/collections/sentinel-s2-l2a-cogs/items/S2A_53HPA_20210728_0_L2A > /tmp/31v2hkb3/message\n",
      "  % Total    % Received % Xferd  Average Speed   Time    Time     Time  Current\n",
      "                                 Dload  Upload   Total   Spent    Left  Speed\n",
      "100 10157  100 10157    0     0  13666      0 --:--:-- --:--:-- --:--:-- 13651\n",
      "\u001b[1;30mINFO\u001b[0m [job step_curl_5] Max memory used: 0MiB\n",
      "\u001b[1;30mINFO\u001b[0m [job step_curl_5] completed success\n",
      "\u001b[1;30mINFO\u001b[0m [step step_curl_2] start\n",
      "\u001b[1;30mINFO\u001b[0m [job step_curl_6] /tmp/t4mp38q_$ docker \\\n",
      "    run \\\n",
      "    -i \\\n",
      "    --mount=type=bind,source=/tmp/t4mp38q_,target=/vaVMpy \\\n",
      "    --mount=type=bind,source=/tmp/r7dmuyzc,target=/tmp \\\n",
      "    --workdir=/vaVMpy \\\n",
      "    --read-only=true \\\n",
      "    --log-driver=none \\\n",
      "    --user=1000:1000 \\\n",
      "    --rm \\\n",
      "    --cidfile=/tmp/3ggtm1au/20250102121605-205602.cid \\\n",
      "    --env=TMPDIR=/tmp \\\n",
      "    --env=HOME=/vaVMpy \\\n",
      "    docker.io/curlimages/curl:latest \\\n",
      "    curl \\\n",
      "    https://earth-search.aws.element84.com/v0/collections/sentinel-s2-l2a-cogs/items/S2A_53HPA_20210728_0_L2A > /tmp/t4mp38q_/message\n",
      "  % Total    % Received % Xferd  Average Speed   Time    Time     Time  Current\n",
      "                                 Dload  Upload   Total   Spent    Left  Speed\n",
      "100 10157  100 10157    0     0  17355      0 --:--:-- --:--:-- --:--:-- 17332\n",
      "\u001b[1;30mINFO\u001b[0m [job step_curl_6] Max memory used: 0MiB\n",
      "\u001b[1;30mINFO\u001b[0m [job step_curl_6] completed success\n",
      "\u001b[1;30mINFO\u001b[0m [step step_curl_2] completed success\n",
      "\u001b[1;30mINFO\u001b[0m [workflow step_rgb_composite_2] starting step step_stack_2\n",
      "\u001b[1;30mINFO\u001b[0m [step step_stack_2] start\n",
      "\u001b[1;30mINFO\u001b[0m [job step_stack_2] /tmp/z2b7cl5m$ docker \\\n",
      "    run \\\n",
      "    -i \\\n",
      "    --mount=type=bind,source=/tmp/z2b7cl5m,target=/vaVMpy \\\n",
      "    --mount=type=bind,source=/tmp/2lishpky,target=/tmp \\\n",
      "    --workdir=/vaVMpy \\\n",
      "    --read-only=true \\\n",
      "    --user=1000:1000 \\\n",
      "    --rm \\\n",
      "    --cidfile=/tmp/wkebblf1/20250102121606-301708.cid \\\n",
      "    --env=TMPDIR=/tmp \\\n",
      "    --env=HOME=/vaVMpy \\\n",
      "    --env=CPL_VSIL_CURL_ALLOWED_EXTENSIONS=.tif \\\n",
      "    --env=GDAL_HTTP_MERGE_CONSECUTIVE_RANGES=YES \\\n",
      "    --env=GDAL_TIFF_INTERNAL_MASK=YES \\\n",
      "    ghcr.io/eoap/how-to/how-to-container:1.1.0 \\\n",
      "    rio \\\n",
      "    stack \\\n",
      "    https://sentinel-cogs.s3.us-west-2.amazonaws.com/sentinel-s2-l2a-cogs/53/H/PA/2021/7/S2A_53HPA_20210728_0_L2A/B04.tif \\\n",
      "    https://sentinel-cogs.s3.us-west-2.amazonaws.com/sentinel-s2-l2a-cogs/53/H/PA/2021/7/S2A_53HPA_20210728_0_L2A/B03.tif \\\n",
      "    https://sentinel-cogs.s3.us-west-2.amazonaws.com/sentinel-s2-l2a-cogs/53/H/PA/2021/7/S2A_53HPA_20210728_0_L2A/B02.tif \\\n",
      "    stacked.tif\n",
      "\u001b[1;30mINFO\u001b[0m [job step_stack_2] Max memory used: 1262MiB\n",
      "\u001b[1;30mINFO\u001b[0m [job step_stack_2] completed success\n",
      "\u001b[1;30mINFO\u001b[0m [step step_stack_2] completed success\n",
      "\u001b[1;30mINFO\u001b[0m [workflow step_rgb_composite_2] starting step step_color_2\n",
      "\u001b[1;30mINFO\u001b[0m [step step_color_2] start\n",
      "\u001b[1;30mINFO\u001b[0m [job step_color_2] /tmp/cgspz3er$ docker \\\n",
      "    run \\\n",
      "    -i \\\n",
      "    --mount=type=bind,source=/tmp/cgspz3er,target=/vaVMpy \\\n",
      "    --mount=type=bind,source=/tmp/p2fupx95,target=/tmp \\\n",
      "    --mount=type=bind,source=/tmp/z2b7cl5m/stacked.tif,target=/var/lib/cwl/stgd5101d10-dccb-488d-ae4e-e4fc6d0b2c23/stacked.tif,readonly \\\n",
      "    --workdir=/vaVMpy \\\n",
      "    --read-only=true \\\n",
      "    --user=1000:1000 \\\n",
      "    --rm \\\n",
      "    --cidfile=/tmp/fkdsouud/20250102121732-363235.cid \\\n",
      "    --env=TMPDIR=/tmp \\\n",
      "    --env=HOME=/vaVMpy \\\n",
      "    ghcr.io/eoap/how-to/how-to-container:1.1.0 \\\n",
      "    rio \\\n",
      "    color \\\n",
      "    -j \\\n",
      "    -1 \\\n",
      "    --out-dtype \\\n",
      "    uint8 \\\n",
      "    /var/lib/cwl/stgd5101d10-dccb-488d-ae4e-e4fc6d0b2c23/stacked.tif \\\n",
      "    rgb.tif \\\n",
      "    'gamma 3 0.95, sigmoidal rgb 35 0.13'\n",
      "\u001b[1;30mINFO\u001b[0m [job step_color_2] Max memory used: 994MiB\n",
      "\u001b[1;30mINFO\u001b[0m [job step_color_2] completed success\n",
      "\u001b[1;30mINFO\u001b[0m [step step_color_2] completed success\n",
      "\u001b[1;30mINFO\u001b[0m [workflow step_rgb_composite_2] completed success\n",
      "\u001b[1;30mINFO\u001b[0m [step step_rgb_composite] completed success\n",
      "\u001b[1;30mINFO\u001b[0m [workflow ] completed success\n",
      "\u001b[1;30mINFO\u001b[0m Final process status is success\n"
     ]
    }
   ],
   "source": [
    "cwltool $cwl_file \\\n",
    "    --stac-item https://earth-search.aws.element84.com/v0/collections/sentinel-s2-l2a-cogs/items/S2B_53HPA_20210723_0_L2A \\\n",
    "    --stac-item https://earth-search.aws.element84.com/v0/collections/sentinel-s2-l2a-cogs/items/S2A_53HPA_20210728_0_L2A > output.json"
   ]
  },
  {
   "cell_type": "markdown",
   "metadata": {},
   "source": [
    "4. Expected Output\n",
    "\n",
    "The workflow creates an array of RGB composite TIFF files, one for each stac-item:\n",
    "\n",
    "Output Files:\n",
    "- rgb-tif[0]: RGB composite for the first stac-item.\n",
    "- rgb-tif[1]: RGB composite for the second stac-item."
   ]
  },
  {
   "cell_type": "code",
   "execution_count": 8,
   "metadata": {
    "vscode": {
     "languageId": "shellscript"
    }
   },
   "outputs": [
    {
     "name": "stdout",
     "output_type": "stream",
     "text": [
      "{\u001b[36m\u001b[0m\n",
      "\u001b[36m  \"rgb-tif\"\u001b[0m: [\n",
      "    {\u001b[36m\u001b[0m\n",
      "\u001b[36m      \"location\"\u001b[0m:\u001b[32m \"file:///data/work/github/eoepca-plus/how-to/docs/rgb.tif\"\u001b[0m,\u001b[36m\u001b[0m\n",
      "\u001b[36m      \"basename\"\u001b[0m:\u001b[32m \"rgb.tif\"\u001b[0m,\u001b[36m\u001b[0m\n",
      "\u001b[36m      \"class\"\u001b[0m:\u001b[32m \"File\"\u001b[0m,\u001b[36m\u001b[0m\n",
      "\u001b[36m      \"checksum\"\u001b[0m:\u001b[32m \"sha1$904a76ccb42516e0af63996268f11424236e20ff\"\u001b[0m,\u001b[36m\u001b[0m\n",
      "\u001b[36m      \"size\"\u001b[0m:\u001b[95m 361747464\u001b[0m,\u001b[36m\u001b[0m\n",
      "\u001b[36m      \"path\"\u001b[0m:\u001b[32m \"/data/work/github/eoepca-plus/how-to/docs/rgb.tif\"\u001b[0m\n",
      "    },\n",
      "    {\u001b[36m\u001b[0m\n",
      "\u001b[36m      \"location\"\u001b[0m:\u001b[32m \"file:///data/work/github/eoepca-plus/how-to/docs/rgb.tif_2\"\u001b[0m,\u001b[36m\u001b[0m\n",
      "\u001b[36m      \"basename\"\u001b[0m:\u001b[32m \"rgb.tif\"\u001b[0m,\u001b[36m\u001b[0m\n",
      "\u001b[36m      \"class\"\u001b[0m:\u001b[32m \"File\"\u001b[0m,\u001b[36m\u001b[0m\n",
      "\u001b[36m      \"checksum\"\u001b[0m:\u001b[32m \"sha1$1358350a320f3c7489fd2f45ee30026b39c96259\"\u001b[0m,\u001b[36m\u001b[0m\n",
      "\u001b[36m      \"size\"\u001b[0m:\u001b[95m 361747464\u001b[0m,\u001b[36m\u001b[0m\n",
      "\u001b[36m      \"path\"\u001b[0m:\u001b[32m \"/data/work/github/eoepca-plus/how-to/docs/rgb.tif_2\"\u001b[0m\n",
      "    }\n",
      "  ]\n",
      "}\n"
     ]
    }
   ],
   "source": [
    "cat output.json | yq e . -o=json"
   ]
  },
  {
   "cell_type": "markdown",
   "metadata": {
    "vscode": {
     "languageId": "shellscript"
    }
   },
   "source": [
    "## Key Takeaways\n",
    "\n",
    "1. `ScatterFeatureRequirement`:\n",
    "\n",
    "* Enables parallel processing of array inputs.\n",
    "\n",
    "2. Scatter and ScatterMethod:\n",
    "\n",
    "* `scatter`: Specifies the input to scatter.\n",
    "* `scatterMethod`:\n",
    "  * `dotproduct`: Matches corresponding elements in input arrays.\n",
    "  * `nested_crossproduct`: Generates all combinations of input elements.\n",
    "\n",
    "3 .Scalable Workflows:\n",
    "\n",
    "* Scattering simplifies large-scale processing by distributing tasks over multiple inputs, improving performance and modularity.\n",
    "\n",
    "This guide demonstrates how scattering in CWL can streamline workflows by enabling parallel execution of steps on array inputs."
   ]
  },
  {
   "cell_type": "code",
   "execution_count": 9,
   "metadata": {
    "vscode": {
     "languageId": "shellscript"
    }
   },
   "outputs": [],
   "source": [
    "rm -f output.json\n",
    "rm -f rgb.tif\n",
    "rm -f rgb.tif_2"
   ]
  }
 ],
 "metadata": {
  "kernelspec": {
   "display_name": "Bash",
   "language": "bash",
   "name": "bash"
  },
  "language_info": {
   "codemirror_mode": "shell",
   "file_extension": ".sh",
   "mimetype": "text/x-sh",
   "name": "bash"
  }
 },
 "nbformat": 4,
 "nbformat_minor": 2
}
