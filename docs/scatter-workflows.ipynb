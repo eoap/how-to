{
 "cells": [
  {
   "cell_type": "code",
   "execution_count": 1,
   "metadata": {
    "vscode": {
     "languageId": "shellscript"
    }
   },
   "outputs": [
    {
     "data": {
      "image/png": "[encoded data removed]"
     },
     "metadata": {},
     "output_type": "display_data"
    }
   ],
   "source": [
    "cwltool --print-dot ../cwl/07-scatter-workflows/scatter-workflows.cwl 2> /dev/null | dot -Tpng | display"
   ]
  },
  {
   "cell_type": "code",
   "execution_count": 2,
   "metadata": {
    "vscode": {
     "languageId": "shellscript"
    }
   },
   "outputs": [
    {
     "name": "stdout",
     "output_type": "stream",
     "text": [
      "\u001b[1;30mINFO\u001b[0m /home/fbrito/.local/bin/cwltool 3.1.20240508115724\n",
      "\u001b[1;30mINFO\u001b[0m Resolved '../cwl/07-scatter-workflows/scatter-workflows.cwl' to 'file:///data/work/github/eoepca-plus/how-to/cwl/07-scatter-workflows/scatter-workflows.cwl'\n",
      "\u001b[1;30mINFO\u001b[0m [workflow ] start\n",
      "\u001b[1;30mINFO\u001b[0m [workflow ] starting step step_rgb_composite\n",
      "\u001b[1;30mINFO\u001b[0m [step step_rgb_composite] start\n",
      "\u001b[1;30mINFO\u001b[0m [workflow step_rgb_composite] start\n",
      "\u001b[1;30mINFO\u001b[0m [workflow step_rgb_composite] starting step step_curl\n",
      "\u001b[1;30mINFO\u001b[0m [step step_curl] start\n",
      "\u001b[1;30mINFO\u001b[0m [job step_curl] /tmp/ca1mjaa1$ docker \\\n",
      "    run \\\n",
      "    -i \\\n",
      "    --mount=type=bind,source=/tmp/ca1mjaa1,target=/GRBpVB \\\n",
      "    --mount=type=bind,source=/tmp/xmdex6dg,target=/tmp \\\n",
      "    --workdir=/GRBpVB \\\n",
      "    --read-only=true \\\n",
      "    --log-driver=none \\\n",
      "    --user=1000:1000 \\\n",
      "    --rm \\\n",
      "    --cidfile=/tmp/p7cxj5sd/20241210175121-091662.cid \\\n",
      "    --env=TMPDIR=/tmp \\\n",
      "    --env=HOME=/GRBpVB \\\n",
      "    docker.io/curlimages/curl:latest \\\n",
      "    curl \\\n",
      "    https://earth-search.aws.element84.com/v0/collections/sentinel-s2-l2a-cogs/items/S2B_53HPA_20210723_0_L2A > /tmp/ca1mjaa1/message\n",
      "  % Total    % Received % Xferd  Average Speed   Time    Time     Time  Current\n",
      "                                 Dload  Upload   Total   Spent    Left  Speed\n",
      "100 10156  100 10156    0     0  17654      0 --:--:-- --:--:-- --:--:-- 17631\n",
      "\u001b[1;30mINFO\u001b[0m [job step_curl] Max memory used: 0MiB\n",
      "\u001b[1;30mINFO\u001b[0m [job step_curl] completed success\n",
      "\u001b[1;30mINFO\u001b[0m [step step_curl] start\n",
      "\u001b[1;30mINFO\u001b[0m [job step_curl_2] /tmp/28lge3ql$ docker \\\n",
      "    run \\\n",
      "    -i \\\n",
      "    --mount=type=bind,source=/tmp/28lge3ql,target=/GRBpVB \\\n",
      "    --mount=type=bind,source=/tmp/ui5f_7p0,target=/tmp \\\n",
      "    --workdir=/GRBpVB \\\n",
      "    --read-only=true \\\n",
      "    --log-driver=none \\\n",
      "    --user=1000:1000 \\\n",
      "    --rm \\\n",
      "    --cidfile=/tmp/yxvjmz_m/20241210175122-232580.cid \\\n",
      "    --env=TMPDIR=/tmp \\\n",
      "    --env=HOME=/GRBpVB \\\n",
      "    docker.io/curlimages/curl:latest \\\n",
      "    curl \\\n",
      "    https://earth-search.aws.element84.com/v0/collections/sentinel-s2-l2a-cogs/items/S2B_53HPA_20210723_0_L2A > /tmp/28lge3ql/message\n",
      "  % Total    % Received % Xferd  Average Speed   Time    Time     Time  Current\n",
      "                                 Dload  Upload   Total   Spent    Left  Speed\n",
      "100 10156  100 10156    0     0  16086      0 --:--:-- --:--:-- --:--:-- 16069\n",
      "\u001b[1;30mINFO\u001b[0m [job step_curl_2] Max memory used: 0MiB\n",
      "\u001b[1;30mINFO\u001b[0m [job step_curl_2] completed success\n",
      "\u001b[1;30mINFO\u001b[0m [step step_curl] start\n",
      "\u001b[1;30mINFO\u001b[0m [job step_curl_3] /tmp/bu4_5608$ docker \\\n",
      "    run \\\n",
      "    -i \\\n",
      "    --mount=type=bind,source=/tmp/bu4_5608,target=/GRBpVB \\\n",
      "    --mount=type=bind,source=/tmp/vl3ud_zk,target=/tmp \\\n",
      "    --workdir=/GRBpVB \\\n",
      "    --read-only=true \\\n",
      "    --log-driver=none \\\n",
      "    --user=1000:1000 \\\n",
      "    --rm \\\n",
      "    --cidfile=/tmp/63japr2b/20241210175123-376607.cid \\\n",
      "    --env=TMPDIR=/tmp \\\n",
      "    --env=HOME=/GRBpVB \\\n",
      "    docker.io/curlimages/curl:latest \\\n",
      "    curl \\\n",
      "    https://earth-search.aws.element84.com/v0/collections/sentinel-s2-l2a-cogs/items/S2B_53HPA_20210723_0_L2A > /tmp/bu4_5608/message\n",
      "  % Total    % Received % Xferd  Average Speed   Time    Time     Time  Current\n",
      "                                 Dload  Upload   Total   Spent    Left  Speed\n",
      "100 10156  100 10156    0     0  17984      0 --:--:-- --:--:-- --:--:-- 18007\n",
      "\u001b[1;30mINFO\u001b[0m [job step_curl_3] Max memory used: 0MiB\n",
      "\u001b[1;30mINFO\u001b[0m [job step_curl_3] completed success\n",
      "\u001b[1;30mINFO\u001b[0m [step step_curl] completed success\n",
      "\u001b[1;30mINFO\u001b[0m [workflow step_rgb_composite] starting step step_stack\n",
      "\u001b[1;30mINFO\u001b[0m [step step_stack] start\n",
      "\u001b[1;30mINFO\u001b[0m [job step_stack] /tmp/i57esi5j$ docker \\\n",
      "    run \\\n",
      "    -i \\\n",
      "    --mount=type=bind,source=/tmp/i57esi5j,target=/GRBpVB \\\n",
      "    --mount=type=bind,source=/tmp/vfqeacw_,target=/tmp \\\n",
      "    --workdir=/GRBpVB \\\n",
      "    --read-only=true \\\n",
      "    --user=1000:1000 \\\n",
      "    --rm \\\n",
      "    --cidfile=/tmp/w9lc6yct/20241210175124-545003.cid \\\n",
      "    --env=TMPDIR=/tmp \\\n",
      "    --env=HOME=/GRBpVB \\\n",
      "    --env=CPL_VSIL_CURL_ALLOWED_EXTENSIONS=.tif \\\n",
      "    --env=GDAL_HTTP_MERGE_CONSECUTIVE_RANGES=YES \\\n",
      "    --env=GDAL_TIFF_INTERNAL_MASK=YES \\\n",
      "    ghcr.io/eoap/how-to/how-to-container:1.1.0 \\\n",
      "    rio \\\n",
      "    stack \\\n",
      "    https://sentinel-cogs.s3.us-west-2.amazonaws.com/sentinel-s2-l2a-cogs/53/H/PA/2021/7/S2B_53HPA_20210723_0_L2A/B04.tif \\\n",
      "    https://sentinel-cogs.s3.us-west-2.amazonaws.com/sentinel-s2-l2a-cogs/53/H/PA/2021/7/S2B_53HPA_20210723_0_L2A/B03.tif \\\n",
      "    https://sentinel-cogs.s3.us-west-2.amazonaws.com/sentinel-s2-l2a-cogs/53/H/PA/2021/7/S2B_53HPA_20210723_0_L2A/B02.tif \\\n",
      "    stacked.tif\n",
      "\u001b[1;30mINFO\u001b[0m [job step_stack] Max memory used: 1238MiB\n",
      "\u001b[1;30mINFO\u001b[0m [job step_stack] completed success\n",
      "\u001b[1;30mINFO\u001b[0m [step step_stack] completed success\n",
      "\u001b[1;30mINFO\u001b[0m [workflow step_rgb_composite] starting step step_color\n",
      "\u001b[1;30mINFO\u001b[0m [step step_color] start\n",
      "\u001b[1;30mINFO\u001b[0m [job step_color] /tmp/bu5doh6a$ docker \\\n",
      "    run \\\n",
      "    -i \\\n",
      "    --mount=type=bind,source=/tmp/bu5doh6a,target=/GRBpVB \\\n",
      "    --mount=type=bind,source=/tmp/tzfa2k31,target=/tmp \\\n",
      "    --mount=type=bind,source=/tmp/i57esi5j/stacked.tif,target=/var/lib/cwl/stgd43599da-8a39-486f-a40d-6edccbf1168e/stacked.tif,readonly \\\n",
      "    --workdir=/GRBpVB \\\n",
      "    --read-only=true \\\n",
      "    --user=1000:1000 \\\n",
      "    --rm \\\n",
      "    --cidfile=/tmp/ya5ocnpj/20241210175212-475862.cid \\\n",
      "    --env=TMPDIR=/tmp \\\n",
      "    --env=HOME=/GRBpVB \\\n",
      "    ghcr.io/eoap/how-to/how-to-container:1.1.0 \\\n",
      "    rio \\\n",
      "    color \\\n",
      "    -j \\\n",
      "    -1 \\\n",
      "    --out-dtype \\\n",
      "    uint8 \\\n",
      "    /var/lib/cwl/stgd43599da-8a39-486f-a40d-6edccbf1168e/stacked.tif \\\n",
      "    rgb.tif \\\n",
      "    'gamma 3 0.95, sigmoidal rgb 35 0.13'\n",
      "\u001b[1;30mINFO\u001b[0m [job step_color] Max memory used: 1012MiB\n"
     ]
    }
   ],
   "source": [
    "cwltool ../cwl/07-scatter-workflows/scatter-workflows.cwl \\\n",
    "    --stac-item https://earth-search.aws.element84.com/v0/collections/sentinel-s2-l2a-cogs/items/S2B_53HPA_20210723_0_L2A \\\n",
    "    --stac-item https://earth-search.aws.element84.com/v0/collections/sentinel-s2-l2a-cogs/items/S2A_53HPA_20210728_0_L2A"
   ]
  },
  {
   "cell_type": "code",
   "execution_count": null,
   "metadata": {
    "vscode": {
     "languageId": "shellscript"
    }
   },
   "outputs": [],
   "source": []
  }
 ],
 "metadata": {
  "kernelspec": {
   "display_name": "Bash",
   "language": "bash",
   "name": "bash"
  },
  "language_info": {
   "codemirror_mode": "shell",
   "file_extension": ".sh",
   "mimetype": "text/x-sh",
   "name": "bash"
  }
 },
 "nbformat": 4,
 "nbformat_minor": 2
}
