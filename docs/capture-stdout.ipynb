{
 "cells": [
  {
   "cell_type": "markdown",
   "metadata": {},
   "source": [
    "# How-to Guide: Capturing stdout with CWL\n",
    "\n",
    "This guide explains how to capture the standard output (`stdout`) of a `CommandLineTool` in CWL.\n",
    "\n",
    "The example focuses on the `stdout` and `outputs` blocks to save the tool's output to a file and make it available for further use."
   ]
  },
  {
   "cell_type": "markdown",
   "metadata": {},
   "source": [
    "## Objective\n",
    "\n",
    "Capture the `stdout` of a command and make it accessible as a workflow output using:"
   ]
  },
  {
   "cell_type": "code",
   "execution_count": 4,
   "metadata": {
    "vscode": {
     "languageId": "shellscript"
    }
   },
   "outputs": [
    {
     "name": "stdout",
     "output_type": "stream",
     "text": [
      "stdout: message\n",
      "outputs:\n",
      "  info:\n",
      "    type: string\n",
      "    outputBinding:\n",
      "      glob: message\n",
      "      loadContents: true\n",
      "      outputEval: $(self[0].contents)\n"
     ]
    }
   ],
   "source": [
    "cat ../cwl/02-stdout/capture-stdout.cwl | yq e .'$graph[1]' | tail -n 8"
   ]
  },
  {
   "cell_type": "markdown",
   "metadata": {},
   "source": [
    "## Steps\n",
    "\n",
    "1. Understand the stdout Block\n",
    "\n",
    "The `stdout` field specifies the file where the standard output of the `CommandLineTool` should be redirected. In this example:\n"
   ]
  },
  {
   "cell_type": "code",
   "execution_count": 15,
   "metadata": {
    "vscode": {
     "languageId": "shellscript"
    }
   },
   "outputs": [
    {
     "name": "stdout",
     "output_type": "stream",
     "text": [
      "\u001b[36mstdout\u001b[0m:\u001b[32m message\u001b[0m\n"
     ]
    }
   ],
   "source": [
    "yq '.. | select(has(\"stdout\")) | {\"stdout\": .stdout}'  ../cwl/02-stdout/capture-stdout.cwl"
   ]
  },
  {
   "cell_type": "markdown",
   "metadata": {},
   "source": [
    "2. Understand the outputs Block\n",
    "\n",
    "The `outputs` block defines how to extract information from the `stdout` file:"
   ]
  },
  {
   "cell_type": "code",
   "execution_count": 18,
   "metadata": {
    "vscode": {
     "languageId": "shellscript"
    }
   },
   "outputs": [
    {
     "name": "stdout",
     "output_type": "stream",
     "text": [
      "\u001b[36moutputs\u001b[0m:\u001b[36m\u001b[0m\n",
      "\u001b[36m  info\u001b[0m:\u001b[36m\u001b[0m\n",
      "\u001b[36m    type\u001b[0m:\u001b[32m string\u001b[0m\n",
      "\u001b[32m    \u001b[0m\u001b[36moutputBinding\u001b[0m:\u001b[36m\u001b[0m\n",
      "\u001b[36m      glob\u001b[0m:\u001b[32m message\u001b[0m\n",
      "\u001b[32m      \u001b[0m\u001b[36mloadContents\u001b[0m:\u001b[95m true\u001b[0m\n",
      "\u001b[95m      \u001b[0m\u001b[36moutputEval\u001b[0m:\u001b[32m $(self[0].contents)\u001b[0m\n"
     ]
    }
   ],
   "source": [
    "cat ../cwl/02-stdout/capture-stdout.cwl | yq e .'$graph[1]' | yq '.. | select(has(\"outputs\")) | {\"outputs\": .outputs}' "
   ]
  },
  {
   "cell_type": "markdown",
   "metadata": {},
   "source": [
    "3. Review the CWL File\n",
    "\n",
    "Here’s the complete example (`capture-stdout.cwl`):"
   ]
  },
  {
   "cell_type": "code",
   "execution_count": 19,
   "metadata": {
    "vscode": {
     "languageId": "shellscript"
    }
   },
   "outputs": [
    {
     "name": "stdout",
     "output_type": "stream",
     "text": [
      "\u001b[36mcwlVersion\u001b[0m:\u001b[32m v1.2\u001b[0m\n",
      "\u001b[32m\u001b[0m\u001b[36m$graph\u001b[0m:\n",
      "  -\u001b[36m class\u001b[0m:\u001b[32m Workflow\u001b[0m\n",
      "\u001b[32m    \u001b[0m\u001b[36mid\u001b[0m:\u001b[32m main\u001b[0m\n",
      "\u001b[32m    \u001b[0m\u001b[36minputs\u001b[0m:\u001b[36m\u001b[0m\n",
      "\u001b[36m      tif\u001b[0m:\u001b[36m\u001b[0m\n",
      "\u001b[36m        type\u001b[0m:\u001b[32m string\u001b[0m\n",
      "\u001b[32m    \u001b[0m\u001b[36moutputs\u001b[0m:\u001b[36m\u001b[0m\n",
      "\u001b[36m      info\u001b[0m:\u001b[36m\u001b[0m\n",
      "\u001b[36m        outputSource\u001b[0m:\u001b[32m step-info/info\u001b[0m\n",
      "\u001b[32m        \u001b[0m\u001b[36mtype\u001b[0m:\u001b[32m string\u001b[0m\n",
      "\u001b[32m    \u001b[0m\u001b[36msteps\u001b[0m:\u001b[36m\u001b[0m\n",
      "\u001b[36m      step-info\u001b[0m:\u001b[36m\u001b[0m\n",
      "\u001b[36m        in\u001b[0m:\u001b[36m\u001b[0m\n",
      "\u001b[36m          geotif\u001b[0m:\u001b[32m tif\u001b[0m\n",
      "\u001b[32m        \u001b[0m\u001b[36mout\u001b[0m:\n",
      "          -\u001b[32m info\u001b[0m\n",
      "\u001b[32m        \u001b[0m\u001b[36mrun\u001b[0m:\u001b[32m \"#rio\"\u001b[0m\n",
      "  -\u001b[36m class\u001b[0m:\u001b[32m CommandLineTool\u001b[0m\n",
      "\u001b[32m    \u001b[0m\u001b[36mid\u001b[0m:\u001b[32m rio\u001b[0m\n",
      "\u001b[32m    \u001b[0m\u001b[36mrequirements\u001b[0m:\u001b[36m\u001b[0m\n",
      "\u001b[36m      NetworkAccess\u001b[0m:\u001b[36m\u001b[0m\n",
      "\u001b[36m        networkAccess\u001b[0m:\u001b[95m true\u001b[0m\n",
      "\u001b[95m      \u001b[0m\u001b[36mInlineJavascriptRequirement\u001b[0m: {}\u001b[36m\u001b[0m\n",
      "\u001b[36m      DockerRequirement\u001b[0m:\u001b[36m\u001b[0m\n",
      "\u001b[36m        dockerPull\u001b[0m:\u001b[32m ghcr.io/eoap/how-to/how-to-container:1.1.0\u001b[0m\n",
      "\u001b[32m    \u001b[0m\u001b[36mbaseCommand\u001b[0m:\u001b[32m rio\u001b[0m\n",
      "\u001b[32m    \u001b[0m\u001b[36marguments\u001b[0m:\n",
      "      -\u001b[32m info\u001b[0m\n",
      "\u001b[32m      \u001b[0m-\u001b[32m $(inputs.geotif)\u001b[0m\n",
      "\u001b[32m    \u001b[0m\u001b[36minputs\u001b[0m:\u001b[36m\u001b[0m\n",
      "\u001b[36m      geotif\u001b[0m:\u001b[36m\u001b[0m\n",
      "\u001b[36m        type\u001b[0m:\u001b[32m string\u001b[0m\n",
      "\u001b[32m    \u001b[0m\u001b[36mstdout\u001b[0m:\u001b[32m message\u001b[0m\n",
      "\u001b[32m    \u001b[0m\u001b[36moutputs\u001b[0m:\u001b[36m\u001b[0m\n",
      "\u001b[36m      info\u001b[0m:\u001b[36m\u001b[0m\n",
      "\u001b[36m        type\u001b[0m:\u001b[32m string\u001b[0m\n",
      "\u001b[32m        \u001b[0m\u001b[36moutputBinding\u001b[0m:\u001b[36m\u001b[0m\n",
      "\u001b[36m          glob\u001b[0m:\u001b[32m message\u001b[0m\n",
      "\u001b[32m          \u001b[0m\u001b[36mloadContents\u001b[0m:\u001b[95m true\u001b[0m\n",
      "\u001b[95m          \u001b[0m\u001b[36moutputEval\u001b[0m:\u001b[32m $(self[0].contents)\u001b[0m\n"
     ]
    }
   ],
   "source": [
    "yq -e . ../cwl/02-stdout/capture-stdout.cwl"
   ]
  },
  {
   "cell_type": "markdown",
   "metadata": {},
   "source": [
    "It's graphical representation:"
   ]
  },
  {
   "cell_type": "code",
   "execution_count": 27,
   "metadata": {
    "vscode": {
     "languageId": "shellscript"
    }
   },
   "outputs": [
    {
     "data": {
      "image/png": "[encoded data removed]"
     },
     "metadata": {},
     "output_type": "display_data"
    }
   ],
   "source": [
    "cwltool --print-dot ../cwl/02-stdout/capture-stdout.cwl 2> /dev/null | dot -Tpng | display"
   ]
  },
  {
   "cell_type": "markdown",
   "metadata": {
    "vscode": {
     "languageId": "shellscript"
    }
   },
   "source": [
    "4. Provide an Input\n",
    "\n",
    "For this example, use the input file (or command-line argument) to specify the GeoTIFF:\n",
    "\n",
    "```bash\n",
    "cwltool ../cwl/02-stdout/capture-stdout.cwl \\\n",
    "    --tif \"https://sentinel-cogs.s3.us-west-2.amazonaws.com/sentinel-s2-l2a-cogs/10/T/FK/2021/7/S2B_10TFK_20210713_0_L2A/TCI.tif\"\n",
    "```"
   ]
  },
  {
   "cell_type": "markdown",
   "metadata": {},
   "source": [
    "5. Execute the CWL Tool\n",
    "\n",
    "Run the command in your terminal:\n",
    "\n",
    "```bash\n",
    "cwltool capture-stdout.cwl \\\n",
    "    --tif \"https://sentinel-cogs.s3.us-west-2.amazonaws.com/sentinel-s2-l2a-cogs/10/T/FK/2021/7/S2B_10TFK_20210713_0_L2A/TCI.tif\" > output.json\n",
    "```"
   ]
  },
  {
   "cell_type": "code",
   "execution_count": 23,
   "metadata": {
    "vscode": {
     "languageId": "shellscript"
    }
   },
   "outputs": [
    {
     "name": "stdout",
     "output_type": "stream",
     "text": [
      "\u001b[1;30mINFO\u001b[0m /home/fbrito/.local/bin/cwltool 3.1.20240508115724\n",
      "\u001b[1;30mINFO\u001b[0m Resolved '../cwl/02-stdout/capture-stdout.cwl' to 'file:///data/work/github/eoepca-plus/how-to/cwl/02-stdout/capture-stdout.cwl'\n",
      "\u001b[1;30mINFO\u001b[0m [workflow ] start\n",
      "\u001b[1;30mINFO\u001b[0m [workflow ] starting step step-info\n",
      "\u001b[1;30mINFO\u001b[0m [step step-info] start\n",
      "\u001b[1;30mINFO\u001b[0m [job step-info] /tmp/9rwgfcsh$ docker \\\n",
      "    run \\\n",
      "    -i \\\n",
      "    --mount=type=bind,source=/tmp/9rwgfcsh,target=/QfmLfw \\\n",
      "    --mount=type=bind,source=/tmp/vps1rd7a,target=/tmp \\\n",
      "    --workdir=/QfmLfw \\\n",
      "    --read-only=true \\\n",
      "    --log-driver=none \\\n",
      "    --user=1000:1000 \\\n",
      "    --rm \\\n",
      "    --cidfile=/tmp/ejk54za_/20241229125633-551835.cid \\\n",
      "    --env=TMPDIR=/tmp \\\n",
      "    --env=HOME=/QfmLfw \\\n",
      "    ghcr.io/eoap/how-to/how-to-container:1.1.0 \\\n",
      "    rio \\\n",
      "    info \\\n",
      "    https://sentinel-cogs.s3.us-west-2.amazonaws.com/sentinel-s2-l2a-cogs/10/T/FK/2021/7/S2B_10TFK_20210713_0_L2A/TCI.tif > /tmp/9rwgfcsh/message\n",
      "\u001b[1;30mINFO\u001b[0m [job step-info] Max memory used: 46MiB\n",
      "\u001b[1;30mINFO\u001b[0m [job step-info] completed success\n",
      "\u001b[1;30mINFO\u001b[0m [step step-info] completed success\n",
      "\u001b[1;30mINFO\u001b[0m [workflow ] completed success\n",
      "\u001b[1;30mINFO\u001b[0m Final process status is success\n"
     ]
    }
   ],
   "source": [
    "cwltool ../cwl/02-stdout/capture-stdout.cwl \\\n",
    "    --tif \"https://sentinel-cogs.s3.us-west-2.amazonaws.com/sentinel-s2-l2a-cogs/10/T/FK/2021/7/S2B_10TFK_20210713_0_L2A/TCI.tif\" > output.json"
   ]
  },
  {
   "cell_type": "markdown",
   "metadata": {},
   "source": [
    "## Expected Output\n",
    "\n",
    "The `rio info` command processes the GeoTIFF file, and its output is written to the `message` file. The workflow then captures this file’s contents as the `info` output.\n",
    "\n",
    "Sample output:"
   ]
  },
  {
   "cell_type": "code",
   "execution_count": 28,
   "metadata": {
    "vscode": {
     "languageId": "shellscript"
    }
   },
   "outputs": [
    {
     "name": "stdout",
     "output_type": "stream",
     "text": [
      "{\u001b[36m\u001b[0m\n",
      "\u001b[36m  \"info\"\u001b[0m:\u001b[32m \"{\\\"blockxsize\\\": 1024, \\\"blockysize\\\": 1024, \\\"bounds\\\": [600000.0, 4390200.0, 709800.0, 4500000.0], \\\"colorinterp\\\": [\\\"red\\\", \\\"green\\\", \\\"blue\\\"], \\\"compress\\\": \\\"deflate\\\", \\\"count\\\": 3, \\\"crs\\\": \\\"EPSG:32610\\\", \\\"descriptions\\\": [null, null, null], \\\"driver\\\": \\\"GTiff\\\", \\\"dtype\\\": \\\"uint8\\\", \\\"height\\\": 10980, \\\"indexes\\\": [1, 2, 3], \\\"interleave\\\": \\\"pixel\\\", \\\"lnglat\\\": [-121.18160686746373, 40.1419732942866], \\\"mask_flags\\\": [[\\\"nodata\\\"], [\\\"nodata\\\"], [\\\"nodata\\\"]], \\\"nodata\\\": 0.0, \\\"res\\\": [10.0, 10.0], \\\"shape\\\": [10980, 10980], \\\"tiled\\\": true, \\\"transform\\\": [10.0, 0.0, 600000.0, 0.0, -10.0, 4500000.0, 0.0, 0.0, 1.0], \\\"units\\\": [null, null, null], \\\"width\\\": 10980}\\n\"\u001b[0m\n",
      "}\n"
     ]
    }
   ],
   "source": [
    "cat output.json | yq e . -o=json"
   ]
  },
  {
   "cell_type": "markdown",
   "metadata": {},
   "source": [
    "## Key Takeaways\n",
    "\n",
    "* `stdout` Field: Redirects the standard output to a specified file.\n",
    "* `outputs` Block:\n",
    "  * Uses `glob` to locate the file.\n",
    "  * Loads the file's contents into memory with `loadContents: true`.\n",
    "  * Extracts and evaluates the contents with `outputEval`.\n",
    "\n",
    "By focusing on the `stdout` and `outputs` blocks, this guide helps you capture and use command outputs in CWL workflows."
   ]
  },
  {
   "cell_type": "code",
   "execution_count": null,
   "metadata": {
    "vscode": {
     "languageId": "shellscript"
    }
   },
   "outputs": [],
   "source": []
  }
 ],
 "metadata": {
  "kernelspec": {
   "display_name": "Bash",
   "language": "bash",
   "name": "bash"
  },
  "language_info": {
   "codemirror_mode": "shell",
   "file_extension": ".sh",
   "mimetype": "text/x-sh",
   "name": "bash"
  }
 },
 "nbformat": 4,
 "nbformat_minor": 2
}
