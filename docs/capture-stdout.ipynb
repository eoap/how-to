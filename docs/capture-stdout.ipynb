{
 "cells": [
  {
   "cell_type": "markdown",
   "metadata": {},
   "source": [
    "# How to capture the stdout\n",
    "\n",
    "## Questions\n",
    "\n",
    "- How do I capture the standard output stream of a command?\n",
    "\n",
    "## Objectives\n",
    "\n",
    "- Learn how to capture streamed output from a tool."
   ]
  },
  {
   "cell_type": "markdown",
   "metadata": {},
   "source": [
    "cwltool ../cwl/02-stdout/capture-stdout.cwl --tif \"https://sentinel-cogs.s3.us-west-2.amazonaws.com/sentinel-s2-l2a-cogs/10/T/FK/2021/7/S2B_10TFK_20210713_0_L2A/TCI.tif\" "
   ]
  }
 ],
 "metadata": {
  "kernelspec": {
   "display_name": "Bash",
   "language": "bash",
   "name": "bash"
  },
  "language_info": {
   "name": "bash"
  }
 },
 "nbformat": 4,
 "nbformat_minor": 2
}
