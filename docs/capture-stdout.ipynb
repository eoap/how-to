{
 "cells": [
  {
   "cell_type": "markdown",
   "metadata": {},
   "source": [
    "# How to capture the stdout\n",
    "\n",
    "## Questions\n",
    "\n",
    "- How do I capture the standard output stream of a command?\n",
    "\n",
    "## Objectives\n",
    "\n",
    "- Learn how to capture streamed output from a tool."
   ]
  },
  {
   "cell_type": "code",
   "execution_count": 4,
   "metadata": {
    "vscode": {
     "languageId": "shellscript"
    }
   },
   "outputs": [
    {
     "name": "stdout",
     "output_type": "stream",
     "text": [
      "\u001b[36minfo\u001b[0m:\u001b[36m\u001b[0m\n",
      "\u001b[36m  type\u001b[0m:\u001b[32m string\u001b[0m\n",
      "\u001b[32m  \u001b[0m\u001b[36moutputBinding\u001b[0m:\u001b[36m\u001b[0m\n",
      "\u001b[36m    glob\u001b[0m:\u001b[32m message\u001b[0m\n",
      "\u001b[32m    \u001b[0m\u001b[36mloadContents\u001b[0m:\u001b[95m true\u001b[0m\n",
      "\u001b[95m    \u001b[0m\u001b[36moutputEval\u001b[0m:\u001b[32m $(self[0].contents)\u001b[0m\n"
     ]
    }
   ],
   "source": [
    "cat ../cwl/02-stdout/capture-stdout.cwl | yq e .'$graph[1].outputs' -"
   ]
  },
  {
   "cell_type": "code",
   "execution_count": 5,
   "metadata": {
    "vscode": {
     "languageId": "shellscript"
    }
   },
   "outputs": [
    {
     "name": "stdout",
     "output_type": "stream",
     "text": [
      "\u001b[36mclass\u001b[0m:\u001b[32m CommandLineTool\u001b[0m\n",
      "\u001b[32m\u001b[0m\u001b[36mid\u001b[0m:\u001b[32m rio\u001b[0m\n",
      "\u001b[32m\u001b[0m\u001b[36mrequirements\u001b[0m:\u001b[36m\u001b[0m\n",
      "\u001b[36m  NetworkAccess\u001b[0m:\u001b[36m\u001b[0m\n",
      "\u001b[36m    networkAccess\u001b[0m:\u001b[95m true\u001b[0m\n",
      "\u001b[95m  \u001b[0m\u001b[36mInlineJavascriptRequirement\u001b[0m: {}\u001b[36m\u001b[0m\n",
      "\u001b[36m  DockerRequirement\u001b[0m:\u001b[36m\u001b[0m\n",
      "\u001b[36m    dockerPull\u001b[0m:\u001b[32m ghcr.io/eoap/how-to/how-to-container:1.1.0\u001b[0m\n",
      "\u001b[32m\u001b[0m\u001b[36mbaseCommand\u001b[0m:\u001b[32m rio\u001b[0m\n",
      "\u001b[32m\u001b[0m\u001b[36marguments\u001b[0m:\n",
      "  -\u001b[32m info\u001b[0m\n",
      "\u001b[32m  \u001b[0m-\u001b[32m $(inputs.geotif)\u001b[0m\n",
      "\u001b[32m\u001b[0m\u001b[36minputs\u001b[0m:\u001b[36m\u001b[0m\n",
      "\u001b[36m  geotif\u001b[0m:\u001b[36m\u001b[0m\n",
      "\u001b[36m    type\u001b[0m:\u001b[32m string\u001b[0m\n",
      "\u001b[32m\u001b[0m\u001b[36mstdout\u001b[0m:\u001b[32m message\u001b[0m\n",
      "\u001b[32m\u001b[0m\u001b[36moutputs\u001b[0m:\u001b[36m\u001b[0m\n",
      "\u001b[36m  info\u001b[0m:\u001b[36m\u001b[0m\n",
      "\u001b[36m    type\u001b[0m:\u001b[32m string\u001b[0m\n",
      "\u001b[32m    \u001b[0m\u001b[36moutputBinding\u001b[0m:\u001b[36m\u001b[0m\n",
      "\u001b[36m      glob\u001b[0m:\u001b[32m message\u001b[0m\n",
      "\u001b[32m      \u001b[0m\u001b[36mloadContents\u001b[0m:\u001b[95m true\u001b[0m\n",
      "\u001b[95m      \u001b[0m\u001b[36moutputEval\u001b[0m:\u001b[32m $(self[0].contents)\u001b[0m\n"
     ]
    }
   ],
   "source": [
    "cat ../cwl/02-stdout/capture-stdout.cwl | yq e .'$graph[1]'"
   ]
  },
  {
   "cell_type": "markdown",
   "metadata": {},
   "source": [
    "The tool stdout is redirected to a temporary file named `message`:"
   ]
  },
  {
   "cell_type": "code",
   "execution_count": 7,
   "metadata": {
    "vscode": {
     "languageId": "shellscript"
    }
   },
   "outputs": [
    {
     "name": "stdout",
     "output_type": "stream",
     "text": [
      "stdout: message\n"
     ]
    }
   ],
   "source": [
    "cat ../cwl/02-stdout/capture-stdout.cwl | yq e .'$graph[1]' | grep stdout"
   ]
  },
  {
   "cell_type": "markdown",
   "metadata": {},
   "source": [
    "Execute the workflow, this returns:"
   ]
  },
  {
   "cell_type": "code",
   "execution_count": 2,
   "metadata": {
    "vscode": {
     "languageId": "shellscript"
    }
   },
   "outputs": [
    {
     "name": "stdout",
     "output_type": "stream",
     "text": [
      "\u001b[1;30mINFO\u001b[0m /home/fbrito/.local/bin/cwltool 3.1.20240508115724\n",
      "\u001b[1;30mINFO\u001b[0m Resolved '../cwl/02-stdout/capture-stdout.cwl' to 'file:///data/work/github/eoepca-plus/how-to/cwl/02-stdout/capture-stdout.cwl'\n",
      "\u001b[1;30mINFO\u001b[0m [workflow ] start\n",
      "\u001b[1;30mINFO\u001b[0m [workflow ] starting step step-info\n",
      "\u001b[1;30mINFO\u001b[0m [step step-info] start\n",
      "\u001b[1;30mINFO\u001b[0m [job step-info] /tmp/ayg0rqtl$ docker \\\n",
      "    run \\\n",
      "    -i \\\n",
      "    --mount=type=bind,source=/tmp/ayg0rqtl,target=/uaJfSR \\\n",
      "    --mount=type=bind,source=/tmp/wruif7i5,target=/tmp \\\n",
      "    --workdir=/uaJfSR \\\n",
      "    --read-only=true \\\n",
      "    --log-driver=none \\\n",
      "    --user=1000:1000 \\\n",
      "    --rm \\\n",
      "    --cidfile=/tmp/1whp70gq/20241210103303-530562.cid \\\n",
      "    --env=TMPDIR=/tmp \\\n",
      "    --env=HOME=/uaJfSR \\\n",
      "    ghcr.io/eoap/how-to/how-to-container:1.1.0 \\\n",
      "    rio \\\n",
      "    info \\\n",
      "    https://sentinel-cogs.s3.us-west-2.amazonaws.com/sentinel-s2-l2a-cogs/10/T/FK/2021/7/S2B_10TFK_20210713_0_L2A/TCI.tif > /tmp/ayg0rqtl/message\n",
      "\u001b[1;30mINFO\u001b[0m [job step-info] Max memory used: 46MiB\n",
      "\u001b[1;30mINFO\u001b[0m [job step-info] completed success\n",
      "\u001b[1;30mINFO\u001b[0m [step step-info] completed success\n",
      "\u001b[1;30mINFO\u001b[0m [workflow ] completed success\n",
      "\u001b[1;30mINFO\u001b[0m Final process status is success\n"
     ]
    }
   ],
   "source": [
    "cwltool ../cwl/02-stdout/capture-stdout.cwl --tif \"https://sentinel-cogs.s3.us-west-2.amazonaws.com/sentinel-s2-l2a-cogs/10/T/FK/2021/7/S2B_10TFK_20210713_0_L2A/TCI.tif\" > output.json"
   ]
  },
  {
   "cell_type": "markdown",
   "metadata": {},
   "source": [
    "The `info` output is:"
   ]
  },
  {
   "cell_type": "code",
   "execution_count": 3,
   "metadata": {
    "vscode": {
     "languageId": "shellscript"
    }
   },
   "outputs": [
    {
     "name": "stdout",
     "output_type": "stream",
     "text": [
      "{\u001b[36m\"info\"\u001b[0m:\u001b[32m \"{\\\"blockxsize\\\": 1024, \\\"blockysize\\\": 1024, \\\"bounds\\\": [600000.0, 4390200.0, 709800.0, 4500000.0], \\\"colorinterp\\\": [\\\"red\\\", \\\"green\\\", \\\"blue\\\"], \\\"compress\\\": \\\"deflate\\\", \\\"count\\\": 3, \\\"crs\\\": \\\"EPSG:32610\\\", \\\"descriptions\\\": [null, null, null], \\\"driver\\\": \\\"GTiff\\\", \\\"dtype\\\": \\\"uint8\\\", \\\"height\\\": 10980, \\\"indexes\\\": [1, 2, 3], \\\"interleave\\\": \\\"pixel\\\", \\\"lnglat\\\": [-121.18160686746373, 40.1419732942866], \\\"mask_flags\\\": [[\\\"nodata\\\"], [\\\"nodata\\\"], [\\\"nodata\\\"]], \\\"nodata\\\": 0.0, \\\"res\\\": [10.0, 10.0], \\\"shape\\\": [10980, 10980], \\\"tiled\\\": true, \\\"transform\\\": [10.0, 0.0, 600000.0, 0.0, -10.0, 4500000.0, 0.0, 0.0, 1.0], \\\"units\\\": [null, null, null], \\\"width\\\": 10980}\\n\"\u001b[0m}\n"
     ]
    }
   ],
   "source": [
    "cat output.json | yq e . "
   ]
  },
  {
   "cell_type": "code",
   "execution_count": null,
   "metadata": {
    "vscode": {
     "languageId": "shellscript"
    }
   },
   "outputs": [],
   "source": []
  }
 ],
 "metadata": {
  "kernelspec": {
   "display_name": "Bash",
   "language": "bash",
   "name": "bash"
  },
  "language_info": {
   "codemirror_mode": "shell",
   "file_extension": ".sh",
   "mimetype": "text/x-sh",
   "name": "bash"
  }
 },
 "nbformat": 4,
 "nbformat_minor": 2
}
