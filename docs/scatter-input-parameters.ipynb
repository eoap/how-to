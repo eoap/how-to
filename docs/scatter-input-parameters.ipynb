{
 "cells": [
  {
   "cell_type": "code",
   "execution_count": 9,
   "metadata": {
    "vscode": {
     "languageId": "shellscript"
    }
   },
   "outputs": [
    {
     "name": "stdout",
     "output_type": "stream",
     "text": [
      "\u001b[1;30mINFO\u001b[0m /home/fbrito/.local/bin/cwltool 3.1.20240508115724\n",
      "\u001b[1;30mINFO\u001b[0m Resolved '../cwl/09-scatter-input-parameters/scatter-input-parameters.cwl' to 'file:///data/work/github/eoepca-plus/how-to/cwl/09-scatter-input-parameters/scatter-input-parameters.cwl'\n",
      "\u001b[1;30mINFO\u001b[0m [workflow ] start\n",
      "\u001b[1;30mINFO\u001b[0m [workflow ] starting step step_curl\n",
      "\u001b[1;30mINFO\u001b[0m [step step_curl] start\n",
      "\u001b[1;30mINFO\u001b[0m [job step_curl] /tmp/2tsxbdar$ docker \\\n",
      "    run \\\n",
      "    -i \\\n",
      "    --mount=type=bind,source=/tmp/2tsxbdar,target=/xmoJSV \\\n",
      "    --mount=type=bind,source=/tmp/t1k_p8nc,target=/tmp \\\n",
      "    --workdir=/xmoJSV \\\n",
      "    --read-only=true \\\n",
      "    --log-driver=none \\\n",
      "    --user=1000:1000 \\\n",
      "    --rm \\\n",
      "    --cidfile=/tmp/fxi6r5dr/20241211100114-838427.cid \\\n",
      "    --env=TMPDIR=/tmp \\\n",
      "    --env=HOME=/xmoJSV \\\n",
      "    docker.io/curlimages/curl:latest \\\n",
      "    curl \\\n",
      "    https://earth-search.aws.element84.com/v0/collections/sentinel-s2-l2a-cogs/items/S2B_53HPA_20210723_0_L2A > /tmp/2tsxbdar/message\n",
      "  % Total    % Received % Xferd  Average Speed   Time    Time     Time  Current\n",
      "                                 Dload  Upload   Total   Spent    Left  Speed\n",
      "100 10156  100 10156    0     0  17568      0 --:--:-- --:--:-- --:--:-- 17570\n",
      "\u001b[1;30mINFO\u001b[0m [job step_curl] completed success\n",
      "\u001b[1;30mINFO\u001b[0m [step step_curl] start\n",
      "\u001b[1;30mINFO\u001b[0m [job step_curl_2] /tmp/pk_h54s_$ docker \\\n",
      "    run \\\n",
      "    -i \\\n",
      "    --mount=type=bind,source=/tmp/pk_h54s_,target=/xmoJSV \\\n",
      "    --mount=type=bind,source=/tmp/_fkl7rto,target=/tmp \\\n",
      "    --workdir=/xmoJSV \\\n",
      "    --read-only=true \\\n",
      "    --log-driver=none \\\n",
      "    --user=1000:1000 \\\n",
      "    --rm \\\n",
      "    --cidfile=/tmp/6oorz6dy/20241211100115-847302.cid \\\n",
      "    --env=TMPDIR=/tmp \\\n",
      "    --env=HOME=/xmoJSV \\\n",
      "    docker.io/curlimages/curl:latest \\\n",
      "    curl \\\n",
      "    https://earth-search.aws.element84.com/v0/collections/sentinel-s2-l2a-cogs/items/S2B_53HPA_20210723_0_L2A > /tmp/pk_h54s_/message\n",
      "  % Total    % Received % Xferd  Average Speed   Time    Time     Time  Current\n",
      "                                 Dload  Upload   Total   Spent    Left  Speed\n",
      "100 10156  100 10156    0     0  17809      0 --:--:-- --:--:-- --:--:-- 17786\n",
      "\u001b[1;30mINFO\u001b[0m [job step_curl_2] Max memory used: 0MiB\n",
      "\u001b[1;30mINFO\u001b[0m [job step_curl_2] completed success\n",
      "\u001b[1;30mINFO\u001b[0m [step step_curl] start\n",
      "\u001b[1;30mINFO\u001b[0m [job step_curl_3] /tmp/es52jg2b$ docker \\\n",
      "    run \\\n",
      "    -i \\\n",
      "    --mount=type=bind,source=/tmp/es52jg2b,target=/xmoJSV \\\n",
      "    --mount=type=bind,source=/tmp/mq2lwqyw,target=/tmp \\\n",
      "    --workdir=/xmoJSV \\\n",
      "    --read-only=true \\\n",
      "    --log-driver=none \\\n",
      "    --user=1000:1000 \\\n",
      "    --rm \\\n",
      "    --cidfile=/tmp/dufya12o/20241211100116-927021.cid \\\n",
      "    --env=TMPDIR=/tmp \\\n",
      "    --env=HOME=/xmoJSV \\\n",
      "    docker.io/curlimages/curl:latest \\\n",
      "    curl \\\n",
      "    https://earth-search.aws.element84.com/v0/collections/sentinel-s2-l2a-cogs/items/S2B_53HPA_20210723_0_L2A > /tmp/es52jg2b/message\n",
      "  % Total    % Received % Xferd  Average Speed   Time    Time     Time  Current\n",
      "                                 Dload  Upload   Total   Spent    Left  Speed\n",
      "100 10156  100 10156    0     0  17634      0 --:--:-- --:--:-- --:--:-- 17631\n",
      "\u001b[1;30mINFO\u001b[0m [job step_curl_3] Max memory used: 0MiB\n",
      "\u001b[1;30mINFO\u001b[0m [job step_curl_3] completed success\n",
      "\u001b[1;30mINFO\u001b[0m [step step_curl] completed success\n",
      "\u001b[1;30mINFO\u001b[0m [workflow ] starting step step_stack\n",
      "\u001b[1;30mINFO\u001b[0m [step step_stack] start\n",
      "\u001b[1;30mINFO\u001b[0m [job step_stack] /tmp/advd4trc$ docker \\\n",
      "    run \\\n",
      "    -i \\\n",
      "    --mount=type=bind,source=/tmp/advd4trc,target=/xmoJSV \\\n",
      "    --mount=type=bind,source=/tmp/v2u_x1br,target=/tmp \\\n",
      "    --workdir=/xmoJSV \\\n",
      "    --read-only=true \\\n",
      "    --user=1000:1000 \\\n",
      "    --rm \\\n",
      "    --cidfile=/tmp/1f3lhphe/20241211100118-002069.cid \\\n",
      "    --env=TMPDIR=/tmp \\\n",
      "    --env=HOME=/xmoJSV \\\n",
      "    --env=CPL_VSIL_CURL_ALLOWED_EXTENSIONS=.tif \\\n",
      "    --env=GDAL_HTTP_MERGE_CONSECUTIVE_RANGES=YES \\\n",
      "    --env=GDAL_TIFF_INTERNAL_MASK=YES \\\n",
      "    ghcr.io/eoap/how-to/how-to-container:1.1.0 \\\n",
      "    /bin/bash \\\n",
      "    run.sh \\\n",
      "    https://sentinel-cogs.s3.us-west-2.amazonaws.com/sentinel-s2-l2a-cogs/53/H/PA/2021/7/S2B_53HPA_20210723_0_L2A/B04.tif \\\n",
      "    https://sentinel-cogs.s3.us-west-2.amazonaws.com/sentinel-s2-l2a-cogs/53/H/PA/2021/7/S2B_53HPA_20210723_0_L2A/B03.tif \\\n",
      "    https://sentinel-cogs.s3.us-west-2.amazonaws.com/sentinel-s2-l2a-cogs/53/H/PA/2021/7/S2B_53HPA_20210723_0_L2A/B02.tif \\\n",
      "    stacked.tif\n",
      "\u001b[1;30mINFO\u001b[0m [job step_stack] Max memory used: 1278MiB\n",
      "\u001b[1;30mINFO\u001b[0m [job step_stack] completed success\n",
      "\u001b[1;30mINFO\u001b[0m [step step_stack] completed success\n",
      "\u001b[1;30mINFO\u001b[0m [workflow ] starting step step_color\n",
      "\u001b[1;30mINFO\u001b[0m [step step_color] start\n",
      "\u001b[1;30mINFO\u001b[0m [job step_color] /tmp/02hd1b0_$ docker \\\n",
      "    run \\\n",
      "    -i \\\n",
      "    --mount=type=bind,source=/tmp/02hd1b0_,target=/xmoJSV \\\n",
      "    --mount=type=bind,source=/tmp/7he9br7q,target=/tmp \\\n",
      "    --mount=type=bind,source=/tmp/advd4trc/stacked.tif,target=/var/lib/cwl/stg97d8a3a2-06e9-4d08-9dc0-a6e1155e3b6c/stacked.tif,readonly \\\n",
      "    --workdir=/xmoJSV \\\n",
      "    --read-only=true \\\n",
      "    --user=1000:1000 \\\n",
      "    --rm \\\n",
      "    --cidfile=/tmp/ixba9v2r/20241211100207-956800.cid \\\n",
      "    --env=TMPDIR=/tmp \\\n",
      "    --env=HOME=/xmoJSV \\\n",
      "    ghcr.io/eoap/how-to/how-to-container:1.1.0 \\\n",
      "    /bin/bash \\\n",
      "    run.sh \\\n",
      "    /var/lib/cwl/stg97d8a3a2-06e9-4d08-9dc0-a6e1155e3b6c/stacked.tif\n",
      "\u001b[1;30mINFO\u001b[0m [job step_color] Max memory used: 963MiB\n",
      "\u001b[1;30mINFO\u001b[0m [job step_color] completed success\n",
      "\u001b[1;30mINFO\u001b[0m [step step_color] completed success\n",
      "\u001b[1;30mINFO\u001b[0m [workflow ] completed success\n",
      "\u001b[1;30mINFO\u001b[0m Final process status is success\n"
     ]
    }
   ],
   "source": [
    "cwltool ../cwl/09-scatter-input-parameters/scatter-input-parameters.cwl --stac-item https://earth-search.aws.element84.com/v0/collections/sentinel-s2-l2a-cogs/items/S2B_53HPA_20210723_0_L2A > output.json\n"
   ]
  },
  {
   "cell_type": "code",
   "execution_count": 10,
   "metadata": {
    "vscode": {
     "languageId": "shellscript"
    }
   },
   "outputs": [
    {
     "name": "stdout",
     "output_type": "stream",
     "text": [
      "{\u001b[36m\u001b[0m\n",
      "\u001b[36m  \"rgb-tif\"\u001b[0m: {\u001b[36m\u001b[0m\n",
      "\u001b[36m    \"location\"\u001b[0m:\u001b[32m \"file:///data/work/github/eoepca-plus/how-to/docs/rgb.tif\"\u001b[0m,\u001b[36m\u001b[0m\n",
      "\u001b[36m    \"basename\"\u001b[0m:\u001b[32m \"rgb.tif\"\u001b[0m,\u001b[36m\u001b[0m\n",
      "\u001b[36m    \"class\"\u001b[0m:\u001b[32m \"File\"\u001b[0m,\u001b[36m\u001b[0m\n",
      "\u001b[36m    \"checksum\"\u001b[0m:\u001b[32m \"sha1$b8ec0bb723d85d2488765d4e3c379858d07032fc\"\u001b[0m,\u001b[36m\u001b[0m\n",
      "\u001b[36m    \"size\"\u001b[0m:\u001b[95m 361747464\u001b[0m,\u001b[36m\u001b[0m\n",
      "\u001b[36m    \"path\"\u001b[0m:\u001b[32m \"/data/work/github/eoepca-plus/how-to/docs/rgb.tif\"\u001b[0m\n",
      "  }\n",
      "}\n"
     ]
    }
   ],
   "source": [
    "cat output.json | yq e . -o=json"
   ]
  },
  {
   "cell_type": "code",
   "execution_count": null,
   "metadata": {
    "vscode": {
     "languageId": "shellscript"
    }
   },
   "outputs": [],
   "source": []
  }
 ],
 "metadata": {
  "kernelspec": {
   "display_name": "Bash",
   "language": "bash",
   "name": "bash"
  },
  "language_info": {
   "codemirror_mode": "shell",
   "file_extension": ".sh",
   "mimetype": "text/x-sh",
   "name": "bash"
  }
 },
 "nbformat": 4,
 "nbformat_minor": 2
}
