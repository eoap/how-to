{
 "cells": [
  {
   "cell_type": "markdown",
   "metadata": {},
   "source": [
    "# How-to Guide: Scattering on Input Parameters\n",
    "\n",
    "This guide explains how to scatter workflow steps based on input parameters using `ScatterFeatureRequirement` and `MultipleInputFeatureRequirement`. \n",
    "\n",
    "The focus is on creating workflows where multiple input parameters are processed in parallel."
   ]
  },
  {
   "cell_type": "markdown",
   "metadata": {},
   "source": [
    "## Objective\n",
    "\n",
    "Scatter the `step_curl` task to process multiple input bands (`red`, `green`, `blue`) in parallel and combine their results in subsequent steps."
   ]
  },
  {
   "cell_type": "markdown",
   "metadata": {},
   "source": [
    "## Key Features\n",
    "\n",
    "1. `ScatterFeatureRequirement`\n",
    "\n",
    "Enables scattering, allowing parallel execution of workflow steps for array-like inputs."
   ]
  },
  {
   "cell_type": "code",
   "execution_count": 31,
   "metadata": {
    "vscode": {
     "languageId": "shellscript"
    }
   },
   "outputs": [
    {
     "name": "stdout",
     "output_type": "stream",
     "text": [
      "\u001b[36mrequirements\u001b[0m:\u001b[36m\u001b[0m\n",
      "\u001b[36m  ScatterFeatureRequirement\u001b[0m: {}\n"
     ]
    }
   ],
   "source": [
    "cwl_file=\"../cwl-workflows/scatter-input-parameters.cwl\"\n",
    "\n",
    "echo {} | yq -e '{\"requirements\": {\"ScatterFeatureRequirement\": {}}}' -"
   ]
  },
  {
   "cell_type": "markdown",
   "metadata": {},
   "source": [
    "2. `MultipleInputFeatureRequirement`\n",
    "\n",
    "Allows using multiple input fields in a workflow."
   ]
  },
  {
   "cell_type": "code",
   "execution_count": 14,
   "metadata": {
    "vscode": {
     "languageId": "shellscript"
    }
   },
   "outputs": [
    {
     "name": "stdout",
     "output_type": "stream",
     "text": [
      "\u001b[36mrequirements\u001b[0m:\u001b[36m\u001b[0m\n",
      "\u001b[36m  MultipleInputFeatureRequirement\u001b[0m: {}\n"
     ]
    }
   ],
   "source": [
    "echo {} | yq -e '{\"requirements\": {\"MultipleInputFeatureRequirement\": {}}}' -"
   ]
  },
  {
   "cell_type": "markdown",
   "metadata": {},
   "source": [
    "3. Scatter on `common_band_name`\n",
    "\n",
    "Scatters the `step_curl` task based on the `common_band_name` parameter array."
   ]
  },
  {
   "cell_type": "code",
   "execution_count": 24,
   "metadata": {
    "vscode": {
     "languageId": "shellscript"
    }
   },
   "outputs": [
    {
     "name": "stdout",
     "output_type": "stream",
     "text": [
      "\u001b[36min\u001b[0m:\u001b[36m\u001b[0m\n",
      "\u001b[36m  stac_item\u001b[0m:\u001b[32m stac-item\u001b[0m\n",
      "\u001b[32m  \u001b[0m\u001b[36mcommon_band_name\u001b[0m: [\u001b[32mred-band\u001b[0m,\u001b[32m green-band\u001b[0m,\u001b[32m blue-band\u001b[0m]\u001b[36m\u001b[0m\n",
      "\u001b[36mout\u001b[0m:\n",
      "  -\u001b[32m hrefs\u001b[0m\n",
      "\u001b[32m\u001b[0m\u001b[36mrun\u001b[0m:\u001b[32m \"#stac\"\u001b[0m\u001b[36m\u001b[0m\n",
      "\u001b[36mscatter\u001b[0m:\u001b[32m common_band_name\u001b[0m\n",
      "\u001b[32m\u001b[0m\u001b[36mscatterMethod\u001b[0m:\u001b[32m dotproduct\u001b[0m\n"
     ]
    }
   ],
   "source": [
    "cat $cwl_file | yq e .'$graph[0].steps.step_curl' -"
   ]
  },
  {
   "cell_type": "markdown",
   "metadata": {},
   "source": [
    "## Steps\n",
    "\n",
    "1. Define the Workflow\n",
    "\n",
    "The workflow uses default input values for the band names (`red`, `green`, `blue`) and processes them using scattering.\n",
    "\n",
    "Workflow Inputs\n",
    "\n",
    "The workflow accepts:\n",
    "\n",
    "* `stac-item`: URL of a STAC item.\n",
    "* `red-band`: Band name for the red channel (default: `\"red\"`).\n",
    "* `green-band`: Band name for the green channel (default: `\"green\"`).\n",
    "* `blue-band`: Band name for the blue channel (default: `\"blue\"`).\n",
    "\n",
    "Workflow Outputs\n",
    "\n",
    "* The final output is the RGB composite TIFF file (`rgb-tif`).\n",
    "\n",
    "Workflow Definition"
   ]
  },
  {
   "cell_type": "code",
   "execution_count": 25,
   "metadata": {
    "vscode": {
     "languageId": "shellscript"
    }
   },
   "outputs": [
    {
     "name": "stdout",
     "output_type": "stream",
     "text": [
      "\u001b[36mcwlVersion\u001b[0m:\u001b[32m v1.2\u001b[0m\n",
      "\u001b[32m\u001b[0m\u001b[36m$graph\u001b[0m:\n",
      "  -\u001b[36m class\u001b[0m:\u001b[32m Workflow\u001b[0m\n",
      "\u001b[32m    \u001b[0m\u001b[36mid\u001b[0m:\u001b[32m main\u001b[0m\n",
      "\u001b[32m    \u001b[0m\u001b[36mrequirements\u001b[0m:\u001b[36m\u001b[0m\n",
      "\u001b[36m      InlineJavascriptRequirement\u001b[0m: {}\u001b[36m\u001b[0m\n",
      "\u001b[36m      NetworkAccess\u001b[0m:\u001b[36m\u001b[0m\n",
      "\u001b[36m        networkAccess\u001b[0m:\u001b[95m true\u001b[0m\n",
      "\u001b[95m      \u001b[0m\u001b[36mScatterFeatureRequirement\u001b[0m: {}\u001b[36m\u001b[0m\n",
      "\u001b[36m      MultipleInputFeatureRequirement\u001b[0m: {}\u001b[36m\u001b[0m\n",
      "\u001b[36m    inputs\u001b[0m:\u001b[36m\u001b[0m\n",
      "\u001b[36m      stac-item\u001b[0m:\u001b[36m\u001b[0m\n",
      "\u001b[36m        type\u001b[0m:\u001b[32m string\u001b[0m\n",
      "\u001b[32m      \u001b[0m\u001b[36mred-band\u001b[0m:\u001b[36m\u001b[0m\n",
      "\u001b[36m        type\u001b[0m:\u001b[32m string\u001b[0m\n",
      "\u001b[32m        \u001b[0m\u001b[36mdefault\u001b[0m:\u001b[32m \"red\"\u001b[0m\u001b[36m\u001b[0m\n",
      "\u001b[36m      green-band\u001b[0m:\u001b[36m\u001b[0m\n",
      "\u001b[36m        type\u001b[0m:\u001b[32m string\u001b[0m\n",
      "\u001b[32m        \u001b[0m\u001b[36mdefault\u001b[0m:\u001b[32m \"green\"\u001b[0m\u001b[36m\u001b[0m\n",
      "\u001b[36m      blue-band\u001b[0m:\u001b[36m\u001b[0m\n",
      "\u001b[36m        type\u001b[0m:\u001b[32m string\u001b[0m\n",
      "\u001b[32m        \u001b[0m\u001b[36mdefault\u001b[0m:\u001b[32m \"blue\"\u001b[0m\u001b[36m\u001b[0m\n",
      "\u001b[36m    outputs\u001b[0m:\u001b[36m\u001b[0m\n",
      "\u001b[36m      rgb-tif\u001b[0m:\u001b[36m\u001b[0m\n",
      "\u001b[36m        outputSource\u001b[0m:\u001b[32m step_color/rgb\u001b[0m\n",
      "\u001b[32m        \u001b[0m\u001b[36mtype\u001b[0m:\u001b[32m File\u001b[0m\n",
      "\u001b[32m    \u001b[0m\u001b[36msteps\u001b[0m:\u001b[36m\u001b[0m\n",
      "\u001b[36m      step_curl\u001b[0m:\u001b[36m\u001b[0m\n",
      "\u001b[36m        in\u001b[0m:\u001b[36m\u001b[0m\n",
      "\u001b[36m          stac_item\u001b[0m:\u001b[32m stac-item\u001b[0m\n",
      "\u001b[32m          \u001b[0m\u001b[36mcommon_band_name\u001b[0m: [\u001b[32mred-band\u001b[0m,\u001b[32m green-band\u001b[0m,\u001b[32m blue-band\u001b[0m]\u001b[36m\u001b[0m\n",
      "\u001b[36m        out\u001b[0m:\n",
      "          -\u001b[32m hrefs\u001b[0m\n",
      "\u001b[32m        \u001b[0m\u001b[36mrun\u001b[0m:\u001b[32m \"#stac\"\u001b[0m\u001b[36m\u001b[0m\n",
      "\u001b[36m        scatter\u001b[0m:\u001b[32m common_band_name\u001b[0m\n",
      "\u001b[32m        \u001b[0m\u001b[36mscatterMethod\u001b[0m:\u001b[32m dotproduct\u001b[0m\n",
      "\u001b[32m      \u001b[0m\u001b[36mstep_stack\u001b[0m:\u001b[36m\u001b[0m\n",
      "\u001b[36m        in\u001b[0m:\u001b[36m\u001b[0m\n",
      "\u001b[36m          tiffs\u001b[0m:\u001b[36m\u001b[0m\n",
      "\u001b[36m            source\u001b[0m:\u001b[32m step_curl/hrefs\u001b[0m\n",
      "\u001b[32m        \u001b[0m\u001b[36mout\u001b[0m:\n",
      "          -\u001b[32m stacked\u001b[0m\n",
      "\u001b[32m        \u001b[0m\u001b[36mrun\u001b[0m:\u001b[32m \"#rio_stack\"\u001b[0m\u001b[36m\u001b[0m\n",
      "\u001b[36m      step_color\u001b[0m:\u001b[36m\u001b[0m\n",
      "\u001b[36m        in\u001b[0m:\u001b[36m\u001b[0m\n",
      "\u001b[36m          stacked\u001b[0m:\u001b[36m\u001b[0m\n",
      "\u001b[36m            source\u001b[0m:\u001b[32m step_stack/stacked\u001b[0m\n",
      "\u001b[32m        \u001b[0m\u001b[36mout\u001b[0m:\n",
      "          -\u001b[32m rgb\u001b[0m\n",
      "\u001b[32m        \u001b[0m\u001b[36mrun\u001b[0m:\u001b[32m \"#rio_color\"\u001b[0m\n",
      "  -\u001b[36m class\u001b[0m:\u001b[32m CommandLineTool\u001b[0m\n",
      "\u001b[32m    \u001b[0m\u001b[36mid\u001b[0m:\u001b[32m stac\u001b[0m\n",
      "\u001b[32m    \u001b[0m\u001b[36mrequirements\u001b[0m:\u001b[36m\u001b[0m\n",
      "\u001b[36m      DockerRequirement\u001b[0m:\u001b[36m\u001b[0m\n",
      "\u001b[36m        dockerPull\u001b[0m:\u001b[32m docker.io/curlimages/curl:latest\u001b[0m\n",
      "\u001b[32m    \u001b[0m\u001b[36mbaseCommand\u001b[0m:\u001b[32m curl\u001b[0m\n",
      "\u001b[32m    \u001b[0m\u001b[36mstdout\u001b[0m:\u001b[32m message\u001b[0m\n",
      "\u001b[32m    \u001b[0m\u001b[36marguments\u001b[0m:\n",
      "      -\u001b[32m $( inputs.stac_item )\u001b[0m\n",
      "\u001b[32m    \u001b[0m\u001b[36minputs\u001b[0m:\u001b[36m\u001b[0m\n",
      "\u001b[36m      stac_item\u001b[0m:\u001b[36m\u001b[0m\n",
      "\u001b[36m        type\u001b[0m:\u001b[32m string\u001b[0m\n",
      "\u001b[32m      \u001b[0m\u001b[36mcommon_band_name\u001b[0m:\u001b[36m\u001b[0m\n",
      "\u001b[36m        type\u001b[0m:\u001b[32m string\u001b[0m\n",
      "\u001b[32m    \u001b[0m\u001b[36moutputs\u001b[0m:\u001b[36m\u001b[0m\n",
      "\u001b[36m      hrefs\u001b[0m:\u001b[36m\u001b[0m\n",
      "\u001b[36m        type\u001b[0m:\u001b[32m string\u001b[0m\n",
      "\u001b[32m        \u001b[0m\u001b[36moutputBinding\u001b[0m:\u001b[36m\u001b[0m\n",
      "\u001b[36m          glob\u001b[0m:\u001b[32m message\u001b[0m\n",
      "\u001b[32m          \u001b[0m\u001b[36mloadContents\u001b[0m:\u001b[95m true\u001b[0m\n",
      "\u001b[95m          \u001b[0m\u001b[36moutputEval\u001b[0m: |\n",
      "\u001b[32m            ${\u001b[0m\n",
      "\u001b[32m              const assets = JSON.parse(self[0].contents).assets;\u001b[0m\n",
      "\u001b[32m              const bandKey = Object.keys(assets).find(key =>\u001b[0m\n",
      "\u001b[32m                assets[key]['eo:bands'] &&\u001b[0m\n",
      "\u001b[32m                assets[key]['eo:bands'].length === 1 &&\u001b[0m\n",
      "\u001b[32m                assets[key]['eo:bands'].some(band => band.common_name === inputs.common_band_name)\u001b[0m\n",
      "\u001b[32m              );\u001b[0m\n",
      "\u001b[32m              if (!bandKey) {\u001b[0m\n",
      "\u001b[32m                throw new Error(`No valid asset found for band: ${inputs.common_band_name}`);\u001b[0m\n",
      "\u001b[32m              }\u001b[0m\n",
      "\u001b[32m              return assets[bandKey].href;\u001b[0m\n",
      "\u001b[32m            }\u001b[0m\n",
      "\u001b[32m  \u001b[0m-\u001b[36m class\u001b[0m:\u001b[32m CommandLineTool\u001b[0m\n",
      "\u001b[32m    \u001b[0m\u001b[36mid\u001b[0m:\u001b[32m rio_stack\u001b[0m\n",
      "\u001b[32m    \u001b[0m\u001b[36mrequirements\u001b[0m:\u001b[36m\u001b[0m\n",
      "\u001b[36m      DockerRequirement\u001b[0m:\u001b[36m\u001b[0m\n",
      "\u001b[36m        dockerPull\u001b[0m:\u001b[32m ghcr.io/eoap/how-to/how-to-container:1.1.0\u001b[0m\n",
      "\u001b[32m      \u001b[0m\u001b[36mEnvVarRequirement\u001b[0m:\u001b[36m\u001b[0m\n",
      "\u001b[36m        envDef\u001b[0m:\u001b[36m\u001b[0m\n",
      "\u001b[36m          GDAL_TIFF_INTERNAL_MASK\u001b[0m:\u001b[32m YES\u001b[0m\n",
      "\u001b[32m          \u001b[0m\u001b[36mGDAL_HTTP_MERGE_CONSECUTIVE_RANGES\u001b[0m:\u001b[32m YES\u001b[0m\n",
      "\u001b[32m          \u001b[0m\u001b[36mCPL_VSIL_CURL_ALLOWED_EXTENSIONS\u001b[0m:\u001b[32m \".tif\"\u001b[0m\u001b[36m\u001b[0m\n",
      "\u001b[36m      InitialWorkDirRequirement\u001b[0m:\u001b[36m\u001b[0m\n",
      "\u001b[36m        listing\u001b[0m:\n",
      "          -\u001b[36m entryname\u001b[0m:\u001b[32m run.sh\u001b[0m\n",
      "\u001b[32m            \u001b[0m\u001b[36mentry\u001b[0m: |-\n",
      "\u001b[32m              #!/bin/bash\u001b[0m\n",
      "\u001b[32m              rio stack $@\u001b[0m\n",
      "\u001b[32m    \u001b[0m\u001b[36mbaseCommand\u001b[0m: [\u001b[32m\"/bin/bash\"\u001b[0m,\u001b[32m \"run.sh\"\u001b[0m]\u001b[36m\u001b[0m\n",
      "\u001b[36m    arguments\u001b[0m:\n",
      "      -\u001b[36m valueFrom\u001b[0m:\u001b[32m \"${  \\n  var arr = [];\\n  for(var i=0; i<inputs.tiffs.length; i++) {\\n      arr.push(inputs.tiffs[i]); \\n  }\\n  return arr; \\n  }\\n\"\u001b[0m\n",
      "      -\u001b[32m stacked.tif\u001b[0m\n",
      "\u001b[32m    \u001b[0m\u001b[36minputs\u001b[0m:\u001b[36m\u001b[0m\n",
      "\u001b[36m      tiffs\u001b[0m:\u001b[36m\u001b[0m\n",
      "\u001b[36m        type\u001b[0m:\u001b[32m string[]\u001b[0m\n",
      "\u001b[32m    \u001b[0m\u001b[36moutputs\u001b[0m:\u001b[36m\u001b[0m\n",
      "\u001b[36m      stacked\u001b[0m:\u001b[36m\u001b[0m\n",
      "\u001b[36m        type\u001b[0m:\u001b[32m File\u001b[0m\n",
      "\u001b[32m        \u001b[0m\u001b[36moutputBinding\u001b[0m:\u001b[36m\u001b[0m\n",
      "\u001b[36m          glob\u001b[0m:\u001b[32m stacked.tif\u001b[0m\n",
      "\u001b[32m  \u001b[0m-\u001b[36m class\u001b[0m:\u001b[32m CommandLineTool\u001b[0m\n",
      "\u001b[32m    \u001b[0m\u001b[36mid\u001b[0m:\u001b[32m rio_color\u001b[0m\n",
      "\u001b[32m    \u001b[0m\u001b[36mrequirements\u001b[0m:\u001b[36m\u001b[0m\n",
      "\u001b[36m      DockerRequirement\u001b[0m:\u001b[36m\u001b[0m\n",
      "\u001b[36m        dockerPull\u001b[0m:\u001b[32m ghcr.io/eoap/how-to/how-to-container:1.1.0\u001b[0m\n",
      "\u001b[32m      \u001b[0m\u001b[36mInitialWorkDirRequirement\u001b[0m:\u001b[36m\u001b[0m\n",
      "\u001b[36m        listing\u001b[0m:\n",
      "          -\u001b[36m entryname\u001b[0m:\u001b[32m run.sh\u001b[0m\n",
      "\u001b[32m            \u001b[0m\u001b[36mentry\u001b[0m: |-\n",
      "\u001b[32m              #!/bin/bash\u001b[0m\n",
      "\u001b[32m              rio color -j -1 --out-dtype uint8 $1 rgb.tif \"gamma 3 0.95, sigmoidal rgb 35 0.13\"\u001b[0m\n",
      "\u001b[32m    \u001b[0m\u001b[36mbaseCommand\u001b[0m: [\u001b[32m\"/bin/bash\"\u001b[0m,\u001b[32m \"run.sh\"\u001b[0m]\u001b[36m\u001b[0m\n",
      "\u001b[36m    arguments\u001b[0m:\n",
      "      -\u001b[32m $( inputs.stacked.path )\u001b[0m\n",
      "\u001b[32m    \u001b[0m\u001b[36minputs\u001b[0m:\u001b[36m\u001b[0m\n",
      "\u001b[36m      stacked\u001b[0m:\u001b[36m\u001b[0m\n",
      "\u001b[36m        type\u001b[0m:\u001b[32m File\u001b[0m\n",
      "\u001b[32m    \u001b[0m\u001b[36moutputs\u001b[0m:\u001b[36m\u001b[0m\n",
      "\u001b[36m      rgb\u001b[0m:\u001b[36m\u001b[0m\n",
      "\u001b[36m        type\u001b[0m:\u001b[32m File\u001b[0m\n",
      "\u001b[32m        \u001b[0m\u001b[36moutputBinding\u001b[0m:\u001b[36m\u001b[0m\n",
      "\u001b[36m          glob\u001b[0m:\u001b[32m rgb.tif\u001b[0m\n"
     ]
    }
   ],
   "source": [
    "cat $cwl_file | yq e . - "
   ]
  },
  {
   "cell_type": "markdown",
   "metadata": {},
   "source": [
    "Its graphical representation:"
   ]
  },
  {
   "cell_type": "code",
   "execution_count": 26,
   "metadata": {
    "vscode": {
     "languageId": "shellscript"
    }
   },
   "outputs": [
    {
     "data": {
      "image/png": "[encoded data removed]"
     },
     "metadata": {},
     "output_type": "display_data"
    }
   ],
   "source": [
    "cwltool --print-dot $cwl_file 2> /dev/null | dot -Tpng | display"
   ]
  },
  {
   "cell_type": "markdown",
   "metadata": {},
   "source": [
    "2. Scatter Configuration\n",
    "\n",
    "* Step 1: Scatter on `common_band_name`\n",
    "\n",
    "The `step_curl` step scatters over the `common_band_name` parameter array (`[red-band, green-band, blue-band]`)."
   ]
  },
  {
   "cell_type": "code",
   "execution_count": 27,
   "metadata": {
    "vscode": {
     "languageId": "shellscript"
    }
   },
   "outputs": [
    {
     "name": "stdout",
     "output_type": "stream",
     "text": [
      "\u001b[36min\u001b[0m:\u001b[36m\u001b[0m\n",
      "\u001b[36m  stac_item\u001b[0m:\u001b[32m stac-item\u001b[0m\n",
      "\u001b[32m  \u001b[0m\u001b[36mcommon_band_name\u001b[0m: [\u001b[32mred-band\u001b[0m,\u001b[32m green-band\u001b[0m,\u001b[32m blue-band\u001b[0m]\u001b[36m\u001b[0m\n",
      "\u001b[36mout\u001b[0m:\n",
      "  -\u001b[32m hrefs\u001b[0m\n",
      "\u001b[32m\u001b[0m\u001b[36mrun\u001b[0m:\u001b[32m \"#stac\"\u001b[0m\u001b[36m\u001b[0m\n",
      "\u001b[36mscatter\u001b[0m:\u001b[32m common_band_name\u001b[0m\n",
      "\u001b[32m\u001b[0m\u001b[36mscatterMethod\u001b[0m:\u001b[32m dotproduct\u001b[0m\n"
     ]
    }
   ],
   "source": [
    "cat $cwl_file | yq e .'$graph[0].steps.step_curl' -"
   ]
  },
  {
   "cell_type": "markdown",
   "metadata": {},
   "source": [
    "* `scatter`: Scatters the step over the values of `common_band_name`.\n",
    "* `scatterMethod: dotproduct`: Matches corresponding elements in the array for parallel execution.\n",
    "\n",
    "Step 2: Combine Results\n",
    "\n",
    "The `step_stack` step combines the TIFF files fetched by `step_curl.`"
   ]
  },
  {
   "cell_type": "code",
   "execution_count": 29,
   "metadata": {
    "vscode": {
     "languageId": "shellscript"
    }
   },
   "outputs": [
    {
     "name": "stdout",
     "output_type": "stream",
     "text": [
      "\u001b[36min\u001b[0m:\u001b[36m\u001b[0m\n",
      "\u001b[36m  tiffs\u001b[0m:\u001b[36m\u001b[0m\n",
      "\u001b[36m    source\u001b[0m:\u001b[32m step_curl/hrefs\u001b[0m\n",
      "\u001b[32m\u001b[0m\u001b[36mout\u001b[0m:\n",
      "  -\u001b[32m stacked\u001b[0m\n",
      "\u001b[32m\u001b[0m\u001b[36mrun\u001b[0m:\u001b[32m \"#rio_stack\"\u001b[0m\n"
     ]
    }
   ],
   "source": [
    "cat $cwl_file | yq e .'$graph[0].steps.step_stack' -"
   ]
  },
  {
   "cell_type": "markdown",
   "metadata": {},
   "source": [
    "3. Substeps and Tools\n",
    "\n",
    "`stac` Tool\n",
    "\n",
    "* Fetches URLs of the TIFF files corresponding to each band.\n",
    "\n",
    "`rio_stack` Tool\n",
    "\n",
    "* Stacks the TIFF files into a single composite file."
   ]
  },
  {
   "cell_type": "markdown",
   "metadata": {},
   "source": [
    "4. Run the Workflow\n",
    "\n",
    "Execute the workflow with the default parameters:\n",
    "\n",
    "```bash\n",
    "cwltool scatter-input-parameters.cwl \\\n",
    "    --stac-item https://earth-search.aws.element84.com/v0/collections/sentinel-s2-l2a-cogs/items/S2B_53HPA_20210723_0_L2A\n",
    "```"
   ]
  },
  {
   "cell_type": "code",
   "execution_count": 9,
   "metadata": {
    "vscode": {
     "languageId": "shellscript"
    }
   },
   "outputs": [
    {
     "name": "stdout",
     "output_type": "stream",
     "text": [
      "\u001b[1;30mINFO\u001b[0m /home/fbrito/.local/bin/cwltool 3.1.20240508115724\n",
      "\u001b[1;30mINFO\u001b[0m Resolved '../cwl/09-scatter-input-parameters/scatter-input-parameters.cwl' to 'file:///data/work/github/eoepca-plus/how-to/cwl/09-scatter-input-parameters/scatter-input-parameters.cwl'\n",
      "\u001b[1;30mINFO\u001b[0m [workflow ] start\n",
      "\u001b[1;30mINFO\u001b[0m [workflow ] starting step step_curl\n",
      "\u001b[1;30mINFO\u001b[0m [step step_curl] start\n",
      "\u001b[1;30mINFO\u001b[0m [job step_curl] /tmp/2tsxbdar$ docker \\\n",
      "    run \\\n",
      "    -i \\\n",
      "    --mount=type=bind,source=/tmp/2tsxbdar,target=/xmoJSV \\\n",
      "    --mount=type=bind,source=/tmp/t1k_p8nc,target=/tmp \\\n",
      "    --workdir=/xmoJSV \\\n",
      "    --read-only=true \\\n",
      "    --log-driver=none \\\n",
      "    --user=1000:1000 \\\n",
      "    --rm \\\n",
      "    --cidfile=/tmp/fxi6r5dr/20241211100114-838427.cid \\\n",
      "    --env=TMPDIR=/tmp \\\n",
      "    --env=HOME=/xmoJSV \\\n",
      "    docker.io/curlimages/curl:latest \\\n",
      "    curl \\\n",
      "    https://earth-search.aws.element84.com/v0/collections/sentinel-s2-l2a-cogs/items/S2B_53HPA_20210723_0_L2A > /tmp/2tsxbdar/message\n",
      "  % Total    % Received % Xferd  Average Speed   Time    Time     Time  Current\n",
      "                                 Dload  Upload   Total   Spent    Left  Speed\n",
      "100 10156  100 10156    0     0  17568      0 --:--:-- --:--:-- --:--:-- 17570\n",
      "\u001b[1;30mINFO\u001b[0m [job step_curl] completed success\n",
      "\u001b[1;30mINFO\u001b[0m [step step_curl] start\n",
      "\u001b[1;30mINFO\u001b[0m [job step_curl_2] /tmp/pk_h54s_$ docker \\\n",
      "    run \\\n",
      "    -i \\\n",
      "    --mount=type=bind,source=/tmp/pk_h54s_,target=/xmoJSV \\\n",
      "    --mount=type=bind,source=/tmp/_fkl7rto,target=/tmp \\\n",
      "    --workdir=/xmoJSV \\\n",
      "    --read-only=true \\\n",
      "    --log-driver=none \\\n",
      "    --user=1000:1000 \\\n",
      "    --rm \\\n",
      "    --cidfile=/tmp/6oorz6dy/20241211100115-847302.cid \\\n",
      "    --env=TMPDIR=/tmp \\\n",
      "    --env=HOME=/xmoJSV \\\n",
      "    docker.io/curlimages/curl:latest \\\n",
      "    curl \\\n",
      "    https://earth-search.aws.element84.com/v0/collections/sentinel-s2-l2a-cogs/items/S2B_53HPA_20210723_0_L2A > /tmp/pk_h54s_/message\n",
      "  % Total    % Received % Xferd  Average Speed   Time    Time     Time  Current\n",
      "                                 Dload  Upload   Total   Spent    Left  Speed\n",
      "100 10156  100 10156    0     0  17809      0 --:--:-- --:--:-- --:--:-- 17786\n",
      "\u001b[1;30mINFO\u001b[0m [job step_curl_2] Max memory used: 0MiB\n",
      "\u001b[1;30mINFO\u001b[0m [job step_curl_2] completed success\n",
      "\u001b[1;30mINFO\u001b[0m [step step_curl] start\n",
      "\u001b[1;30mINFO\u001b[0m [job step_curl_3] /tmp/es52jg2b$ docker \\\n",
      "    run \\\n",
      "    -i \\\n",
      "    --mount=type=bind,source=/tmp/es52jg2b,target=/xmoJSV \\\n",
      "    --mount=type=bind,source=/tmp/mq2lwqyw,target=/tmp \\\n",
      "    --workdir=/xmoJSV \\\n",
      "    --read-only=true \\\n",
      "    --log-driver=none \\\n",
      "    --user=1000:1000 \\\n",
      "    --rm \\\n",
      "    --cidfile=/tmp/dufya12o/20241211100116-927021.cid \\\n",
      "    --env=TMPDIR=/tmp \\\n",
      "    --env=HOME=/xmoJSV \\\n",
      "    docker.io/curlimages/curl:latest \\\n",
      "    curl \\\n",
      "    https://earth-search.aws.element84.com/v0/collections/sentinel-s2-l2a-cogs/items/S2B_53HPA_20210723_0_L2A > /tmp/es52jg2b/message\n",
      "  % Total    % Received % Xferd  Average Speed   Time    Time     Time  Current\n",
      "                                 Dload  Upload   Total   Spent    Left  Speed\n",
      "100 10156  100 10156    0     0  17634      0 --:--:-- --:--:-- --:--:-- 17631\n",
      "\u001b[1;30mINFO\u001b[0m [job step_curl_3] Max memory used: 0MiB\n",
      "\u001b[1;30mINFO\u001b[0m [job step_curl_3] completed success\n",
      "\u001b[1;30mINFO\u001b[0m [step step_curl] completed success\n",
      "\u001b[1;30mINFO\u001b[0m [workflow ] starting step step_stack\n",
      "\u001b[1;30mINFO\u001b[0m [step step_stack] start\n",
      "\u001b[1;30mINFO\u001b[0m [job step_stack] /tmp/advd4trc$ docker \\\n",
      "    run \\\n",
      "    -i \\\n",
      "    --mount=type=bind,source=/tmp/advd4trc,target=/xmoJSV \\\n",
      "    --mount=type=bind,source=/tmp/v2u_x1br,target=/tmp \\\n",
      "    --workdir=/xmoJSV \\\n",
      "    --read-only=true \\\n",
      "    --user=1000:1000 \\\n",
      "    --rm \\\n",
      "    --cidfile=/tmp/1f3lhphe/20241211100118-002069.cid \\\n",
      "    --env=TMPDIR=/tmp \\\n",
      "    --env=HOME=/xmoJSV \\\n",
      "    --env=CPL_VSIL_CURL_ALLOWED_EXTENSIONS=.tif \\\n",
      "    --env=GDAL_HTTP_MERGE_CONSECUTIVE_RANGES=YES \\\n",
      "    --env=GDAL_TIFF_INTERNAL_MASK=YES \\\n",
      "    ghcr.io/eoap/how-to/how-to-container:1.1.0 \\\n",
      "    /bin/bash \\\n",
      "    run.sh \\\n",
      "    https://sentinel-cogs.s3.us-west-2.amazonaws.com/sentinel-s2-l2a-cogs/53/H/PA/2021/7/S2B_53HPA_20210723_0_L2A/B04.tif \\\n",
      "    https://sentinel-cogs.s3.us-west-2.amazonaws.com/sentinel-s2-l2a-cogs/53/H/PA/2021/7/S2B_53HPA_20210723_0_L2A/B03.tif \\\n",
      "    https://sentinel-cogs.s3.us-west-2.amazonaws.com/sentinel-s2-l2a-cogs/53/H/PA/2021/7/S2B_53HPA_20210723_0_L2A/B02.tif \\\n",
      "    stacked.tif\n",
      "\u001b[1;30mINFO\u001b[0m [job step_stack] Max memory used: 1278MiB\n",
      "\u001b[1;30mINFO\u001b[0m [job step_stack] completed success\n",
      "\u001b[1;30mINFO\u001b[0m [step step_stack] completed success\n",
      "\u001b[1;30mINFO\u001b[0m [workflow ] starting step step_color\n",
      "\u001b[1;30mINFO\u001b[0m [step step_color] start\n",
      "\u001b[1;30mINFO\u001b[0m [job step_color] /tmp/02hd1b0_$ docker \\\n",
      "    run \\\n",
      "    -i \\\n",
      "    --mount=type=bind,source=/tmp/02hd1b0_,target=/xmoJSV \\\n",
      "    --mount=type=bind,source=/tmp/7he9br7q,target=/tmp \\\n",
      "    --mount=type=bind,source=/tmp/advd4trc/stacked.tif,target=/var/lib/cwl/stg97d8a3a2-06e9-4d08-9dc0-a6e1155e3b6c/stacked.tif,readonly \\\n",
      "    --workdir=/xmoJSV \\\n",
      "    --read-only=true \\\n",
      "    --user=1000:1000 \\\n",
      "    --rm \\\n",
      "    --cidfile=/tmp/ixba9v2r/20241211100207-956800.cid \\\n",
      "    --env=TMPDIR=/tmp \\\n",
      "    --env=HOME=/xmoJSV \\\n",
      "    ghcr.io/eoap/how-to/how-to-container:1.1.0 \\\n",
      "    /bin/bash \\\n",
      "    run.sh \\\n",
      "    /var/lib/cwl/stg97d8a3a2-06e9-4d08-9dc0-a6e1155e3b6c/stacked.tif\n",
      "\u001b[1;30mINFO\u001b[0m [job step_color] Max memory used: 963MiB\n",
      "\u001b[1;30mINFO\u001b[0m [job step_color] completed success\n",
      "\u001b[1;30mINFO\u001b[0m [step step_color] completed success\n",
      "\u001b[1;30mINFO\u001b[0m [workflow ] completed success\n",
      "\u001b[1;30mINFO\u001b[0m Final process status is success\n"
     ]
    }
   ],
   "source": [
    "\n",
    "\n",
    "cwltool ../cwl/09-scatter-input-parameters/scatter-input-parameters.cwl --stac-item https://earth-search.aws.element84.com/v0/collections/sentinel-s2-l2a-cogs/items/S2B_53HPA_20210723_0_L2A > output.json\n"
   ]
  },
  {
   "cell_type": "markdown",
   "metadata": {},
   "source": [
    "5. Expected Output\n",
    "\n",
    "Intermediate Outputs:\n",
    "\n",
    "* `hrefs`: URLs of the TIFF files for `red`, `green`, and `blue` bands.\n",
    "* `stacked.tif`: Composite TIFF file of all bands.\n",
    "\n",
    "Final Output:\n",
    "\n",
    "* `rgb-tif`: RGB composite TIFF file.\n"
   ]
  },
  {
   "cell_type": "code",
   "execution_count": 30,
   "metadata": {
    "vscode": {
     "languageId": "shellscript"
    }
   },
   "outputs": [
    {
     "name": "stdout",
     "output_type": "stream",
     "text": [
      "{\u001b[36m\u001b[0m\n",
      "\u001b[36m  \"rgb-tif\"\u001b[0m: {\u001b[36m\u001b[0m\n",
      "\u001b[36m    \"location\"\u001b[0m:\u001b[32m \"file:///data/work/github/eoepca-plus/how-to/docs/rgb.tif\"\u001b[0m,\u001b[36m\u001b[0m\n",
      "\u001b[36m    \"basename\"\u001b[0m:\u001b[32m \"rgb.tif\"\u001b[0m,\u001b[36m\u001b[0m\n",
      "\u001b[36m    \"class\"\u001b[0m:\u001b[32m \"File\"\u001b[0m,\u001b[36m\u001b[0m\n",
      "\u001b[36m    \"checksum\"\u001b[0m:\u001b[32m \"sha1$e18f83a555f6ecf55ab1719b31a59f00c185f433\"\u001b[0m,\u001b[36m\u001b[0m\n",
      "\u001b[36m    \"size\"\u001b[0m:\u001b[95m 361747464\u001b[0m,\u001b[36m\u001b[0m\n",
      "\u001b[36m    \"path\"\u001b[0m:\u001b[32m \"/data/work/github/eoepca-plus/how-to/docs/rgb.tif\"\u001b[0m\n",
      "  },\u001b[36m\u001b[0m\n",
      "\u001b[36m  \"stack\"\u001b[0m: {\u001b[36m\u001b[0m\n",
      "\u001b[36m    \"location\"\u001b[0m:\u001b[32m \"file:///data/work/github/eoepca-plus/how-to/docs/stacked.tif\"\u001b[0m,\u001b[36m\u001b[0m\n",
      "\u001b[36m    \"basename\"\u001b[0m:\u001b[32m \"stacked.tif\"\u001b[0m,\u001b[36m\u001b[0m\n",
      "\u001b[36m    \"class\"\u001b[0m:\u001b[32m \"File\"\u001b[0m,\u001b[36m\u001b[0m\n",
      "\u001b[36m    \"checksum\"\u001b[0m:\u001b[32m \"sha1$a9fcfcac28c669f3714eaa4cc59858a28f1e715b\"\u001b[0m,\u001b[36m\u001b[0m\n",
      "\u001b[36m    \"size\"\u001b[0m:\u001b[95m 723450636\u001b[0m,\u001b[36m\u001b[0m\n",
      "\u001b[36m    \"path\"\u001b[0m:\u001b[32m \"/data/work/github/eoepca-plus/how-to/docs/stacked.tif\"\u001b[0m\n",
      "  }\n",
      "}\n"
     ]
    }
   ],
   "source": [
    "cat output.json | yq e . -o=json"
   ]
  },
  {
   "cell_type": "markdown",
   "metadata": {},
   "source": [
    "## Key Takeaways\n",
    "\n",
    "Scattering with Input Parameters:\n",
    "\n",
    "* The `scatter` field enables parallel execution over array inputs.\n",
    "* `scatterMethod: dotproduct` ensures corresponding elements in arrays are processed together.\n",
    "\n",
    "\n",
    "Multiple Input Fields:\n",
    "\n",
    "* `MultipleInputFeatureRequirement` allows combining multiple input parameters in a single scatter operation.\n",
    "\n",
    "Parallel and Modular Design:\n",
    "\n",
    "* Scattering simplifies workflows by enabling parallel processing of input parameters.\n",
    "\n",
    "This guide demonstrates how to use scattering to process multiple input parameters in parallel within a CWL workflow."
   ]
  },
  {
   "cell_type": "code",
   "execution_count": null,
   "metadata": {
    "vscode": {
     "languageId": "shellscript"
    }
   },
   "outputs": [],
   "source": []
  }
 ],
 "metadata": {
  "kernelspec": {
   "display_name": "Bash",
   "language": "bash",
   "name": "bash"
  },
  "language_info": {
   "codemirror_mode": "shell",
   "file_extension": ".sh",
   "mimetype": "text/x-sh",
   "name": "bash"
  }
 },
 "nbformat": 4,
 "nbformat_minor": 2
}
