{
 "cells": [
  {
   "cell_type": "markdown",
   "metadata": {
    "vscode": {
     "languageId": "shellscript"
    }
   },
   "source": [
    "# How-to Guide: Capturing JSON from stdout and Reusing It in Another CWL Tool\n",
    "\n",
    "This guide demonstrates how to capture a JSON response from the stdout of one CWL tool and reuse it as input for another tool.\n",
    "\n",
    "We'll focus on two key sections:\n",
    "\n",
    "1. Capturing JSON output:"
   ]
  },
  {
   "cell_type": "code",
   "execution_count": 1,
   "metadata": {
    "vscode": {
     "languageId": "shellscript"
    }
   },
   "outputs": [],
   "source": [
    "cwl_file=\"../cwl/03-json-stdout/capture-json-stdout.cwl\""
   ]
  },
  {
   "cell_type": "code",
   "execution_count": 2,
   "metadata": {
    "vscode": {
     "languageId": "shellscript"
    }
   },
   "outputs": [
    {
     "name": "stdout",
     "output_type": "stream",
     "text": [
      "\u001b[36mstdout\u001b[0m:\u001b[32m message\u001b[0m\n"
     ]
    }
   ],
   "source": [
    "cat  $cwl_file | yq e .'$graph[1]' - | yq '.. | select(has(\"stdout\")) | {\"stdout\": .stdout}'"
   ]
  },
  {
   "cell_type": "code",
   "execution_count": 3,
   "metadata": {
    "vscode": {
     "languageId": "shellscript"
    }
   },
   "outputs": [
    {
     "name": "stdout",
     "output_type": "stream",
     "text": [
      "\u001b[36moutputs\u001b[0m:\u001b[36m\u001b[0m\n",
      "\u001b[36m  asset\u001b[0m:\u001b[36m\u001b[0m\n",
      "\u001b[36m    type\u001b[0m:\u001b[32m Any\u001b[0m\n",
      "\u001b[32m    \u001b[0m\u001b[36moutputBinding\u001b[0m:\u001b[36m\u001b[0m\n",
      "\u001b[36m      glob\u001b[0m:\u001b[32m message\u001b[0m\n",
      "\u001b[32m      \u001b[0m\u001b[36mloadContents\u001b[0m:\u001b[95m true\u001b[0m\n",
      "\u001b[95m      \u001b[0m\u001b[36moutputEval\u001b[0m:\u001b[32m ${ return JSON.parse(self[0].contents).assets; }\u001b[0m\n"
     ]
    }
   ],
   "source": [
    "cat  $cwl_file | yq e .'$graph[1]' - | yq '.. | select(has(\"outputs\")) | {\"outputs\": .outputs}'\n"
   ]
  },
  {
   "cell_type": "markdown",
   "metadata": {},
   "source": [
    "2. Reusing captured JSON in another tool:"
   ]
  },
  {
   "cell_type": "code",
   "execution_count": 4,
   "metadata": {
    "vscode": {
     "languageId": "shellscript"
    }
   },
   "outputs": [
    {
     "name": "stdout",
     "output_type": "stream",
     "text": [
      "\u001b[36marguments\u001b[0m:\n",
      "  -\u001b[36m valueFrom\u001b[0m:\u001b[32m \"${\\n    let redKey = Object.keys(inputs.asset).find(key => \\n        inputs.asset[key]['eo:bands'] && \\n        inputs.asset[key]['eo:bands'].length === 1 &&\\n        inputs.asset[key]['eo:bands'].some(band => band.common_name === inputs.common_band_name)\\n    );\\n    return inputs.asset[redKey].href;\\n}\\n\"\u001b[0m\n",
      "  -\u001b[36m valueFrom\u001b[0m: |\n",
      "\u001b[32m      ${\u001b[0m\n",
      "\u001b[32m          return inputs.common_band_name + \".png\";\u001b[0m\n",
      "\u001b[32m      }\u001b[0m\n",
      "\u001b[32m\u001b[0m\n"
     ]
    }
   ],
   "source": [
    "cat $cwl_file | yq e .'$graph[2]' - | yq '.. | select(has(\"arguments\")) | {\"arguments\": (.arguments | .[-2:])}'\n"
   ]
  },
  {
   "cell_type": "markdown",
   "metadata": {
    "vscode": {
     "languageId": "shellscript"
    }
   },
   "source": [
    "## Objective\n",
    "\n",
    "- Tool 1 (`stac`): Fetch a STAC item in JSON format and extract its `assets`.\n",
    "- Tool 2 (`rio`): Process the extracted asset to generate a PNG image based on the specified band."
   ]
  },
  {
   "cell_type": "markdown",
   "metadata": {},
   "source": [
    "## Steps\n",
    "\n",
    "1. Capturing JSON from stdout\n",
    "\n",
    "In the `stac` tool:\n",
    "\n",
    "Relevant Block"
   ]
  },
  {
   "cell_type": "code",
   "execution_count": 5,
   "metadata": {
    "vscode": {
     "languageId": "shellscript"
    }
   },
   "outputs": [
    {
     "name": "stdout",
     "output_type": "stream",
     "text": [
      "\u001b[36mstdout\u001b[0m:\u001b[32m message\u001b[0m\n"
     ]
    }
   ],
   "source": [
    "cat  $cwl_file | yq e .'$graph[1]' - | yq '.. | select(has(\"stdout\")) | {\"stdout\": .stdout}'"
   ]
  },
  {
   "cell_type": "code",
   "execution_count": 6,
   "metadata": {
    "vscode": {
     "languageId": "shellscript"
    }
   },
   "outputs": [
    {
     "name": "stdout",
     "output_type": "stream",
     "text": [
      "\u001b[36moutputs\u001b[0m:\u001b[36m\u001b[0m\n",
      "\u001b[36m  asset\u001b[0m:\u001b[36m\u001b[0m\n",
      "\u001b[36m    type\u001b[0m:\u001b[32m Any\u001b[0m\n",
      "\u001b[32m    \u001b[0m\u001b[36moutputBinding\u001b[0m:\u001b[36m\u001b[0m\n",
      "\u001b[36m      glob\u001b[0m:\u001b[32m message\u001b[0m\n",
      "\u001b[32m      \u001b[0m\u001b[36mloadContents\u001b[0m:\u001b[95m true\u001b[0m\n",
      "\u001b[95m      \u001b[0m\u001b[36moutputEval\u001b[0m:\u001b[32m ${ return JSON.parse(self[0].contents).assets; }\u001b[0m\n"
     ]
    }
   ],
   "source": [
    "cat  $cwl_file | yq e .'$graph[1]' - | yq '.. | select(has(\"outputs\")) | {\"outputs\": .outputs}'"
   ]
  },
  {
   "cell_type": "markdown",
   "metadata": {},
   "source": [
    "* `stdout: message`: Redirects the tool's `stdout` to a file named `message`.\n",
    "* `glob: message`: Locates the `message` file.\n",
    "* `loadContents: true`: Reads the content of the file into memory.\n",
    "* `outputEval`: Parses the JSON content to extract the `assets` field using JavaScript (`JSON.parse`).\n",
    "\n",
    "How It Works\n",
    "\n",
    "* The `stac` tool fetches a STAC item as JSON using `curl`.\n",
    "* The output (`stdout`) is saved to `message`.\n",
    "* The `outputs` block processes this JSON and makes the `assets` field available for downstream steps."
   ]
  },
  {
   "cell_type": "markdown",
   "metadata": {},
   "source": [
    "2. Reusing Captured JSON in Another Tool\n",
    "\n",
    "In the `rio` tool:\n",
    "\n",
    "Relevant Block"
   ]
  },
  {
   "cell_type": "code",
   "execution_count": 7,
   "metadata": {
    "vscode": {
     "languageId": "shellscript"
    }
   },
   "outputs": [
    {
     "name": "stdout",
     "output_type": "stream",
     "text": [
      "\u001b[36marguments\u001b[0m:\n",
      "  -\u001b[36m valueFrom\u001b[0m:\u001b[32m \"${\\n    let redKey = Object.keys(inputs.asset).find(key => \\n        inputs.asset[key]['eo:bands'] && \\n        inputs.asset[key]['eo:bands'].length === 1 &&\\n        inputs.asset[key]['eo:bands'].some(band => band.common_name === inputs.common_band_name)\\n    );\\n    return inputs.asset[redKey].href;\\n}\\n\"\u001b[0m\n",
      "  -\u001b[36m valueFrom\u001b[0m: |\n",
      "\u001b[32m      ${\u001b[0m\n",
      "\u001b[32m          return inputs.common_band_name + \".png\";\u001b[0m\n",
      "\u001b[32m      }\u001b[0m\n",
      "\u001b[32m\u001b[0m\n"
     ]
    }
   ],
   "source": [
    "cat $cwl_file | yq e .'$graph[2]' - | yq '.. | select(has(\"arguments\")) | {\"arguments\": (.arguments | .[-2:])}'\n"
   ]
  },
  {
   "cell_type": "markdown",
   "metadata": {},
   "source": [
    "* First `valueFrom`: Selects the asset whose `eo:bands` array contains a band with a `common_name` matching `inputs.common_band_name` and returns its `href`.\n",
    "* Second `valueFrom`: Generates the output filename for the PNG (`red.png` for the `red` band).\n",
    "\n",
    "How It Works\n",
    "\n",
    "* The `rio` tool processes the asset URL (href) extracted in the first step.`\n",
    "* It generates a PNG file using the `common-band-name` and saves it as `<common-band-name>.png."
   ]
  },
  {
   "cell_type": "markdown",
   "metadata": {},
   "source": [
    "3. Complete CWL Example\n",
    "\n",
    "Here’s the full `capture-json-stdout.cwl` file:"
   ]
  },
  {
   "cell_type": "code",
   "execution_count": 8,
   "metadata": {
    "vscode": {
     "languageId": "shellscript"
    }
   },
   "outputs": [
    {
     "name": "stdout",
     "output_type": "stream",
     "text": [
      "\u001b[36mcwlVersion\u001b[0m:\u001b[32m v1.2\u001b[0m\n",
      "\u001b[32m\u001b[0m\u001b[36m$graph\u001b[0m:\n",
      "  -\u001b[36m class\u001b[0m:\u001b[32m Workflow\u001b[0m\n",
      "\u001b[32m    \u001b[0m\u001b[36mid\u001b[0m:\u001b[32m main\u001b[0m\n",
      "\u001b[32m    \u001b[0m\u001b[36mrequirements\u001b[0m:\u001b[36m\u001b[0m\n",
      "\u001b[36m      InlineJavascriptRequirement\u001b[0m: {}\u001b[36m\u001b[0m\n",
      "\u001b[36m      NetworkAccess\u001b[0m:\u001b[36m\u001b[0m\n",
      "\u001b[36m        networkAccess\u001b[0m:\u001b[95m true\u001b[0m\n",
      "\u001b[95m    \u001b[0m\u001b[36minputs\u001b[0m:\u001b[36m\u001b[0m\n",
      "\u001b[36m      stac-item\u001b[0m:\u001b[36m\u001b[0m\n",
      "\u001b[36m        type\u001b[0m:\u001b[32m string\u001b[0m\n",
      "\u001b[32m      \u001b[0m\u001b[36mcommon-band-name\u001b[0m:\u001b[36m\u001b[0m\n",
      "\u001b[36m        type\u001b[0m:\u001b[32m string\u001b[0m\n",
      "\u001b[32m    \u001b[0m\u001b[36moutputs\u001b[0m:\u001b[36m\u001b[0m\n",
      "\u001b[36m      preview\u001b[0m:\u001b[36m\u001b[0m\n",
      "\u001b[36m        outputSource\u001b[0m:\u001b[32m step_translate/preview\u001b[0m\n",
      "\u001b[32m        \u001b[0m\u001b[36mtype\u001b[0m:\u001b[32m File\u001b[0m\n",
      "\u001b[32m      \u001b[0m\u001b[36mjson_output\u001b[0m:\u001b[36m\u001b[0m\n",
      "\u001b[36m        outputSource\u001b[0m:\u001b[32m step_stac/asset\u001b[0m\n",
      "\u001b[32m        \u001b[0m\u001b[36mtype\u001b[0m:\u001b[32m Any\u001b[0m\n",
      "\u001b[32m    \u001b[0m\u001b[36msteps\u001b[0m:\u001b[36m\u001b[0m\n",
      "\u001b[36m      step_stac\u001b[0m:\u001b[36m\u001b[0m\n",
      "\u001b[36m        in\u001b[0m:\u001b[36m\u001b[0m\n",
      "\u001b[36m          stac_item\u001b[0m:\u001b[32m stac-item\u001b[0m\n",
      "\u001b[32m        \u001b[0m\u001b[36mout\u001b[0m:\n",
      "          -\u001b[32m asset\u001b[0m\n",
      "\u001b[32m        \u001b[0m\u001b[36mrun\u001b[0m:\u001b[32m \"#stac\"\u001b[0m\u001b[36m\u001b[0m\n",
      "\u001b[36m      step_translate\u001b[0m:\u001b[36m\u001b[0m\n",
      "\u001b[36m        in\u001b[0m:\u001b[36m\u001b[0m\n",
      "\u001b[36m          asset\u001b[0m:\u001b[36m\u001b[0m\n",
      "\u001b[36m            source\u001b[0m:\u001b[32m step_stac/asset\u001b[0m\n",
      "\u001b[32m          \u001b[0m\u001b[36mcommon_band_name\u001b[0m:\u001b[32m common-band-name\u001b[0m\n",
      "\u001b[32m        \u001b[0m\u001b[36mout\u001b[0m:\n",
      "          -\u001b[32m preview\u001b[0m\n",
      "\u001b[32m        \u001b[0m\u001b[36mrun\u001b[0m:\u001b[32m \"#rio\"\u001b[0m\n",
      "  -\u001b[36m class\u001b[0m:\u001b[32m CommandLineTool\u001b[0m\n",
      "\u001b[32m    \u001b[0m\u001b[36mid\u001b[0m:\u001b[32m stac\u001b[0m\n",
      "\u001b[32m    \u001b[0m\u001b[36mrequirements\u001b[0m:\u001b[36m\u001b[0m\n",
      "\u001b[36m      DockerRequirement\u001b[0m:\u001b[36m\u001b[0m\n",
      "\u001b[36m        dockerPull\u001b[0m:\u001b[32m docker.io/curlimages/curl:latest\u001b[0m\n",
      "\u001b[32m    \u001b[0m\u001b[36mbaseCommand\u001b[0m:\u001b[32m curl\u001b[0m\n",
      "\u001b[32m    \u001b[0m\u001b[36marguments\u001b[0m:\n",
      "      -\u001b[32m -s\u001b[0m\n",
      "\u001b[32m      \u001b[0m-\u001b[32m $( inputs.stac_item )\u001b[0m\n",
      "\u001b[32m    \u001b[0m\u001b[36minputs\u001b[0m:\u001b[36m\u001b[0m\n",
      "\u001b[36m      stac_item\u001b[0m:\u001b[36m\u001b[0m\n",
      "\u001b[36m        type\u001b[0m:\u001b[32m string\u001b[0m\n",
      "\u001b[32m    \u001b[0m\u001b[36mstdout\u001b[0m:\u001b[32m message\u001b[0m\n",
      "\u001b[32m    \u001b[0m\u001b[36moutputs\u001b[0m:\u001b[36m\u001b[0m\n",
      "\u001b[36m      asset\u001b[0m:\u001b[36m\u001b[0m\n",
      "\u001b[36m        type\u001b[0m:\u001b[32m Any\u001b[0m\n",
      "\u001b[32m        \u001b[0m\u001b[36moutputBinding\u001b[0m:\u001b[36m\u001b[0m\n",
      "\u001b[36m          glob\u001b[0m:\u001b[32m message\u001b[0m\n",
      "\u001b[32m          \u001b[0m\u001b[36mloadContents\u001b[0m:\u001b[95m true\u001b[0m\n",
      "\u001b[95m          \u001b[0m\u001b[36moutputEval\u001b[0m:\u001b[32m ${ return JSON.parse(self[0].contents).assets; }\u001b[0m\n",
      "\u001b[32m  \u001b[0m-\u001b[36m class\u001b[0m:\u001b[32m CommandLineTool\u001b[0m\n",
      "\u001b[32m    \u001b[0m\u001b[36mid\u001b[0m:\u001b[32m rio\u001b[0m\n",
      "\u001b[32m    \u001b[0m\u001b[36mrequirements\u001b[0m:\u001b[36m\u001b[0m\n",
      "\u001b[36m      DockerRequirement\u001b[0m:\u001b[36m\u001b[0m\n",
      "\u001b[36m        dockerPull\u001b[0m:\u001b[32m ghcr.io/eoap/how-to/how-to-container:1.1.0\u001b[0m\n",
      "\u001b[32m    \u001b[0m\u001b[36mbaseCommand\u001b[0m:\u001b[32m rio\u001b[0m\n",
      "\u001b[32m    \u001b[0m\u001b[36marguments\u001b[0m:\n",
      "      -\u001b[32m convert\u001b[0m\n",
      "\u001b[32m      \u001b[0m-\u001b[32m --driver\u001b[0m\n",
      "\u001b[32m      \u001b[0m-\u001b[32m PNG\u001b[0m\n",
      "\u001b[32m      \u001b[0m-\u001b[32m --dtype\u001b[0m\n",
      "\u001b[32m      \u001b[0m-\u001b[32m uint8\u001b[0m\n",
      "\u001b[32m      \u001b[0m-\u001b[36m valueFrom\u001b[0m:\u001b[32m \"${\\n    let redKey = Object.keys(inputs.asset).find(key => \\n        inputs.asset[key]['eo:bands'] && \\n        inputs.asset[key]['eo:bands'].length === 1 &&\\n        inputs.asset[key]['eo:bands'].some(band => band.common_name === inputs.common_band_name)\\n    );\\n    return inputs.asset[redKey].href;\\n}\\n\"\u001b[0m\n",
      "      -\u001b[36m valueFrom\u001b[0m: |\n",
      "\u001b[32m          ${\u001b[0m\n",
      "\u001b[32m              return inputs.common_band_name + \".png\";\u001b[0m\n",
      "\u001b[32m          }\u001b[0m\n",
      "\u001b[32m    \u001b[0m\u001b[36minputs\u001b[0m:\u001b[36m\u001b[0m\n",
      "\u001b[36m      asset\u001b[0m:\u001b[36m\u001b[0m\n",
      "\u001b[36m        type\u001b[0m:\u001b[32m Any\u001b[0m\n",
      "\u001b[32m      \u001b[0m\u001b[36mcommon_band_name\u001b[0m:\u001b[36m\u001b[0m\n",
      "\u001b[36m        type\u001b[0m:\u001b[32m string\u001b[0m\n",
      "\u001b[32m    \u001b[0m\u001b[36moutputs\u001b[0m:\u001b[36m\u001b[0m\n",
      "\u001b[36m      preview\u001b[0m:\u001b[36m\u001b[0m\n",
      "\u001b[36m        type\u001b[0m:\u001b[32m File\u001b[0m\n",
      "\u001b[32m        \u001b[0m\u001b[36moutputBinding\u001b[0m:\u001b[36m\u001b[0m\n",
      "\u001b[36m          glob\u001b[0m:\u001b[32m \"*.png\"\u001b[0m\n"
     ]
    }
   ],
   "source": [
    "yq e . $cwl_file "
   ]
  },
  {
   "cell_type": "markdown",
   "metadata": {},
   "source": [
    "It's graphical representation:"
   ]
  },
  {
   "cell_type": "code",
   "execution_count": 9,
   "metadata": {
    "vscode": {
     "languageId": "shellscript"
    }
   },
   "outputs": [
    {
     "data": {
      "image/png": "[encoded data removed]"
     },
     "metadata": {},
     "output_type": "display_data"
    }
   ],
   "source": [
    "cwltool --print-dot $cwl_file 2> /dev/null | dot -Tpng | display"
   ]
  },
  {
   "cell_type": "markdown",
   "metadata": {},
   "source": [
    "4. Run the Example\n",
    "\n",
    "Command to execute the workflow:\n",
    "\n",
    "```bash\n",
    "cwltool capture-json-stdout.cwl \\\n",
    "  --stac-item https://earth-search.aws.element84.com/v0/collections/sentinel-s2-l2a-cogs/items/S2B_53HPA_20210723_0_L2A \\\n",
    "  --common-band-name red\n",
    "```"
   ]
  },
  {
   "cell_type": "markdown",
   "metadata": {},
   "source": [
    "5. Execute the CWL Tool\n",
    "\n",
    "Run the command in your terminal:\n",
    "\n",
    "```bash\n",
    "cwltool capture-json-stdout.cwl \\\n",
    "  --stac-item https://earth-search.aws.element84.com/v0/collections/sentinel-s2-l2a-cogs/items/S2B_53HPA_20210723_0_L2A \\\n",
    "  --common-band-name red\n",
    "```"
   ]
  },
  {
   "cell_type": "code",
   "execution_count": 10,
   "metadata": {
    "vscode": {
     "languageId": "shellscript"
    }
   },
   "outputs": [
    {
     "name": "stdout",
     "output_type": "stream",
     "text": [
      "\u001b[1;30mINFO\u001b[0m /home/fbrito/.local/bin/cwltool 3.1.20240508115724\n",
      "\u001b[1;30mINFO\u001b[0m Resolved '../cwl/03-json-stdout/capture-json-stdout.cwl' to 'file:///data/work/github/eoepca-plus/how-to/cwl/03-json-stdout/capture-json-stdout.cwl'\n",
      "\u001b[1;30mINFO\u001b[0m [workflow ] start\n",
      "\u001b[1;30mINFO\u001b[0m [workflow ] starting step step_stac\n",
      "\u001b[1;30mINFO\u001b[0m [step step_stac] start\n",
      "\u001b[1;30mINFO\u001b[0m [job step_stac] /tmp/abfqbhmn$ docker \\\n",
      "    run \\\n",
      "    -i \\\n",
      "    --mount=type=bind,source=/tmp/abfqbhmn,target=/TKfFHP \\\n",
      "    --mount=type=bind,source=/tmp/u3mvxz4y,target=/tmp \\\n",
      "    --workdir=/TKfFHP \\\n",
      "    --read-only=true \\\n",
      "    --log-driver=none \\\n",
      "    --user=1000:1000 \\\n",
      "    --rm \\\n",
      "    --cidfile=/tmp/llgnufkw/20241229135031-110630.cid \\\n",
      "    --env=TMPDIR=/tmp \\\n",
      "    --env=HOME=/TKfFHP \\\n",
      "    docker.io/curlimages/curl:latest \\\n",
      "    curl \\\n",
      "    -s \\\n",
      "    https://earth-search.aws.element84.com/v0/collections/sentinel-s2-l2a-cogs/items/S2B_53HPA_20210723_0_L2A > /tmp/abfqbhmn/message\n",
      "\u001b[1;30mINFO\u001b[0m [job step_stac] Max memory used: 0MiB\n",
      "\u001b[1;30mINFO\u001b[0m [job step_stac] completed success\n",
      "\u001b[1;30mINFO\u001b[0m [step step_stac] completed success\n",
      "\u001b[1;30mINFO\u001b[0m [workflow ] starting step step_translate\n",
      "\u001b[1;30mINFO\u001b[0m [step step_translate] start\n",
      "\u001b[1;30mINFO\u001b[0m [job step_translate] /tmp/os59b9u9$ docker \\\n",
      "    run \\\n",
      "    -i \\\n",
      "    --mount=type=bind,source=/tmp/os59b9u9,target=/TKfFHP \\\n",
      "    --mount=type=bind,source=/tmp/ipwjmyxn,target=/tmp \\\n",
      "    --workdir=/TKfFHP \\\n",
      "    --read-only=true \\\n",
      "    --user=1000:1000 \\\n",
      "    --rm \\\n",
      "    --cidfile=/tmp/ze1xn_ep/20241229135032-234611.cid \\\n",
      "    --env=TMPDIR=/tmp \\\n",
      "    --env=HOME=/TKfFHP \\\n",
      "    ghcr.io/eoap/how-to/how-to-container:1.1.0 \\\n",
      "    rio \\\n",
      "    convert \\\n",
      "    --driver \\\n",
      "    PNG \\\n",
      "    --dtype \\\n",
      "    uint8 \\\n",
      "    https://sentinel-cogs.s3.us-west-2.amazonaws.com/sentinel-s2-l2a-cogs/53/H/PA/2021/7/S2B_53HPA_20210723_0_L2A/B04.tif \\\n",
      "    red.png\n",
      "WARNING:rasterio._env:CPLE_NotSupported in driver PNG does not support creation option BLOCKXSIZE\n",
      "WARNING:rasterio._env:CPLE_NotSupported in driver PNG does not support creation option BLOCKYSIZE\n",
      "WARNING:rasterio._env:CPLE_NotSupported in driver PNG does not support creation option TILED\n",
      "WARNING:rasterio._env:CPLE_NotSupported in driver PNG does not support creation option COMPRESS\n",
      "WARNING:rasterio._env:CPLE_NotSupported in driver PNG does not support creation option INTERLEAVE\n",
      "\u001b[1;30mINFO\u001b[0m [job step_translate] Max memory used: 778MiB\n",
      "\u001b[1;30mINFO\u001b[0m [job step_translate] completed success\n",
      "\u001b[1;30mINFO\u001b[0m [step step_translate] completed success\n",
      "\u001b[1;30mINFO\u001b[0m [workflow ] completed success\n",
      "\u001b[1;30mINFO\u001b[0m Final process status is success\n"
     ]
    }
   ],
   "source": [
    "cwltool $cwl_file \\\n",
    "    --stac-item https://earth-search.aws.element84.com/v0/collections/sentinel-s2-l2a-cogs/items/S2B_53HPA_20210723_0_L2A \\\n",
    "    --common-band-name red > output.json"
   ]
  },
  {
   "cell_type": "markdown",
   "metadata": {},
   "source": [
    "\n",
    "## Expected Output\n",
    "\n",
    "* Intermediate Output (`json_output`): Extracted assets from the STAC item JSON.\n",
    "* Final Output (`preview`): PNG file for the specified band (e.g., `red.png`)."
   ]
  },
  {
   "cell_type": "code",
   "execution_count": 15,
   "metadata": {
    "vscode": {
     "languageId": "shellscript"
    }
   },
   "outputs": [
    {
     "name": "stdout",
     "output_type": "stream",
     "text": [
      "{\u001b[36m\u001b[0m\n",
      "\u001b[36m  \"thumbnail\"\u001b[0m: {\u001b[36m\u001b[0m\n",
      "\u001b[36m    \"title\"\u001b[0m:\u001b[32m \"Thumbnail\"\u001b[0m,\u001b[36m\u001b[0m\n",
      "\u001b[36m    \"type\"\u001b[0m:\u001b[32m \"image/png\"\u001b[0m,\u001b[36m\u001b[0m\n",
      "\u001b[36m    \"roles\"\u001b[0m: [\u001b[32m\u001b[0m\n",
      "\u001b[32m      \"thumbnail\"\u001b[0m\n",
      "    ],\u001b[36m\u001b[0m\n",
      "\u001b[36m    \"href\"\u001b[0m:\u001b[32m \"https://roda.sentinel-hub.com/sentinel-s2-l1c/tiles/53/H/PA/2021/7/23/0/preview.jpg\"\u001b[0m\n",
      "  },\u001b[36m\u001b[0m\n",
      "\u001b[36m  \"overview\"\u001b[0m: {\u001b[36m\u001b[0m\n",
      "\u001b[36m    \"title\"\u001b[0m:\u001b[32m \"True color image\"\u001b[0m,\u001b[36m\u001b[0m\n",
      "\u001b[36m    \"type\"\u001b[0m:\u001b[32m \"image/tiff; application=geotiff; profile=cloud-optimized\"\u001b[0m,\u001b[36m\u001b[0m\n",
      "\u001b[36m    \"roles\"\u001b[0m: [\u001b[32m\u001b[0m\n",
      "\u001b[32m      \"overview\"\u001b[0m\n",
      "    ],\u001b[36m\u001b[0m\n",
      "\u001b[36m    \"gsd\"\u001b[0m:\u001b[95m 10\u001b[0m,\u001b[36m\u001b[0m\n",
      "\u001b[36m    \"eo:bands\"\u001b[0m: [\n",
      "      {\u001b[36m\u001b[0m\n",
      "\u001b[36m        \"name\"\u001b[0m:\u001b[32m \"B04\"\u001b[0m,\u001b[36m\u001b[0m\n",
      "\u001b[36m        \"common_name\"\u001b[0m:\u001b[32m \"red\"\u001b[0m,\u001b[36m\u001b[0m\n",
      "\u001b[36m        \"center_wavelength\"\u001b[0m:\u001b[95m 0.6645\u001b[0m,\u001b[36m\u001b[0m\n",
      "\u001b[36m        \"full_width_half_max\"\u001b[0m:\u001b[95m 0.038\u001b[0m\n",
      "\u001b[95m      \u001b[0m},\n",
      "      {\u001b[36m\u001b[0m\n",
      "\u001b[36m        \"name\"\u001b[0m:\u001b[32m \"B03\"\u001b[0m,\u001b[36m\u001b[0m\n",
      "\u001b[36m        \"common_name\"\u001b[0m:\u001b[32m \"green\"\u001b[0m,\u001b[36m\u001b[0m\n",
      "\u001b[36m        \"center_wavelength\"\u001b[0m:\u001b[95m 0.56\u001b[0m,\u001b[36m\u001b[0m\n",
      "\u001b[36m        \"full_width_half_max\"\u001b[0m:\u001b[95m 0.045\u001b[0m\n",
      "\u001b[95m      \u001b[0m},\n",
      "      {\u001b[36m\u001b[0m\n",
      "\u001b[36m        \"name\"\u001b[0m:\u001b[32m \"B02\"\u001b[0m,\u001b[36m\u001b[0m\n",
      "\u001b[36m        \"common_name\"\u001b[0m:\u001b[32m \"blue\"\u001b[0m,\u001b[36m\u001b[0m\n",
      "\u001b[36m        \"center_wavelength\"\u001b[0m:\u001b[95m 0.4966\u001b[0m,\u001b[36m\u001b[0m\n",
      "\u001b[36m        \"full_width_half_max\"\u001b[0m:\u001b[95m 0.098\u001b[0m\n",
      "\u001b[95m      \u001b[0m}\n",
      "    ],\u001b[36m\u001b[0m\n",
      "\u001b[36m    \"href\"\u001b[0m:\u001b[32m \"https://sentinel-cogs.s3.us-west-2.amazonaws.com/sentinel-s2-l2a-cogs/53/H/PA/2021/7/S2B_53HPA_20210723_0_L2A/L2A_PVI.tif\"\u001b[0m,\u001b[36m\u001b[0m\n",
      "\u001b[36m    \"proj:shape\"\u001b[0m: [\u001b[95m\u001b[0m\n",
      "\u001b[95m      343\u001b[0m,\u001b[95m\u001b[0m\n",
      "\u001b[95m      343\u001b[0m\n",
      "\u001b[95m    \u001b[0m],\u001b[36m\u001b[0m\n",
      "\u001b[36m    \"proj:transform\"\u001b[0m: [\u001b[95m\u001b[0m\n",
      "\u001b[95m      320\u001b[0m,\u001b[95m\u001b[0m\n",
      "\u001b[95m      0\u001b[0m,\u001b[95m\u001b[0m\n",
      "\u001b[95m      600000\u001b[0m,\u001b[95m\u001b[0m\n",
      "\u001b[95m      0\u001b[0m,\u001b[95m\u001b[0m\n",
      "\u001b[95m      -320\u001b[0m,\u001b[95m\u001b[0m\n",
      "\u001b[95m      6100000\u001b[0m,\u001b[95m\u001b[0m\n",
      "\u001b[95m      0\u001b[0m,\u001b[95m\u001b[0m\n",
      "\u001b[95m      0\u001b[0m,\u001b[95m\u001b[0m\n",
      "\u001b[95m      1\u001b[0m\n",
      "\u001b[95m    \u001b[0m]\n",
      "  },\u001b[36m\u001b[0m\n",
      "\u001b[36m  \"info\"\u001b[0m: {\u001b[36m\u001b[0m\n",
      "\u001b[36m    \"title\"\u001b[0m:\u001b[32m \"Original JSON metadata\"\u001b[0m,\u001b[36m\u001b[0m\n",
      "\u001b[36m    \"type\"\u001b[0m:\u001b[32m \"application/json\"\u001b[0m,\u001b[36m\u001b[0m\n",
      "\u001b[36m    \"roles\"\u001b[0m: [\u001b[32m\u001b[0m\n",
      "\u001b[32m      \"metadata\"\u001b[0m\n",
      "    ],\u001b[36m\u001b[0m\n",
      "\u001b[36m    \"href\"\u001b[0m:\u001b[32m \"https://roda.sentinel-hub.com/sentinel-s2-l2a/tiles/53/H/PA/2021/7/23/0/tileInfo.json\"\u001b[0m\n",
      "  },\u001b[36m\u001b[0m\n",
      "\u001b[36m  \"metadata\"\u001b[0m: {\u001b[36m\u001b[0m\n",
      "\u001b[36m    \"title\"\u001b[0m:\u001b[32m \"Original XML metadata\"\u001b[0m,\u001b[36m\u001b[0m\n",
      "\u001b[36m    \"type\"\u001b[0m:\u001b[32m \"application/xml\"\u001b[0m,\u001b[36m\u001b[0m\n",
      "\u001b[36m    \"roles\"\u001b[0m: [\u001b[32m\u001b[0m\n",
      "\u001b[32m      \"metadata\"\u001b[0m\n",
      "    ],\u001b[36m\u001b[0m\n",
      "\u001b[36m    \"href\"\u001b[0m:\u001b[32m \"https://roda.sentinel-hub.com/sentinel-s2-l2a/tiles/53/H/PA/2021/7/23/0/metadata.xml\"\u001b[0m\n",
      "  },\u001b[36m\u001b[0m\n",
      "\u001b[36m  \"visual\"\u001b[0m: {\u001b[36m\u001b[0m\n",
      "\u001b[36m    \"title\"\u001b[0m:\u001b[32m \"True color image\"\u001b[0m,\u001b[36m\u001b[0m\n",
      "\u001b[36m    \"type\"\u001b[0m:\u001b[32m \"image/tiff; application=geotiff; profile=cloud-optimized\"\u001b[0m,\u001b[36m\u001b[0m\n",
      "\u001b[36m    \"roles\"\u001b[0m: [\u001b[32m\u001b[0m\n",
      "\u001b[32m      \"overview\"\u001b[0m\n",
      "    ],\u001b[36m\u001b[0m\n",
      "\u001b[36m    \"gsd\"\u001b[0m:\u001b[95m 10\u001b[0m,\u001b[36m\u001b[0m\n",
      "\u001b[36m    \"eo:bands\"\u001b[0m: [\n",
      "      {\u001b[36m\u001b[0m\n",
      "\u001b[36m        \"name\"\u001b[0m:\u001b[32m \"B04\"\u001b[0m,\u001b[36m\u001b[0m\n",
      "\u001b[36m        \"common_name\"\u001b[0m:\u001b[32m \"red\"\u001b[0m,\u001b[36m\u001b[0m\n",
      "\u001b[36m        \"center_wavelength\"\u001b[0m:\u001b[95m 0.6645\u001b[0m,\u001b[36m\u001b[0m\n",
      "\u001b[36m        \"full_width_half_max\"\u001b[0m:\u001b[95m 0.038\u001b[0m\n",
      "\u001b[95m      \u001b[0m},\n",
      "      {\u001b[36m\u001b[0m\n",
      "\u001b[36m        \"name\"\u001b[0m:\u001b[32m \"B03\"\u001b[0m,\u001b[36m\u001b[0m\n",
      "\u001b[36m        \"common_name\"\u001b[0m:\u001b[32m \"green\"\u001b[0m,\u001b[36m\u001b[0m\n",
      "\u001b[36m        \"center_wavelength\"\u001b[0m:\u001b[95m 0.56\u001b[0m,\u001b[36m\u001b[0m\n",
      "\u001b[36m        \"full_width_half_max\"\u001b[0m:\u001b[95m 0.045\u001b[0m\n",
      "\u001b[95m      \u001b[0m},\n",
      "      {\u001b[36m\u001b[0m\n",
      "\u001b[36m        \"name\"\u001b[0m:\u001b[32m \"B02\"\u001b[0m,\u001b[36m\u001b[0m\n",
      "\u001b[36m        \"common_name\"\u001b[0m:\u001b[32m \"blue\"\u001b[0m,\u001b[36m\u001b[0m\n",
      "\u001b[36m        \"center_wavelength\"\u001b[0m:\u001b[95m 0.4966\u001b[0m,\u001b[36m\u001b[0m\n",
      "\u001b[36m        \"full_width_half_max\"\u001b[0m:\u001b[95m 0.098\u001b[0m\n",
      "\u001b[95m      \u001b[0m}\n",
      "    ],\u001b[36m\u001b[0m\n",
      "\u001b[36m    \"href\"\u001b[0m:\u001b[32m \"https://sentinel-cogs.s3.us-west-2.amazonaws.com/sentinel-s2-l2a-cogs/53/H/PA/2021/7/S2B_53HPA_20210723_0_L2A/TCI.tif\"\u001b[0m,\u001b[36m\u001b[0m\n",
      "\u001b[36m    \"proj:shape\"\u001b[0m: [\u001b[95m\u001b[0m\n",
      "\u001b[95m      10980\u001b[0m,\u001b[95m\u001b[0m\n",
      "\u001b[95m      10980\u001b[0m\n",
      "\u001b[95m    \u001b[0m],\u001b[36m\u001b[0m\n",
      "\u001b[36m    \"proj:transform\"\u001b[0m: [\u001b[95m\u001b[0m\n",
      "\u001b[95m      10\u001b[0m,\u001b[95m\u001b[0m\n",
      "\u001b[95m      0\u001b[0m,\u001b[95m\u001b[0m\n",
      "\u001b[95m      600000\u001b[0m,\u001b[95m\u001b[0m\n",
      "\u001b[95m      0\u001b[0m,\u001b[95m\u001b[0m\n",
      "\u001b[95m      -10\u001b[0m,\u001b[95m\u001b[0m\n",
      "\u001b[95m      6100000\u001b[0m,\u001b[95m\u001b[0m\n",
      "\u001b[95m      0\u001b[0m,\u001b[95m\u001b[0m\n",
      "\u001b[95m      0\u001b[0m,\u001b[95m\u001b[0m\n",
      "\u001b[95m      1\u001b[0m\n",
      "\u001b[95m    \u001b[0m]\n",
      "  },\u001b[36m\u001b[0m\n",
      "\u001b[36m  \"B01\"\u001b[0m: {\u001b[36m\u001b[0m\n",
      "\u001b[36m    \"title\"\u001b[0m:\u001b[32m \"Band 1 (coastal)\"\u001b[0m,\u001b[36m\u001b[0m\n",
      "\u001b[36m    \"type\"\u001b[0m:\u001b[32m \"image/tiff; application=geotiff; profile=cloud-optimized\"\u001b[0m,\u001b[36m\u001b[0m\n",
      "\u001b[36m    \"roles\"\u001b[0m: [\u001b[32m\u001b[0m\n",
      "\u001b[32m      \"data\"\u001b[0m\n",
      "    ],\u001b[36m\u001b[0m\n",
      "\u001b[36m    \"gsd\"\u001b[0m:\u001b[95m 60\u001b[0m,\u001b[36m\u001b[0m\n",
      "\u001b[36m    \"eo:bands\"\u001b[0m: [\n",
      "      {\u001b[36m\u001b[0m\n",
      "\u001b[36m        \"name\"\u001b[0m:\u001b[32m \"B01\"\u001b[0m,\u001b[36m\u001b[0m\n",
      "\u001b[36m        \"common_name\"\u001b[0m:\u001b[32m \"coastal\"\u001b[0m,\u001b[36m\u001b[0m\n",
      "\u001b[36m        \"center_wavelength\"\u001b[0m:\u001b[95m 0.4439\u001b[0m,\u001b[36m\u001b[0m\n",
      "\u001b[36m        \"full_width_half_max\"\u001b[0m:\u001b[95m 0.027\u001b[0m\n",
      "\u001b[95m      \u001b[0m}\n",
      "    ],\u001b[36m\u001b[0m\n",
      "\u001b[36m    \"href\"\u001b[0m:\u001b[32m \"https://sentinel-cogs.s3.us-west-2.amazonaws.com/sentinel-s2-l2a-cogs/53/H/PA/2021/7/S2B_53HPA_20210723_0_L2A/B01.tif\"\u001b[0m,\u001b[36m\u001b[0m\n",
      "\u001b[36m    \"proj:shape\"\u001b[0m: [\u001b[95m\u001b[0m\n",
      "\u001b[95m      1830\u001b[0m,\u001b[95m\u001b[0m\n",
      "\u001b[95m      1830\u001b[0m\n",
      "\u001b[95m    \u001b[0m],\u001b[36m\u001b[0m\n",
      "\u001b[36m    \"proj:transform\"\u001b[0m: [\u001b[95m\u001b[0m\n",
      "\u001b[95m      60\u001b[0m,\u001b[95m\u001b[0m\n",
      "\u001b[95m      0\u001b[0m,\u001b[95m\u001b[0m\n",
      "\u001b[95m      600000\u001b[0m,\u001b[95m\u001b[0m\n",
      "\u001b[95m      0\u001b[0m,\u001b[95m\u001b[0m\n",
      "\u001b[95m      -60\u001b[0m,\u001b[95m\u001b[0m\n",
      "\u001b[95m      6100000\u001b[0m,\u001b[95m\u001b[0m\n",
      "\u001b[95m      0\u001b[0m,\u001b[95m\u001b[0m\n",
      "\u001b[95m      0\u001b[0m,\u001b[95m\u001b[0m\n",
      "\u001b[95m      1\u001b[0m\n",
      "\u001b[95m    \u001b[0m]\n",
      "  },\u001b[36m\u001b[0m\n",
      "\u001b[36m  \"B02\"\u001b[0m: {\u001b[36m\u001b[0m\n",
      "\u001b[36m    \"title\"\u001b[0m:\u001b[32m \"Band 2 (blue)\"\u001b[0m,\u001b[36m\u001b[0m\n",
      "\u001b[36m    \"type\"\u001b[0m:\u001b[32m \"image/tiff; application=geotiff; profile=cloud-optimized\"\u001b[0m,\u001b[36m\u001b[0m\n",
      "\u001b[36m    \"roles\"\u001b[0m: [\u001b[32m\u001b[0m\n",
      "\u001b[32m      \"data\"\u001b[0m\n",
      "    ],\u001b[36m\u001b[0m\n",
      "\u001b[36m    \"gsd\"\u001b[0m:\u001b[95m 10\u001b[0m,\u001b[36m\u001b[0m\n",
      "\u001b[36m    \"eo:bands\"\u001b[0m: [\n",
      "      {\u001b[36m\u001b[0m\n",
      "\u001b[36m        \"name\"\u001b[0m:\u001b[32m \"B02\"\u001b[0m,\u001b[36m\u001b[0m\n",
      "\u001b[36m        \"common_name\"\u001b[0m:\u001b[32m \"blue\"\u001b[0m,\u001b[36m\u001b[0m\n",
      "\u001b[36m        \"center_wavelength\"\u001b[0m:\u001b[95m 0.4966\u001b[0m,\u001b[36m\u001b[0m\n",
      "\u001b[36m        \"full_width_half_max\"\u001b[0m:\u001b[95m 0.098\u001b[0m\n",
      "\u001b[95m      \u001b[0m}\n",
      "    ],\u001b[36m\u001b[0m\n",
      "\u001b[36m    \"href\"\u001b[0m:\u001b[32m \"https://sentinel-cogs.s3.us-west-2.amazonaws.com/sentinel-s2-l2a-cogs/53/H/PA/2021/7/S2B_53HPA_20210723_0_L2A/B02.tif\"\u001b[0m,\u001b[36m\u001b[0m\n",
      "\u001b[36m    \"proj:shape\"\u001b[0m: [\u001b[95m\u001b[0m\n",
      "\u001b[95m      10980\u001b[0m,\u001b[95m\u001b[0m\n",
      "\u001b[95m      10980\u001b[0m\n",
      "\u001b[95m    \u001b[0m],\u001b[36m\u001b[0m\n",
      "\u001b[36m    \"proj:transform\"\u001b[0m: [\u001b[95m\u001b[0m\n",
      "\u001b[95m      10\u001b[0m,\u001b[95m\u001b[0m\n",
      "\u001b[95m      0\u001b[0m,\u001b[95m\u001b[0m\n",
      "\u001b[95m      600000\u001b[0m,\u001b[95m\u001b[0m\n",
      "\u001b[95m      0\u001b[0m,\u001b[95m\u001b[0m\n",
      "\u001b[95m      -10\u001b[0m,\u001b[95m\u001b[0m\n",
      "\u001b[95m      6100000\u001b[0m,\u001b[95m\u001b[0m\n",
      "\u001b[95m      0\u001b[0m,\u001b[95m\u001b[0m\n",
      "\u001b[95m      0\u001b[0m,\u001b[95m\u001b[0m\n",
      "\u001b[95m      1\u001b[0m\n",
      "\u001b[95m    \u001b[0m]\n",
      "  },\u001b[36m\u001b[0m\n",
      "\u001b[36m  \"B03\"\u001b[0m: {\u001b[36m\u001b[0m\n",
      "\u001b[36m    \"title\"\u001b[0m:\u001b[32m \"Band 3 (green)\"\u001b[0m,\u001b[36m\u001b[0m\n",
      "\u001b[36m    \"type\"\u001b[0m:\u001b[32m \"image/tiff; application=geotiff; profile=cloud-optimized\"\u001b[0m,\u001b[36m\u001b[0m\n",
      "\u001b[36m    \"roles\"\u001b[0m: [\u001b[32m\u001b[0m\n",
      "\u001b[32m      \"data\"\u001b[0m\n",
      "    ],\u001b[36m\u001b[0m\n",
      "\u001b[36m    \"gsd\"\u001b[0m:\u001b[95m 10\u001b[0m,\u001b[36m\u001b[0m\n",
      "\u001b[36m    \"eo:bands\"\u001b[0m: [\n",
      "      {\u001b[36m\u001b[0m\n",
      "\u001b[36m        \"name\"\u001b[0m:\u001b[32m \"B03\"\u001b[0m,\u001b[36m\u001b[0m\n",
      "\u001b[36m        \"common_name\"\u001b[0m:\u001b[32m \"green\"\u001b[0m,\u001b[36m\u001b[0m\n",
      "\u001b[36m        \"center_wavelength\"\u001b[0m:\u001b[95m 0.56\u001b[0m,\u001b[36m\u001b[0m\n",
      "\u001b[36m        \"full_width_half_max\"\u001b[0m:\u001b[95m 0.045\u001b[0m\n",
      "\u001b[95m      \u001b[0m}\n",
      "    ],\u001b[36m\u001b[0m\n",
      "\u001b[36m    \"href\"\u001b[0m:\u001b[32m \"https://sentinel-cogs.s3.us-west-2.amazonaws.com/sentinel-s2-l2a-cogs/53/H/PA/2021/7/S2B_53HPA_20210723_0_L2A/B03.tif\"\u001b[0m,\u001b[36m\u001b[0m\n",
      "\u001b[36m    \"proj:shape\"\u001b[0m: [\u001b[95m\u001b[0m\n",
      "\u001b[95m      10980\u001b[0m,\u001b[95m\u001b[0m\n",
      "\u001b[95m      10980\u001b[0m\n",
      "\u001b[95m    \u001b[0m],\u001b[36m\u001b[0m\n",
      "\u001b[36m    \"proj:transform\"\u001b[0m: [\u001b[95m\u001b[0m\n",
      "\u001b[95m      10\u001b[0m,\u001b[95m\u001b[0m\n",
      "\u001b[95m      0\u001b[0m,\u001b[95m\u001b[0m\n",
      "\u001b[95m      600000\u001b[0m,\u001b[95m\u001b[0m\n",
      "\u001b[95m      0\u001b[0m,\u001b[95m\u001b[0m\n",
      "\u001b[95m      -10\u001b[0m,\u001b[95m\u001b[0m\n",
      "\u001b[95m      6100000\u001b[0m,\u001b[95m\u001b[0m\n",
      "\u001b[95m      0\u001b[0m,\u001b[95m\u001b[0m\n",
      "\u001b[95m      0\u001b[0m,\u001b[95m\u001b[0m\n",
      "\u001b[95m      1\u001b[0m\n",
      "\u001b[95m    \u001b[0m]\n",
      "  },\u001b[36m\u001b[0m\n",
      "\u001b[36m  \"B04\"\u001b[0m: {\u001b[36m\u001b[0m\n",
      "\u001b[36m    \"title\"\u001b[0m:\u001b[32m \"Band 4 (red)\"\u001b[0m,\u001b[36m\u001b[0m\n",
      "\u001b[36m    \"type\"\u001b[0m:\u001b[32m \"image/tiff; application=geotiff; profile=cloud-optimized\"\u001b[0m,\u001b[36m\u001b[0m\n",
      "\u001b[36m    \"roles\"\u001b[0m: [\u001b[32m\u001b[0m\n",
      "\u001b[32m      \"data\"\u001b[0m\n",
      "    ],\u001b[36m\u001b[0m\n",
      "\u001b[36m    \"gsd\"\u001b[0m:\u001b[95m 10\u001b[0m,\u001b[36m\u001b[0m\n",
      "\u001b[36m    \"eo:bands\"\u001b[0m: [\n",
      "      {\u001b[36m\u001b[0m\n",
      "\u001b[36m        \"name\"\u001b[0m:\u001b[32m \"B04\"\u001b[0m,\u001b[36m\u001b[0m\n",
      "\u001b[36m        \"common_name\"\u001b[0m:\u001b[32m \"red\"\u001b[0m,\u001b[36m\u001b[0m\n",
      "\u001b[36m        \"center_wavelength\"\u001b[0m:\u001b[95m 0.6645\u001b[0m,\u001b[36m\u001b[0m\n",
      "\u001b[36m        \"full_width_half_max\"\u001b[0m:\u001b[95m 0.038\u001b[0m\n",
      "\u001b[95m      \u001b[0m}\n",
      "    ],\u001b[36m\u001b[0m\n",
      "\u001b[36m    \"href\"\u001b[0m:\u001b[32m \"https://sentinel-cogs.s3.us-west-2.amazonaws.com/sentinel-s2-l2a-cogs/53/H/PA/2021/7/S2B_53HPA_20210723_0_L2A/B04.tif\"\u001b[0m,\u001b[36m\u001b[0m\n",
      "\u001b[36m    \"proj:shape\"\u001b[0m: [\u001b[95m\u001b[0m\n",
      "\u001b[95m      10980\u001b[0m,\u001b[95m\u001b[0m\n",
      "\u001b[95m      10980\u001b[0m\n",
      "\u001b[95m    \u001b[0m],\u001b[36m\u001b[0m\n",
      "\u001b[36m    \"proj:transform\"\u001b[0m: [\u001b[95m\u001b[0m\n",
      "\u001b[95m      10\u001b[0m,\u001b[95m\u001b[0m\n",
      "\u001b[95m      0\u001b[0m,\u001b[95m\u001b[0m\n",
      "\u001b[95m      600000\u001b[0m,\u001b[95m\u001b[0m\n",
      "\u001b[95m      0\u001b[0m,\u001b[95m\u001b[0m\n",
      "\u001b[95m      -10\u001b[0m,\u001b[95m\u001b[0m\n",
      "\u001b[95m      6100000\u001b[0m,\u001b[95m\u001b[0m\n",
      "\u001b[95m      0\u001b[0m,\u001b[95m\u001b[0m\n",
      "\u001b[95m      0\u001b[0m,\u001b[95m\u001b[0m\n",
      "\u001b[95m      1\u001b[0m\n",
      "\u001b[95m    \u001b[0m]\n",
      "  },\u001b[36m\u001b[0m\n",
      "\u001b[36m  \"B05\"\u001b[0m: {\u001b[36m\u001b[0m\n",
      "\u001b[36m    \"title\"\u001b[0m:\u001b[32m \"Band 5\"\u001b[0m,\u001b[36m\u001b[0m\n",
      "\u001b[36m    \"type\"\u001b[0m:\u001b[32m \"image/tiff; application=geotiff; profile=cloud-optimized\"\u001b[0m,\u001b[36m\u001b[0m\n",
      "\u001b[36m    \"roles\"\u001b[0m: [\u001b[32m\u001b[0m\n",
      "\u001b[32m      \"data\"\u001b[0m\n",
      "    ],\u001b[36m\u001b[0m\n",
      "\u001b[36m    \"gsd\"\u001b[0m:\u001b[95m 20\u001b[0m,\u001b[36m\u001b[0m\n",
      "\u001b[36m    \"eo:bands\"\u001b[0m: [\n",
      "      {\u001b[36m\u001b[0m\n",
      "\u001b[36m        \"name\"\u001b[0m:\u001b[32m \"B05\"\u001b[0m,\u001b[36m\u001b[0m\n",
      "\u001b[36m        \"center_wavelength\"\u001b[0m:\u001b[95m 0.7039\u001b[0m,\u001b[36m\u001b[0m\n",
      "\u001b[36m        \"full_width_half_max\"\u001b[0m:\u001b[95m 0.019\u001b[0m\n",
      "\u001b[95m      \u001b[0m}\n",
      "    ],\u001b[36m\u001b[0m\n",
      "\u001b[36m    \"href\"\u001b[0m:\u001b[32m \"https://sentinel-cogs.s3.us-west-2.amazonaws.com/sentinel-s2-l2a-cogs/53/H/PA/2021/7/S2B_53HPA_20210723_0_L2A/B05.tif\"\u001b[0m,\u001b[36m\u001b[0m\n",
      "\u001b[36m    \"proj:shape\"\u001b[0m: [\u001b[95m\u001b[0m\n",
      "\u001b[95m      5490\u001b[0m,\u001b[95m\u001b[0m\n",
      "\u001b[95m      5490\u001b[0m\n",
      "\u001b[95m    \u001b[0m],\u001b[36m\u001b[0m\n",
      "\u001b[36m    \"proj:transform\"\u001b[0m: [\u001b[95m\u001b[0m\n",
      "\u001b[95m      20\u001b[0m,\u001b[95m\u001b[0m\n",
      "\u001b[95m      0\u001b[0m,\u001b[95m\u001b[0m\n",
      "\u001b[95m      600000\u001b[0m,\u001b[95m\u001b[0m\n",
      "\u001b[95m      0\u001b[0m,\u001b[95m\u001b[0m\n",
      "\u001b[95m      -20\u001b[0m,\u001b[95m\u001b[0m\n",
      "\u001b[95m      6100000\u001b[0m,\u001b[95m\u001b[0m\n",
      "\u001b[95m      0\u001b[0m,\u001b[95m\u001b[0m\n",
      "\u001b[95m      0\u001b[0m,\u001b[95m\u001b[0m\n",
      "\u001b[95m      1\u001b[0m\n",
      "\u001b[95m    \u001b[0m]\n",
      "  },\u001b[36m\u001b[0m\n",
      "\u001b[36m  \"B06\"\u001b[0m: {\u001b[36m\u001b[0m\n",
      "\u001b[36m    \"title\"\u001b[0m:\u001b[32m \"Band 6\"\u001b[0m,\u001b[36m\u001b[0m\n",
      "\u001b[36m    \"type\"\u001b[0m:\u001b[32m \"image/tiff; application=geotiff; profile=cloud-optimized\"\u001b[0m,\u001b[36m\u001b[0m\n",
      "\u001b[36m    \"roles\"\u001b[0m: [\u001b[32m\u001b[0m\n",
      "\u001b[32m      \"data\"\u001b[0m\n",
      "    ],\u001b[36m\u001b[0m\n",
      "\u001b[36m    \"gsd\"\u001b[0m:\u001b[95m 20\u001b[0m,\u001b[36m\u001b[0m\n",
      "\u001b[36m    \"eo:bands\"\u001b[0m: [\n",
      "      {\u001b[36m\u001b[0m\n",
      "\u001b[36m        \"name\"\u001b[0m:\u001b[32m \"B06\"\u001b[0m,\u001b[36m\u001b[0m\n",
      "\u001b[36m        \"center_wavelength\"\u001b[0m:\u001b[95m 0.7402\u001b[0m,\u001b[36m\u001b[0m\n",
      "\u001b[36m        \"full_width_half_max\"\u001b[0m:\u001b[95m 0.018\u001b[0m\n",
      "\u001b[95m      \u001b[0m}\n",
      "    ],\u001b[36m\u001b[0m\n",
      "\u001b[36m    \"href\"\u001b[0m:\u001b[32m \"https://sentinel-cogs.s3.us-west-2.amazonaws.com/sentinel-s2-l2a-cogs/53/H/PA/2021/7/S2B_53HPA_20210723_0_L2A/B06.tif\"\u001b[0m,\u001b[36m\u001b[0m\n",
      "\u001b[36m    \"proj:shape\"\u001b[0m: [\u001b[95m\u001b[0m\n",
      "\u001b[95m      5490\u001b[0m,\u001b[95m\u001b[0m\n",
      "\u001b[95m      5490\u001b[0m\n",
      "\u001b[95m    \u001b[0m],\u001b[36m\u001b[0m\n",
      "\u001b[36m    \"proj:transform\"\u001b[0m: [\u001b[95m\u001b[0m\n",
      "\u001b[95m      20\u001b[0m,\u001b[95m\u001b[0m\n",
      "\u001b[95m      0\u001b[0m,\u001b[95m\u001b[0m\n",
      "\u001b[95m      600000\u001b[0m,\u001b[95m\u001b[0m\n",
      "\u001b[95m      0\u001b[0m,\u001b[95m\u001b[0m\n",
      "\u001b[95m      -20\u001b[0m,\u001b[95m\u001b[0m\n",
      "\u001b[95m      6100000\u001b[0m,\u001b[95m\u001b[0m\n",
      "\u001b[95m      0\u001b[0m,\u001b[95m\u001b[0m\n",
      "\u001b[95m      0\u001b[0m,\u001b[95m\u001b[0m\n",
      "\u001b[95m      1\u001b[0m\n",
      "\u001b[95m    \u001b[0m]\n",
      "  },\u001b[36m\u001b[0m\n",
      "\u001b[36m  \"B07\"\u001b[0m: {\u001b[36m\u001b[0m\n",
      "\u001b[36m    \"title\"\u001b[0m:\u001b[32m \"Band 7\"\u001b[0m,\u001b[36m\u001b[0m\n",
      "\u001b[36m    \"type\"\u001b[0m:\u001b[32m \"image/tiff; application=geotiff; profile=cloud-optimized\"\u001b[0m,\u001b[36m\u001b[0m\n",
      "\u001b[36m    \"roles\"\u001b[0m: [\u001b[32m\u001b[0m\n",
      "\u001b[32m      \"data\"\u001b[0m\n",
      "    ],\u001b[36m\u001b[0m\n",
      "\u001b[36m    \"gsd\"\u001b[0m:\u001b[95m 20\u001b[0m,\u001b[36m\u001b[0m\n",
      "\u001b[36m    \"eo:bands\"\u001b[0m: [\n",
      "      {\u001b[36m\u001b[0m\n",
      "\u001b[36m        \"name\"\u001b[0m:\u001b[32m \"B07\"\u001b[0m,\u001b[36m\u001b[0m\n",
      "\u001b[36m        \"center_wavelength\"\u001b[0m:\u001b[95m 0.7825\u001b[0m,\u001b[36m\u001b[0m\n",
      "\u001b[36m        \"full_width_half_max\"\u001b[0m:\u001b[95m 0.028\u001b[0m\n",
      "\u001b[95m      \u001b[0m}\n",
      "    ],\u001b[36m\u001b[0m\n",
      "\u001b[36m    \"href\"\u001b[0m:\u001b[32m \"https://sentinel-cogs.s3.us-west-2.amazonaws.com/sentinel-s2-l2a-cogs/53/H/PA/2021/7/S2B_53HPA_20210723_0_L2A/B07.tif\"\u001b[0m,\u001b[36m\u001b[0m\n",
      "\u001b[36m    \"proj:shape\"\u001b[0m: [\u001b[95m\u001b[0m\n",
      "\u001b[95m      5490\u001b[0m,\u001b[95m\u001b[0m\n",
      "\u001b[95m      5490\u001b[0m\n",
      "\u001b[95m    \u001b[0m],\u001b[36m\u001b[0m\n",
      "\u001b[36m    \"proj:transform\"\u001b[0m: [\u001b[95m\u001b[0m\n",
      "\u001b[95m      20\u001b[0m,\u001b[95m\u001b[0m\n",
      "\u001b[95m      0\u001b[0m,\u001b[95m\u001b[0m\n",
      "\u001b[95m      600000\u001b[0m,\u001b[95m\u001b[0m\n",
      "\u001b[95m      0\u001b[0m,\u001b[95m\u001b[0m\n",
      "\u001b[95m      -20\u001b[0m,\u001b[95m\u001b[0m\n",
      "\u001b[95m      6100000\u001b[0m,\u001b[95m\u001b[0m\n",
      "\u001b[95m      0\u001b[0m,\u001b[95m\u001b[0m\n",
      "\u001b[95m      0\u001b[0m,\u001b[95m\u001b[0m\n",
      "\u001b[95m      1\u001b[0m\n",
      "\u001b[95m    \u001b[0m]\n",
      "  },\u001b[36m\u001b[0m\n",
      "\u001b[36m  \"B08\"\u001b[0m: {\u001b[36m\u001b[0m\n",
      "\u001b[36m    \"title\"\u001b[0m:\u001b[32m \"Band 8 (nir)\"\u001b[0m,\u001b[36m\u001b[0m\n",
      "\u001b[36m    \"type\"\u001b[0m:\u001b[32m \"image/tiff; application=geotiff; profile=cloud-optimized\"\u001b[0m,\u001b[36m\u001b[0m\n",
      "\u001b[36m    \"roles\"\u001b[0m: [\u001b[32m\u001b[0m\n",
      "\u001b[32m      \"data\"\u001b[0m\n",
      "    ],\u001b[36m\u001b[0m\n",
      "\u001b[36m    \"gsd\"\u001b[0m:\u001b[95m 10\u001b[0m,\u001b[36m\u001b[0m\n",
      "\u001b[36m    \"eo:bands\"\u001b[0m: [\n",
      "      {\u001b[36m\u001b[0m\n",
      "\u001b[36m        \"name\"\u001b[0m:\u001b[32m \"B08\"\u001b[0m,\u001b[36m\u001b[0m\n",
      "\u001b[36m        \"common_name\"\u001b[0m:\u001b[32m \"nir\"\u001b[0m,\u001b[36m\u001b[0m\n",
      "\u001b[36m        \"center_wavelength\"\u001b[0m:\u001b[95m 0.8351\u001b[0m,\u001b[36m\u001b[0m\n",
      "\u001b[36m        \"full_width_half_max\"\u001b[0m:\u001b[95m 0.145\u001b[0m\n",
      "\u001b[95m      \u001b[0m}\n",
      "    ],\u001b[36m\u001b[0m\n",
      "\u001b[36m    \"href\"\u001b[0m:\u001b[32m \"https://sentinel-cogs.s3.us-west-2.amazonaws.com/sentinel-s2-l2a-cogs/53/H/PA/2021/7/S2B_53HPA_20210723_0_L2A/B08.tif\"\u001b[0m,\u001b[36m\u001b[0m\n",
      "\u001b[36m    \"proj:shape\"\u001b[0m: [\u001b[95m\u001b[0m\n",
      "\u001b[95m      10980\u001b[0m,\u001b[95m\u001b[0m\n",
      "\u001b[95m      10980\u001b[0m\n",
      "\u001b[95m    \u001b[0m],\u001b[36m\u001b[0m\n",
      "\u001b[36m    \"proj:transform\"\u001b[0m: [\u001b[95m\u001b[0m\n",
      "\u001b[95m      10\u001b[0m,\u001b[95m\u001b[0m\n",
      "\u001b[95m      0\u001b[0m,\u001b[95m\u001b[0m\n",
      "\u001b[95m      600000\u001b[0m,\u001b[95m\u001b[0m\n",
      "\u001b[95m      0\u001b[0m,\u001b[95m\u001b[0m\n",
      "\u001b[95m      -10\u001b[0m,\u001b[95m\u001b[0m\n",
      "\u001b[95m      6100000\u001b[0m,\u001b[95m\u001b[0m\n",
      "\u001b[95m      0\u001b[0m,\u001b[95m\u001b[0m\n",
      "\u001b[95m      0\u001b[0m,\u001b[95m\u001b[0m\n",
      "\u001b[95m      1\u001b[0m\n",
      "\u001b[95m    \u001b[0m]\n",
      "  },\u001b[36m\u001b[0m\n",
      "\u001b[36m  \"B8A\"\u001b[0m: {\u001b[36m\u001b[0m\n",
      "\u001b[36m    \"title\"\u001b[0m:\u001b[32m \"Band 8A\"\u001b[0m,\u001b[36m\u001b[0m\n",
      "\u001b[36m    \"type\"\u001b[0m:\u001b[32m \"image/tiff; application=geotiff; profile=cloud-optimized\"\u001b[0m,\u001b[36m\u001b[0m\n",
      "\u001b[36m    \"roles\"\u001b[0m: [\u001b[32m\u001b[0m\n",
      "\u001b[32m      \"data\"\u001b[0m\n",
      "    ],\u001b[36m\u001b[0m\n",
      "\u001b[36m    \"gsd\"\u001b[0m:\u001b[95m 20\u001b[0m,\u001b[36m\u001b[0m\n",
      "\u001b[36m    \"eo:bands\"\u001b[0m: [\n",
      "      {\u001b[36m\u001b[0m\n",
      "\u001b[36m        \"name\"\u001b[0m:\u001b[32m \"B8A\"\u001b[0m,\u001b[36m\u001b[0m\n",
      "\u001b[36m        \"center_wavelength\"\u001b[0m:\u001b[95m 0.8648\u001b[0m,\u001b[36m\u001b[0m\n",
      "\u001b[36m        \"full_width_half_max\"\u001b[0m:\u001b[95m 0.033\u001b[0m\n",
      "\u001b[95m      \u001b[0m}\n",
      "    ],\u001b[36m\u001b[0m\n",
      "\u001b[36m    \"href\"\u001b[0m:\u001b[32m \"https://sentinel-cogs.s3.us-west-2.amazonaws.com/sentinel-s2-l2a-cogs/53/H/PA/2021/7/S2B_53HPA_20210723_0_L2A/B8A.tif\"\u001b[0m,\u001b[36m\u001b[0m\n",
      "\u001b[36m    \"proj:shape\"\u001b[0m: [\u001b[95m\u001b[0m\n",
      "\u001b[95m      5490\u001b[0m,\u001b[95m\u001b[0m\n",
      "\u001b[95m      5490\u001b[0m\n",
      "\u001b[95m    \u001b[0m],\u001b[36m\u001b[0m\n",
      "\u001b[36m    \"proj:transform\"\u001b[0m: [\u001b[95m\u001b[0m\n",
      "\u001b[95m      20\u001b[0m,\u001b[95m\u001b[0m\n",
      "\u001b[95m      0\u001b[0m,\u001b[95m\u001b[0m\n",
      "\u001b[95m      600000\u001b[0m,\u001b[95m\u001b[0m\n",
      "\u001b[95m      0\u001b[0m,\u001b[95m\u001b[0m\n",
      "\u001b[95m      -20\u001b[0m,\u001b[95m\u001b[0m\n",
      "\u001b[95m      6100000\u001b[0m,\u001b[95m\u001b[0m\n",
      "\u001b[95m      0\u001b[0m,\u001b[95m\u001b[0m\n",
      "\u001b[95m      0\u001b[0m,\u001b[95m\u001b[0m\n",
      "\u001b[95m      1\u001b[0m\n",
      "\u001b[95m    \u001b[0m]\n",
      "  },\u001b[36m\u001b[0m\n",
      "\u001b[36m  \"B09\"\u001b[0m: {\u001b[36m\u001b[0m\n",
      "\u001b[36m    \"title\"\u001b[0m:\u001b[32m \"Band 9\"\u001b[0m,\u001b[36m\u001b[0m\n",
      "\u001b[36m    \"type\"\u001b[0m:\u001b[32m \"image/tiff; application=geotiff; profile=cloud-optimized\"\u001b[0m,\u001b[36m\u001b[0m\n",
      "\u001b[36m    \"roles\"\u001b[0m: [\u001b[32m\u001b[0m\n",
      "\u001b[32m      \"data\"\u001b[0m\n",
      "    ],\u001b[36m\u001b[0m\n",
      "\u001b[36m    \"gsd\"\u001b[0m:\u001b[95m 60\u001b[0m,\u001b[36m\u001b[0m\n",
      "\u001b[36m    \"eo:bands\"\u001b[0m: [\n",
      "      {\u001b[36m\u001b[0m\n",
      "\u001b[36m        \"name\"\u001b[0m:\u001b[32m \"B09\"\u001b[0m,\u001b[36m\u001b[0m\n",
      "\u001b[36m        \"center_wavelength\"\u001b[0m:\u001b[95m 0.945\u001b[0m,\u001b[36m\u001b[0m\n",
      "\u001b[36m        \"full_width_half_max\"\u001b[0m:\u001b[95m 0.026\u001b[0m\n",
      "\u001b[95m      \u001b[0m}\n",
      "    ],\u001b[36m\u001b[0m\n",
      "\u001b[36m    \"href\"\u001b[0m:\u001b[32m \"https://sentinel-cogs.s3.us-west-2.amazonaws.com/sentinel-s2-l2a-cogs/53/H/PA/2021/7/S2B_53HPA_20210723_0_L2A/B09.tif\"\u001b[0m,\u001b[36m\u001b[0m\n",
      "\u001b[36m    \"proj:shape\"\u001b[0m: [\u001b[95m\u001b[0m\n",
      "\u001b[95m      1830\u001b[0m,\u001b[95m\u001b[0m\n",
      "\u001b[95m      1830\u001b[0m\n",
      "\u001b[95m    \u001b[0m],\u001b[36m\u001b[0m\n",
      "\u001b[36m    \"proj:transform\"\u001b[0m: [\u001b[95m\u001b[0m\n",
      "\u001b[95m      60\u001b[0m,\u001b[95m\u001b[0m\n",
      "\u001b[95m      0\u001b[0m,\u001b[95m\u001b[0m\n",
      "\u001b[95m      600000\u001b[0m,\u001b[95m\u001b[0m\n",
      "\u001b[95m      0\u001b[0m,\u001b[95m\u001b[0m\n",
      "\u001b[95m      -60\u001b[0m,\u001b[95m\u001b[0m\n",
      "\u001b[95m      6100000\u001b[0m,\u001b[95m\u001b[0m\n",
      "\u001b[95m      0\u001b[0m,\u001b[95m\u001b[0m\n",
      "\u001b[95m      0\u001b[0m,\u001b[95m\u001b[0m\n",
      "\u001b[95m      1\u001b[0m\n",
      "\u001b[95m    \u001b[0m]\n",
      "  },\u001b[36m\u001b[0m\n",
      "\u001b[36m  \"B11\"\u001b[0m: {\u001b[36m\u001b[0m\n",
      "\u001b[36m    \"title\"\u001b[0m:\u001b[32m \"Band 11 (swir16)\"\u001b[0m,\u001b[36m\u001b[0m\n",
      "\u001b[36m    \"type\"\u001b[0m:\u001b[32m \"image/tiff; application=geotiff; profile=cloud-optimized\"\u001b[0m,\u001b[36m\u001b[0m\n",
      "\u001b[36m    \"roles\"\u001b[0m: [\u001b[32m\u001b[0m\n",
      "\u001b[32m      \"data\"\u001b[0m\n",
      "    ],\u001b[36m\u001b[0m\n",
      "\u001b[36m    \"gsd\"\u001b[0m:\u001b[95m 20\u001b[0m,\u001b[36m\u001b[0m\n",
      "\u001b[36m    \"eo:bands\"\u001b[0m: [\n",
      "      {\u001b[36m\u001b[0m\n",
      "\u001b[36m        \"name\"\u001b[0m:\u001b[32m \"B11\"\u001b[0m,\u001b[36m\u001b[0m\n",
      "\u001b[36m        \"common_name\"\u001b[0m:\u001b[32m \"swir16\"\u001b[0m,\u001b[36m\u001b[0m\n",
      "\u001b[36m        \"center_wavelength\"\u001b[0m:\u001b[95m 1.6137\u001b[0m,\u001b[36m\u001b[0m\n",
      "\u001b[36m        \"full_width_half_max\"\u001b[0m:\u001b[95m 0.143\u001b[0m\n",
      "\u001b[95m      \u001b[0m}\n",
      "    ],\u001b[36m\u001b[0m\n",
      "\u001b[36m    \"href\"\u001b[0m:\u001b[32m \"https://sentinel-cogs.s3.us-west-2.amazonaws.com/sentinel-s2-l2a-cogs/53/H/PA/2021/7/S2B_53HPA_20210723_0_L2A/B11.tif\"\u001b[0m,\u001b[36m\u001b[0m\n",
      "\u001b[36m    \"proj:shape\"\u001b[0m: [\u001b[95m\u001b[0m\n",
      "\u001b[95m      5490\u001b[0m,\u001b[95m\u001b[0m\n",
      "\u001b[95m      5490\u001b[0m\n",
      "\u001b[95m    \u001b[0m],\u001b[36m\u001b[0m\n",
      "\u001b[36m    \"proj:transform\"\u001b[0m: [\u001b[95m\u001b[0m\n",
      "\u001b[95m      20\u001b[0m,\u001b[95m\u001b[0m\n",
      "\u001b[95m      0\u001b[0m,\u001b[95m\u001b[0m\n",
      "\u001b[95m      600000\u001b[0m,\u001b[95m\u001b[0m\n",
      "\u001b[95m      0\u001b[0m,\u001b[95m\u001b[0m\n",
      "\u001b[95m      -20\u001b[0m,\u001b[95m\u001b[0m\n",
      "\u001b[95m      6100000\u001b[0m,\u001b[95m\u001b[0m\n",
      "\u001b[95m      0\u001b[0m,\u001b[95m\u001b[0m\n",
      "\u001b[95m      0\u001b[0m,\u001b[95m\u001b[0m\n",
      "\u001b[95m      1\u001b[0m\n",
      "\u001b[95m    \u001b[0m]\n",
      "  },\u001b[36m\u001b[0m\n",
      "\u001b[36m  \"B12\"\u001b[0m: {\u001b[36m\u001b[0m\n",
      "\u001b[36m    \"title\"\u001b[0m:\u001b[32m \"Band 12 (swir22)\"\u001b[0m,\u001b[36m\u001b[0m\n",
      "\u001b[36m    \"type\"\u001b[0m:\u001b[32m \"image/tiff; application=geotiff; profile=cloud-optimized\"\u001b[0m,\u001b[36m\u001b[0m\n",
      "\u001b[36m    \"roles\"\u001b[0m: [\u001b[32m\u001b[0m\n",
      "\u001b[32m      \"data\"\u001b[0m\n",
      "    ],\u001b[36m\u001b[0m\n",
      "\u001b[36m    \"gsd\"\u001b[0m:\u001b[95m 20\u001b[0m,\u001b[36m\u001b[0m\n",
      "\u001b[36m    \"eo:bands\"\u001b[0m: [\n",
      "      {\u001b[36m\u001b[0m\n",
      "\u001b[36m        \"name\"\u001b[0m:\u001b[32m \"B12\"\u001b[0m,\u001b[36m\u001b[0m\n",
      "\u001b[36m        \"common_name\"\u001b[0m:\u001b[32m \"swir22\"\u001b[0m,\u001b[36m\u001b[0m\n",
      "\u001b[36m        \"center_wavelength\"\u001b[0m:\u001b[95m 2.22024\u001b[0m,\u001b[36m\u001b[0m\n",
      "\u001b[36m        \"full_width_half_max\"\u001b[0m:\u001b[95m 0.242\u001b[0m\n",
      "\u001b[95m      \u001b[0m}\n",
      "    ],\u001b[36m\u001b[0m\n",
      "\u001b[36m    \"href\"\u001b[0m:\u001b[32m \"https://sentinel-cogs.s3.us-west-2.amazonaws.com/sentinel-s2-l2a-cogs/53/H/PA/2021/7/S2B_53HPA_20210723_0_L2A/B12.tif\"\u001b[0m,\u001b[36m\u001b[0m\n",
      "\u001b[36m    \"proj:shape\"\u001b[0m: [\u001b[95m\u001b[0m\n",
      "\u001b[95m      5490\u001b[0m,\u001b[95m\u001b[0m\n",
      "\u001b[95m      5490\u001b[0m\n",
      "\u001b[95m    \u001b[0m],\u001b[36m\u001b[0m\n",
      "\u001b[36m    \"proj:transform\"\u001b[0m: [\u001b[95m\u001b[0m\n",
      "\u001b[95m      20\u001b[0m,\u001b[95m\u001b[0m\n",
      "\u001b[95m      0\u001b[0m,\u001b[95m\u001b[0m\n",
      "\u001b[95m      600000\u001b[0m,\u001b[95m\u001b[0m\n",
      "\u001b[95m      0\u001b[0m,\u001b[95m\u001b[0m\n",
      "\u001b[95m      -20\u001b[0m,\u001b[95m\u001b[0m\n",
      "\u001b[95m      6100000\u001b[0m,\u001b[95m\u001b[0m\n",
      "\u001b[95m      0\u001b[0m,\u001b[95m\u001b[0m\n",
      "\u001b[95m      0\u001b[0m,\u001b[95m\u001b[0m\n",
      "\u001b[95m      1\u001b[0m\n",
      "\u001b[95m    \u001b[0m]\n",
      "  },\u001b[36m\u001b[0m\n",
      "\u001b[36m  \"AOT\"\u001b[0m: {\u001b[36m\u001b[0m\n",
      "\u001b[36m    \"title\"\u001b[0m:\u001b[32m \"Aerosol Optical Thickness (AOT)\"\u001b[0m,\u001b[36m\u001b[0m\n",
      "\u001b[36m    \"type\"\u001b[0m:\u001b[32m \"image/tiff; application=geotiff; profile=cloud-optimized\"\u001b[0m,\u001b[36m\u001b[0m\n",
      "\u001b[36m    \"roles\"\u001b[0m: [\u001b[32m\u001b[0m\n",
      "\u001b[32m      \"data\"\u001b[0m\n",
      "    ],\u001b[36m\u001b[0m\n",
      "\u001b[36m    \"href\"\u001b[0m:\u001b[32m \"https://sentinel-cogs.s3.us-west-2.amazonaws.com/sentinel-s2-l2a-cogs/53/H/PA/2021/7/S2B_53HPA_20210723_0_L2A/AOT.tif\"\u001b[0m,\u001b[36m\u001b[0m\n",
      "\u001b[36m    \"proj:shape\"\u001b[0m: [\u001b[95m\u001b[0m\n",
      "\u001b[95m      1830\u001b[0m,\u001b[95m\u001b[0m\n",
      "\u001b[95m      1830\u001b[0m\n",
      "\u001b[95m    \u001b[0m],\u001b[36m\u001b[0m\n",
      "\u001b[36m    \"proj:transform\"\u001b[0m: [\u001b[95m\u001b[0m\n",
      "\u001b[95m      60\u001b[0m,\u001b[95m\u001b[0m\n",
      "\u001b[95m      0\u001b[0m,\u001b[95m\u001b[0m\n",
      "\u001b[95m      600000\u001b[0m,\u001b[95m\u001b[0m\n",
      "\u001b[95m      0\u001b[0m,\u001b[95m\u001b[0m\n",
      "\u001b[95m      -60\u001b[0m,\u001b[95m\u001b[0m\n",
      "\u001b[95m      6100000\u001b[0m,\u001b[95m\u001b[0m\n",
      "\u001b[95m      0\u001b[0m,\u001b[95m\u001b[0m\n",
      "\u001b[95m      0\u001b[0m,\u001b[95m\u001b[0m\n",
      "\u001b[95m      1\u001b[0m\n",
      "\u001b[95m    \u001b[0m]\n",
      "  },\u001b[36m\u001b[0m\n",
      "\u001b[36m  \"WVP\"\u001b[0m: {\u001b[36m\u001b[0m\n",
      "\u001b[36m    \"title\"\u001b[0m:\u001b[32m \"Water Vapour (WVP)\"\u001b[0m,\u001b[36m\u001b[0m\n",
      "\u001b[36m    \"type\"\u001b[0m:\u001b[32m \"image/tiff; application=geotiff; profile=cloud-optimized\"\u001b[0m,\u001b[36m\u001b[0m\n",
      "\u001b[36m    \"roles\"\u001b[0m: [\u001b[32m\u001b[0m\n",
      "\u001b[32m      \"data\"\u001b[0m\n",
      "    ],\u001b[36m\u001b[0m\n",
      "\u001b[36m    \"href\"\u001b[0m:\u001b[32m \"https://sentinel-cogs.s3.us-west-2.amazonaws.com/sentinel-s2-l2a-cogs/53/H/PA/2021/7/S2B_53HPA_20210723_0_L2A/WVP.tif\"\u001b[0m,\u001b[36m\u001b[0m\n",
      "\u001b[36m    \"proj:shape\"\u001b[0m: [\u001b[95m\u001b[0m\n",
      "\u001b[95m      10980\u001b[0m,\u001b[95m\u001b[0m\n",
      "\u001b[95m      10980\u001b[0m\n",
      "\u001b[95m    \u001b[0m],\u001b[36m\u001b[0m\n",
      "\u001b[36m    \"proj:transform\"\u001b[0m: [\u001b[95m\u001b[0m\n",
      "\u001b[95m      10\u001b[0m,\u001b[95m\u001b[0m\n",
      "\u001b[95m      0\u001b[0m,\u001b[95m\u001b[0m\n",
      "\u001b[95m      600000\u001b[0m,\u001b[95m\u001b[0m\n",
      "\u001b[95m      0\u001b[0m,\u001b[95m\u001b[0m\n",
      "\u001b[95m      -10\u001b[0m,\u001b[95m\u001b[0m\n",
      "\u001b[95m      6100000\u001b[0m,\u001b[95m\u001b[0m\n",
      "\u001b[95m      0\u001b[0m,\u001b[95m\u001b[0m\n",
      "\u001b[95m      0\u001b[0m,\u001b[95m\u001b[0m\n",
      "\u001b[95m      1\u001b[0m\n",
      "\u001b[95m    \u001b[0m]\n",
      "  },\u001b[36m\u001b[0m\n",
      "\u001b[36m  \"SCL\"\u001b[0m: {\u001b[36m\u001b[0m\n",
      "\u001b[36m    \"title\"\u001b[0m:\u001b[32m \"Scene Classification Map (SCL)\"\u001b[0m,\u001b[36m\u001b[0m\n",
      "\u001b[36m    \"type\"\u001b[0m:\u001b[32m \"image/tiff; application=geotiff; profile=cloud-optimized\"\u001b[0m,\u001b[36m\u001b[0m\n",
      "\u001b[36m    \"roles\"\u001b[0m: [\u001b[32m\u001b[0m\n",
      "\u001b[32m      \"data\"\u001b[0m\n",
      "    ],\u001b[36m\u001b[0m\n",
      "\u001b[36m    \"href\"\u001b[0m:\u001b[32m \"https://sentinel-cogs.s3.us-west-2.amazonaws.com/sentinel-s2-l2a-cogs/53/H/PA/2021/7/S2B_53HPA_20210723_0_L2A/SCL.tif\"\u001b[0m,\u001b[36m\u001b[0m\n",
      "\u001b[36m    \"proj:shape\"\u001b[0m: [\u001b[95m\u001b[0m\n",
      "\u001b[95m      5490\u001b[0m,\u001b[95m\u001b[0m\n",
      "\u001b[95m      5490\u001b[0m\n",
      "\u001b[95m    \u001b[0m],\u001b[36m\u001b[0m\n",
      "\u001b[36m    \"proj:transform\"\u001b[0m: [\u001b[95m\u001b[0m\n",
      "\u001b[95m      20\u001b[0m,\u001b[95m\u001b[0m\n",
      "\u001b[95m      0\u001b[0m,\u001b[95m\u001b[0m\n",
      "\u001b[95m      600000\u001b[0m,\u001b[95m\u001b[0m\n",
      "\u001b[95m      0\u001b[0m,\u001b[95m\u001b[0m\n",
      "\u001b[95m      -20\u001b[0m,\u001b[95m\u001b[0m\n",
      "\u001b[95m      6100000\u001b[0m,\u001b[95m\u001b[0m\n",
      "\u001b[95m      0\u001b[0m,\u001b[95m\u001b[0m\n",
      "\u001b[95m      0\u001b[0m,\u001b[95m\u001b[0m\n",
      "\u001b[95m      1\u001b[0m\n",
      "\u001b[95m    \u001b[0m]\n",
      "  }\n",
      "}\n"
     ]
    }
   ],
   "source": [
    "cat output.json | yq e '.json_output' -o=json -"
   ]
  },
  {
   "cell_type": "code",
   "execution_count": 16,
   "metadata": {
    "vscode": {
     "languageId": "shellscript"
    }
   },
   "outputs": [
    {
     "name": "stdout",
     "output_type": "stream",
     "text": [
      "{\u001b[36m\u001b[0m\n",
      "\u001b[36m  \"location\"\u001b[0m:\u001b[32m \"file:///data/work/github/eoepca-plus/how-to/docs/red.png\"\u001b[0m,\u001b[36m\u001b[0m\n",
      "\u001b[36m  \"basename\"\u001b[0m:\u001b[32m \"red.png\"\u001b[0m,\u001b[36m\u001b[0m\n",
      "\u001b[36m  \"class\"\u001b[0m:\u001b[32m \"File\"\u001b[0m,\u001b[36m\u001b[0m\n",
      "\u001b[36m  \"checksum\"\u001b[0m:\u001b[32m \"sha1$3b0ab5ca89bc640e276ac48c6d37a900a4493708\"\u001b[0m,\u001b[36m\u001b[0m\n",
      "\u001b[36m  \"size\"\u001b[0m:\u001b[95m 103995863\u001b[0m,\u001b[36m\u001b[0m\n",
      "\u001b[36m  \"path\"\u001b[0m:\u001b[32m \"/data/work/github/eoepca-plus/how-to/docs/red.png\"\u001b[0m\n",
      "}\n"
     ]
    }
   ],
   "source": [
    "cat output.json | yq e '.preview' -o=json -"
   ]
  },
  {
   "cell_type": "markdown",
   "metadata": {},
   "source": [
    "## Key Takeaways\n",
    "\n",
    "* Capturing JSON:\n",
    "\n",
    "  * Use `stdout` to redirect the JSON output to a file.\n",
    "  * Parse and extract specific fields using `outputEval`.\n",
    "\n",
    "* Reusing JSON:\n",
    "\n",
    "  * Use `valueFrom` in arguments to select fields dynamically from the JSON input.\n",
    "  * Process the selected field (e.g., generate a file based on its href).\n",
    "\n",
    "By focusing on `stdout` and `outputBinding`, this guide highlights how CWL facilitates JSON data flow between tools."
   ]
  }
 ],
 "metadata": {
  "kernelspec": {
   "display_name": "Bash",
   "language": "bash",
   "name": "bash"
  },
  "language_info": {
   "codemirror_mode": "shell",
   "file_extension": ".sh",
   "mimetype": "text/x-sh",
   "name": "bash"
  }
 },
 "nbformat": 4,
 "nbformat_minor": 2
}
